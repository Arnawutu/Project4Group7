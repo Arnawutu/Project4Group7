{
  "cells": [
    {
      "cell_type": "code",
      "execution_count": 1,
      "id": "4c0f3273-f27c-48b4-8754-c736c907c3cf",
      "metadata": {
        "tags": [],
        "id": "4c0f3273-f27c-48b4-8754-c736c907c3cf",
        "colab": {
          "base_uri": "https://localhost:8080/"
        },
        "outputId": "d1f10b6f-ed4a-4c7c-aca3-a962717b0c55"
      },
      "outputs": [
        {
          "output_type": "stream",
          "name": "stdout",
          "text": [
            "Collecting pyspark\n",
            "  Downloading pyspark-3.5.0.tar.gz (316.9 MB)\n",
            "\u001b[2K     \u001b[90m━━━━━━━━━━━━━━━━━━━━━━━━━━━━━━━━━━━━━━━━\u001b[0m \u001b[32m316.9/316.9 MB\u001b[0m \u001b[31m3.3 MB/s\u001b[0m eta \u001b[36m0:00:00\u001b[0m\n",
            "\u001b[?25h  Preparing metadata (setup.py) ... \u001b[?25l\u001b[?25hdone\n",
            "Requirement already satisfied: py4j==0.10.9.7 in /usr/local/lib/python3.10/dist-packages (from pyspark) (0.10.9.7)\n",
            "Building wheels for collected packages: pyspark\n",
            "  Building wheel for pyspark (setup.py) ... \u001b[?25l\u001b[?25hdone\n",
            "  Created wheel for pyspark: filename=pyspark-3.5.0-py2.py3-none-any.whl size=317425345 sha256=79e55a1ca97f6ca92fae6a9f46725f595bd26c643c70a205d88af37bb0a2d26b\n",
            "  Stored in directory: /root/.cache/pip/wheels/41/4e/10/c2cf2467f71c678cfc8a6b9ac9241e5e44a01940da8fbb17fc\n",
            "Successfully built pyspark\n",
            "Installing collected packages: pyspark\n",
            "Successfully installed pyspark-3.5.0\n",
            "Requirement already satisfied: py4j in /usr/local/lib/python3.10/dist-packages (0.10.9.7)\n"
          ]
        }
      ],
      "source": [
        "# Initial imports\n",
        "import pandas as pd\n",
        "import numpy as np\n",
        "from pathlib import Path\n",
        "from sklearn.model_selection import train_test_split\n",
        "from sklearn.preprocessing import StandardScaler\n",
        "from sklearn.ensemble import RandomForestClassifier\n",
        "from sklearn.metrics import classification_report, confusion_matrix, accuracy_score\n",
        "from pprint import pprint\n",
        "import psycopg2\n",
        "from psycopg2 import sql\n",
        "\n",
        "#Spark imports\n",
        "!wget -q https://dlcdn.apache.org/spark/spark-3.5.0/spark-3.5.0-bin-hadoop3.tgz\n",
        "!tar xf spark-3.5.0-bin-hadoop3.tgz\n",
        "!pip install -q findspark\n",
        "!pip install pyspark\n",
        "!pip install py4j\n",
        "import os\n",
        "import sys\n",
        "\n",
        "\n",
        "# Start a SparkSession\n",
        "import findspark\n",
        "findspark.init()\n",
        "\n",
        "\n",
        "%matplotlib inline"
      ]
    },
    {
      "cell_type": "code",
      "execution_count": 2,
      "id": "02bf9db2-12df-471b-ba04-b3845b120eed",
      "metadata": {
        "tags": [],
        "id": "02bf9db2-12df-471b-ba04-b3845b120eed"
      },
      "outputs": [],
      "source": [
        "# Import packages\n",
        "from pyspark.sql import SparkSession\n",
        "# Import the time module so we can time our queries.\n",
        "import time\n",
        "# Create a SparkSession\n",
        "spark = SparkSession.builder \\\n",
        "    .appName(\"SqlSpark\") \\\n",
        "    .config(\"spark.executor.memory\", \"2g\") \\\n",
        "    .config(\"spark.driver.memory\", \"2g\") \\\n",
        "    .getOrCreate()"
      ]
    },
    {
      "cell_type": "code",
      "execution_count": 3,
      "id": "ea113659-b772-4e3f-9016-40b04d06ec94",
      "metadata": {
        "tags": [],
        "id": "ea113659-b772-4e3f-9016-40b04d06ec94",
        "colab": {
          "base_uri": "https://localhost:8080/"
        },
        "outputId": "7cb6c0c2-dfd8-42a7-e631-6d5ab2e7fd6a"
      },
      "outputs": [
        {
          "output_type": "stream",
          "name": "stdout",
          "text": [
            "+----------+---------+------------+---+---+-----------+----------+--------+--------------+-------+-------+-------------------+-----------------------+-----------------------+--------------+------------+-----------------------+------+------------------+-------------+-------------------------------+-------------------+-------------+----------+-----------------+-----------------+------------------+-----+-----+------------+------------+--------------+\n",
            "|Patient ID|  Country|     Capital|Age|Sex|Cholesterol|Heart Rate|Diabetes|Family History|Smoking|Obesity|Alcohol Consumption|Exercise Hours Per Week|Previous Heart Problems|Medication Use|Stress Level|Sedentary Hours Per Day|Income|               BMI|Triglycerides|Physical Activity Days Per Week|Sleep Hours Per Day|    Continent|Hemisphere|Heart Attack Risk|Systolic Pressure|Diastolic Pressure|  lat| long|Diet_Average|Diet_Healthy|Diet_Unhealthy|\n",
            "+----------+---------+------------+---+---+-----------+----------+--------+--------------+-------+-------+-------------------+-----------------------+-----------------------+--------------+------------+-----------------------+------+------------------+-------------+-------------------------------+-------------------+-------------+----------+-----------------+-----------------+------------------+-----+-----+------------+------------+--------------+\n",
            "|   BMW7812|Argentina|Buenos Aires| 67|  1|        208|        72|       0|             0|      1|      0|                  0|      4.168188835442079|                      0|             0|           9|     6.6150014529140595|261404|31.251232725295402|          286|                              0|                  6|South America|         1|                0|              158|                88|-34.0|-64.0|           1|           0|             0|\n",
            "|   CZE1114|   Canada|      Ottawa| 21|  1|        389|        98|       1|             1|      1|      1|                  1|     1.8132416178634458|                      1|             0|           1|      4.963458839757678|285768|  27.1949733519874|          235|                              1|                  7|North America|         0|                0|              165|                93| 60.0|-95.0|           0|           0|             1|\n",
            "|   BNI9906|   France|       Paris| 21|  0|        324|        72|       1|             0|      0|      0|                  0|     2.0783529861178884|                      1|             1|           9|      9.463425838029828|235282|28.176570683909873|          587|                              4|                  4|       Europe|         0|                0|              174|                99| 46.0|  2.0|           0|           1|             0|\n",
            "|   JLN3497|   Canada|      Ottawa| 84|  1|        383|        73|       1|             1|      1|      0|                  1|       9.82812959348533|                      1|             0|           9|      7.648980824461007|125640|36.464704293082846|          378|                              3|                  4|North America|         0|                0|              163|               100| 60.0|-95.0|           1|           0|             0|\n",
            "|   GFO8847| Thailand|     Bangkok| 66|  1|        318|        93|       1|             1|      1|      1|                  0|      5.804298820315434|                      1|             0|           6|     1.5148209264291386|160555|21.809144180619754|          231|                              1|                  5|         Asia|         0|                0|               91|                88| 15.0|100.0|           0|           0|             1|\n",
            "+----------+---------+------------+---+---+-----------+----------+--------+--------------+-------+-------+-------------------+-----------------------+-----------------------+--------------+------------+-----------------------+------+------------------+-------------+-------------------------------+-------------------+-------------+----------+-----------------+-----------------+------------------+-----+-----+------------+------------+--------------+\n",
            "only showing top 5 rows\n",
            "\n"
          ]
        }
      ],
      "source": [
        "# Read in data from S3 Bucket\n",
        "from pyspark import SparkFiles\n",
        "url = \"https://aws-project-4.s3.ca-central-1.amazonaws.com/encoded_df.csv\"\n",
        "spark.sparkContext.addFile(url)\n",
        "encoded_df = spark.read.csv(SparkFiles.get(\"encoded_df.csv\"), sep=\",\", header=True)\n",
        "\n",
        "# Display the DataFrame\n",
        "encoded_df.show(5)"
      ]
    },
    {
      "cell_type": "code",
      "execution_count": 4,
      "id": "e44e967b-44d0-4f56-9001-3a7b1d696bd1",
      "metadata": {
        "id": "e44e967b-44d0-4f56-9001-3a7b1d696bd1",
        "colab": {
          "base_uri": "https://localhost:8080/"
        },
        "outputId": "4fa0e623-e4fd-4f38-8dba-d5d6b3f788e2"
      },
      "outputs": [
        {
          "output_type": "execute_result",
          "data": {
            "text/plain": [
              "Patient ID                         object\n",
              "Country                            object\n",
              "Capital                            object\n",
              "Age                                object\n",
              "Sex                                object\n",
              "Cholesterol                        object\n",
              "Heart Rate                         object\n",
              "Diabetes                           object\n",
              "Family History                     object\n",
              "Smoking                            object\n",
              "Obesity                            object\n",
              "Alcohol Consumption                object\n",
              "Exercise Hours Per Week            object\n",
              "Previous Heart Problems            object\n",
              "Medication Use                     object\n",
              "Stress Level                       object\n",
              "Sedentary Hours Per Day            object\n",
              "Income                             object\n",
              "BMI                                object\n",
              "Triglycerides                      object\n",
              "Physical Activity Days Per Week    object\n",
              "Sleep Hours Per Day                object\n",
              "Continent                          object\n",
              "Hemisphere                         object\n",
              "Heart Attack Risk                  object\n",
              "Systolic Pressure                  object\n",
              "Diastolic Pressure                 object\n",
              "lat                                object\n",
              "long                               object\n",
              "Diet_Average                       object\n",
              "Diet_Healthy                       object\n",
              "Diet_Unhealthy                     object\n",
              "dtype: object"
            ]
          },
          "metadata": {},
          "execution_count": 4
        }
      ],
      "source": [
        "encoded_df = encoded_df.toPandas()\n",
        "encoded_df.dtypes"
      ]
    },
    {
      "cell_type": "code",
      "execution_count": 5,
      "id": "b81c45f6-6fec-4ff1-90ab-ff6a82e990e2",
      "metadata": {
        "tags": [],
        "id": "b81c45f6-6fec-4ff1-90ab-ff6a82e990e2",
        "colab": {
          "base_uri": "https://localhost:8080/"
        },
        "outputId": "a9b237c5-d793-46c3-8656-687bf63e2b1b"
      },
      "outputs": [
        {
          "output_type": "execute_result",
          "data": {
            "text/plain": [
              "Patient ID                          object\n",
              "Country                             object\n",
              "Capital                             object\n",
              "Age                                  int64\n",
              "Sex                                 object\n",
              "Cholesterol                          int64\n",
              "Heart Rate                           int64\n",
              "Diabetes                             int64\n",
              "Family History                       int64\n",
              "Smoking                              int64\n",
              "Obesity                              int64\n",
              "Alcohol Consumption                  int64\n",
              "Exercise Hours Per Week            float64\n",
              "Previous Heart Problems              int64\n",
              "Medication Use                       int64\n",
              "Stress Level                         int64\n",
              "Sedentary Hours Per Day            float64\n",
              "Income                               int64\n",
              "BMI                                float64\n",
              "Triglycerides                        int64\n",
              "Physical Activity Days Per Week      int64\n",
              "Sleep Hours Per Day                  int64\n",
              "Continent                           object\n",
              "Hemisphere                          object\n",
              "Heart Attack Risk                   object\n",
              "Systolic Pressure                    int64\n",
              "Diastolic Pressure                   int64\n",
              "lat                                float64\n",
              "long                               float64\n",
              "Diet_Average                         int64\n",
              "Diet_Healthy                         int64\n",
              "Diet_Unhealthy                       int64\n",
              "dtype: object"
            ]
          },
          "metadata": {},
          "execution_count": 5
        }
      ],
      "source": [
        "# Convert columns to the desired data types\n",
        "encoded_df['Age'] = encoded_df['Age'].astype(int)\n",
        "encoded_df['Cholesterol'] = encoded_df['Cholesterol'].astype(int)\n",
        "encoded_df['Heart Rate'] = encoded_df['Heart Rate'].astype(int)\n",
        "encoded_df['Diabetes'] = encoded_df['Diabetes'].astype(int)\n",
        "encoded_df['Family History'] = encoded_df['Family History'].astype(int)\n",
        "encoded_df['Smoking'] = encoded_df['Smoking'].astype(int)\n",
        "encoded_df['Obesity'] = encoded_df['Obesity'].astype(int)\n",
        "encoded_df['Alcohol Consumption'] = encoded_df['Alcohol Consumption'].astype(int)\n",
        "encoded_df['Exercise Hours Per Week'] = encoded_df['Exercise Hours Per Week'].astype(float)\n",
        "encoded_df['Previous Heart Problems'] = encoded_df['Previous Heart Problems'].astype(int)\n",
        "encoded_df['Medication Use'] = encoded_df['Medication Use'].astype(int)\n",
        "encoded_df['Stress Level'] = encoded_df['Stress Level'].astype(int)\n",
        "encoded_df['Sedentary Hours Per Day'] = encoded_df['Sedentary Hours Per Day'].astype(float)\n",
        "encoded_df['Income'] = encoded_df['Income'].astype(int)\n",
        "encoded_df['BMI'] = encoded_df['BMI'].astype(float)\n",
        "encoded_df['Triglycerides'] = encoded_df['Triglycerides'].astype(int)\n",
        "encoded_df['Physical Activity Days Per Week'] = encoded_df['Physical Activity Days Per Week'].astype(int)\n",
        "encoded_df['Sleep Hours Per Day'] = encoded_df['Sleep Hours Per Day'].astype(int)\n",
        "encoded_df['Systolic Pressure'] = encoded_df['Systolic Pressure'].astype(int)\n",
        "encoded_df['Diastolic Pressure'] = encoded_df['Diastolic Pressure'].astype(int)\n",
        "encoded_df['lat'] = encoded_df['lat'].astype(float)\n",
        "encoded_df['long'] = encoded_df['long'].astype(float)\n",
        "encoded_df['Diet_Average'] = encoded_df['Diet_Average'].astype(int)\n",
        "encoded_df['Diet_Healthy'] = encoded_df['Diet_Healthy'].astype(int)\n",
        "encoded_df['Diet_Unhealthy'] = encoded_df['Diet_Unhealthy'].astype(int)\n",
        "\n",
        "# Print the data types of all columns\n",
        "encoded_df.dtypes\n"
      ]
    },
    {
      "cell_type": "markdown",
      "id": "0549cfcb",
      "metadata": {
        "id": "0549cfcb"
      },
      "source": [
        "# Separate features and target variable"
      ]
    },
    {
      "cell_type": "code",
      "execution_count": 24,
      "id": "251b2255",
      "metadata": {
        "tags": [],
        "id": "251b2255",
        "colab": {
          "base_uri": "https://localhost:8080/"
        },
        "outputId": "43144855-e8e6-482c-ab1c-1d636e351b40"
      },
      "outputs": [
        {
          "output_type": "stream",
          "name": "stdout",
          "text": [
            "Index(['Age', 'Sex', 'Cholesterol', 'Heart Rate', 'Diabetes', 'Family History',\n",
            "       'Smoking', 'Obesity', 'Alcohol Consumption', 'Previous Heart Problems',\n",
            "       'Medication Use', 'BMI', 'Triglycerides', 'Systolic Pressure',\n",
            "       'Diastolic Pressure'],\n",
            "      dtype='object')\n"
          ]
        }
      ],
      "source": [
        "# Dropping specified columns to create feature matrix X and target vector y\n",
        "X = encoded_df.drop(['Exercise Hours Per Week',\n",
        "                     'Stress Level',\n",
        "                     'Sedentary Hours Per Day',\n",
        "                     'Income',\n",
        "                     'Physical Activity Days Per Week',\n",
        "                     'Sleep Hours Per Day',\n",
        "                     'Heart Attack Risk',\n",
        "                     'Diet_Average',\n",
        "                     'Diet_Healthy',\n",
        "                     'Diet_Unhealthy',\n",
        "                     'Country',\n",
        "                     'Capital',\n",
        "                     'lat',\n",
        "                     'long',\n",
        "                     'Continent',\n",
        "                     'Patient ID',\n",
        "                     'Hemisphere'], axis=1)\n",
        "\n",
        "y = encoded_df['Heart Attack Risk']\n",
        "\n",
        "# Printing the columns in X\n",
        "print(X.columns)\n"
      ]
    },
    {
      "cell_type": "markdown",
      "id": "8060bdfa",
      "metadata": {
        "id": "8060bdfa"
      },
      "source": [
        "# Split the data into training and testing sets"
      ]
    },
    {
      "cell_type": "code",
      "execution_count": 25,
      "id": "2b8a87ce",
      "metadata": {
        "tags": [],
        "id": "2b8a87ce"
      },
      "outputs": [],
      "source": [
        "X_train, X_test, y_train, y_test = train_test_split(X, y, test_size=0.2, random_state=42)"
      ]
    },
    {
      "cell_type": "code",
      "execution_count": 26,
      "id": "193ed101",
      "metadata": {
        "id": "193ed101"
      },
      "outputs": [],
      "source": [
        "# Creating StandardScaler instance\n",
        "scaler = StandardScaler()"
      ]
    },
    {
      "cell_type": "code",
      "execution_count": 27,
      "id": "607960e8",
      "metadata": {
        "id": "607960e8"
      },
      "outputs": [],
      "source": [
        "# Fitting Standard Scaller\n",
        "X_scaler = scaler.fit(X_train)"
      ]
    },
    {
      "cell_type": "code",
      "execution_count": 28,
      "id": "b670e0b1",
      "metadata": {
        "id": "b670e0b1"
      },
      "outputs": [],
      "source": [
        "# Scaling data\n",
        "X_train_scaled = X_scaler.transform(X_train)\n",
        "X_test_scaled = X_scaler.transform(X_test)"
      ]
    },
    {
      "cell_type": "code",
      "execution_count": 29,
      "id": "f61c8d53-9d32-4c52-b5d2-3e466adb6a44",
      "metadata": {
        "id": "f61c8d53-9d32-4c52-b5d2-3e466adb6a44"
      },
      "outputs": [],
      "source": [
        "# Create a random forest classifier\n",
        "rf_model = RandomForestClassifier(n_estimators=100, random_state=78)"
      ]
    },
    {
      "cell_type": "code",
      "execution_count": 30,
      "id": "6e31f49b",
      "metadata": {
        "id": "6e31f49b"
      },
      "outputs": [],
      "source": [
        "# Fit the model and use .ravel()on the \"y_train\" data.\n",
        "rf_model = rf_model.fit(X_train_scaled, y_train)"
      ]
    },
    {
      "cell_type": "code",
      "execution_count": 31,
      "id": "bac213f1-5c3b-46f0-8012-b07170849d24",
      "metadata": {
        "id": "bac213f1-5c3b-46f0-8012-b07170849d24"
      },
      "outputs": [],
      "source": [
        "# Making predictions using the testing data\n",
        "rf_predictions = rf_model.predict(X_test_scaled)"
      ]
    },
    {
      "cell_type": "code",
      "execution_count": 32,
      "id": "af3ead17-d1bd-4ff0-8d40-9d9b5031539a",
      "metadata": {
        "tags": [],
        "id": "af3ead17-d1bd-4ff0-8d40-9d9b5031539a",
        "colab": {
          "base_uri": "https://localhost:8080/"
        },
        "outputId": "bbc347d6-53a6-4a7e-8c6e-a40093f58073"
      },
      "outputs": [
        {
          "output_type": "stream",
          "name": "stdout",
          "text": [
            "Training Data Score: 1.0\n",
            "Testing Data Score: 0.6252139189960069\n"
          ]
        }
      ],
      "source": [
        "print(f\"Training Data Score: {rf_model.score(X_train_scaled, y_train)}\")\n",
        "print(f\"Testing Data Score: {rf_model.score(X_test_scaled, y_test)}\")"
      ]
    },
    {
      "cell_type": "code",
      "execution_count": 33,
      "id": "db9108fc-5ea1-4377-9f75-95da6c31e40c",
      "metadata": {
        "id": "db9108fc-5ea1-4377-9f75-95da6c31e40c"
      },
      "outputs": [],
      "source": [
        "# Calculating the confusion matrix\n",
        "cm = confusion_matrix(y_test, rf_predictions)\n",
        "cm_df = pd.DataFrame(\n",
        "    cm, index=[\"Actual 0\", \"Actual 1\"], columns=[\"Predicted 0\", \"Predicted 1\"]\n",
        ")\n",
        "\n",
        "# Calculating the accuracy score\n",
        "acc_score = accuracy_score(y_test, rf_predictions)"
      ]
    },
    {
      "cell_type": "code",
      "execution_count": 34,
      "id": "d5921f81-4cae-44d7-97d7-48366409471e",
      "metadata": {
        "tags": [],
        "id": "d5921f81-4cae-44d7-97d7-48366409471e",
        "colab": {
          "base_uri": "https://localhost:8080/",
          "height": 333
        },
        "outputId": "5c0e06d9-ba17-4fc6-9b3e-51f76af23f3f"
      },
      "outputs": [
        {
          "output_type": "stream",
          "name": "stdout",
          "text": [
            "Confusion Matrix\n"
          ]
        },
        {
          "output_type": "display_data",
          "data": {
            "text/plain": [
              "          Predicted 0  Predicted 1\n",
              "Actual 0         1076           49\n",
              "Actual 1          608           20"
            ],
            "text/html": [
              "\n",
              "  <div id=\"df-3d0d0bfe-fa53-41c7-a1ec-07b206052e31\" class=\"colab-df-container\">\n",
              "    <div>\n",
              "<style scoped>\n",
              "    .dataframe tbody tr th:only-of-type {\n",
              "        vertical-align: middle;\n",
              "    }\n",
              "\n",
              "    .dataframe tbody tr th {\n",
              "        vertical-align: top;\n",
              "    }\n",
              "\n",
              "    .dataframe thead th {\n",
              "        text-align: right;\n",
              "    }\n",
              "</style>\n",
              "<table border=\"1\" class=\"dataframe\">\n",
              "  <thead>\n",
              "    <tr style=\"text-align: right;\">\n",
              "      <th></th>\n",
              "      <th>Predicted 0</th>\n",
              "      <th>Predicted 1</th>\n",
              "    </tr>\n",
              "  </thead>\n",
              "  <tbody>\n",
              "    <tr>\n",
              "      <th>Actual 0</th>\n",
              "      <td>1076</td>\n",
              "      <td>49</td>\n",
              "    </tr>\n",
              "    <tr>\n",
              "      <th>Actual 1</th>\n",
              "      <td>608</td>\n",
              "      <td>20</td>\n",
              "    </tr>\n",
              "  </tbody>\n",
              "</table>\n",
              "</div>\n",
              "    <div class=\"colab-df-buttons\">\n",
              "\n",
              "  <div class=\"colab-df-container\">\n",
              "    <button class=\"colab-df-convert\" onclick=\"convertToInteractive('df-3d0d0bfe-fa53-41c7-a1ec-07b206052e31')\"\n",
              "            title=\"Convert this dataframe to an interactive table.\"\n",
              "            style=\"display:none;\">\n",
              "\n",
              "  <svg xmlns=\"http://www.w3.org/2000/svg\" height=\"24px\" viewBox=\"0 -960 960 960\">\n",
              "    <path d=\"M120-120v-720h720v720H120Zm60-500h600v-160H180v160Zm220 220h160v-160H400v160Zm0 220h160v-160H400v160ZM180-400h160v-160H180v160Zm440 0h160v-160H620v160ZM180-180h160v-160H180v160Zm440 0h160v-160H620v160Z\"/>\n",
              "  </svg>\n",
              "    </button>\n",
              "\n",
              "  <style>\n",
              "    .colab-df-container {\n",
              "      display:flex;\n",
              "      gap: 12px;\n",
              "    }\n",
              "\n",
              "    .colab-df-convert {\n",
              "      background-color: #E8F0FE;\n",
              "      border: none;\n",
              "      border-radius: 50%;\n",
              "      cursor: pointer;\n",
              "      display: none;\n",
              "      fill: #1967D2;\n",
              "      height: 32px;\n",
              "      padding: 0 0 0 0;\n",
              "      width: 32px;\n",
              "    }\n",
              "\n",
              "    .colab-df-convert:hover {\n",
              "      background-color: #E2EBFA;\n",
              "      box-shadow: 0px 1px 2px rgba(60, 64, 67, 0.3), 0px 1px 3px 1px rgba(60, 64, 67, 0.15);\n",
              "      fill: #174EA6;\n",
              "    }\n",
              "\n",
              "    .colab-df-buttons div {\n",
              "      margin-bottom: 4px;\n",
              "    }\n",
              "\n",
              "    [theme=dark] .colab-df-convert {\n",
              "      background-color: #3B4455;\n",
              "      fill: #D2E3FC;\n",
              "    }\n",
              "\n",
              "    [theme=dark] .colab-df-convert:hover {\n",
              "      background-color: #434B5C;\n",
              "      box-shadow: 0px 1px 3px 1px rgba(0, 0, 0, 0.15);\n",
              "      filter: drop-shadow(0px 1px 2px rgba(0, 0, 0, 0.3));\n",
              "      fill: #FFFFFF;\n",
              "    }\n",
              "  </style>\n",
              "\n",
              "    <script>\n",
              "      const buttonEl =\n",
              "        document.querySelector('#df-3d0d0bfe-fa53-41c7-a1ec-07b206052e31 button.colab-df-convert');\n",
              "      buttonEl.style.display =\n",
              "        google.colab.kernel.accessAllowed ? 'block' : 'none';\n",
              "\n",
              "      async function convertToInteractive(key) {\n",
              "        const element = document.querySelector('#df-3d0d0bfe-fa53-41c7-a1ec-07b206052e31');\n",
              "        const dataTable =\n",
              "          await google.colab.kernel.invokeFunction('convertToInteractive',\n",
              "                                                    [key], {});\n",
              "        if (!dataTable) return;\n",
              "\n",
              "        const docLinkHtml = 'Like what you see? Visit the ' +\n",
              "          '<a target=\"_blank\" href=https://colab.research.google.com/notebooks/data_table.ipynb>data table notebook</a>'\n",
              "          + ' to learn more about interactive tables.';\n",
              "        element.innerHTML = '';\n",
              "        dataTable['output_type'] = 'display_data';\n",
              "        await google.colab.output.renderOutput(dataTable, element);\n",
              "        const docLink = document.createElement('div');\n",
              "        docLink.innerHTML = docLinkHtml;\n",
              "        element.appendChild(docLink);\n",
              "      }\n",
              "    </script>\n",
              "  </div>\n",
              "\n",
              "\n",
              "<div id=\"df-5dd0ae60-63c0-4043-89f5-071909f3d021\">\n",
              "  <button class=\"colab-df-quickchart\" onclick=\"quickchart('df-5dd0ae60-63c0-4043-89f5-071909f3d021')\"\n",
              "            title=\"Suggest charts\"\n",
              "            style=\"display:none;\">\n",
              "\n",
              "<svg xmlns=\"http://www.w3.org/2000/svg\" height=\"24px\"viewBox=\"0 0 24 24\"\n",
              "     width=\"24px\">\n",
              "    <g>\n",
              "        <path d=\"M19 3H5c-1.1 0-2 .9-2 2v14c0 1.1.9 2 2 2h14c1.1 0 2-.9 2-2V5c0-1.1-.9-2-2-2zM9 17H7v-7h2v7zm4 0h-2V7h2v10zm4 0h-2v-4h2v4z\"/>\n",
              "    </g>\n",
              "</svg>\n",
              "  </button>\n",
              "\n",
              "<style>\n",
              "  .colab-df-quickchart {\n",
              "      --bg-color: #E8F0FE;\n",
              "      --fill-color: #1967D2;\n",
              "      --hover-bg-color: #E2EBFA;\n",
              "      --hover-fill-color: #174EA6;\n",
              "      --disabled-fill-color: #AAA;\n",
              "      --disabled-bg-color: #DDD;\n",
              "  }\n",
              "\n",
              "  [theme=dark] .colab-df-quickchart {\n",
              "      --bg-color: #3B4455;\n",
              "      --fill-color: #D2E3FC;\n",
              "      --hover-bg-color: #434B5C;\n",
              "      --hover-fill-color: #FFFFFF;\n",
              "      --disabled-bg-color: #3B4455;\n",
              "      --disabled-fill-color: #666;\n",
              "  }\n",
              "\n",
              "  .colab-df-quickchart {\n",
              "    background-color: var(--bg-color);\n",
              "    border: none;\n",
              "    border-radius: 50%;\n",
              "    cursor: pointer;\n",
              "    display: none;\n",
              "    fill: var(--fill-color);\n",
              "    height: 32px;\n",
              "    padding: 0;\n",
              "    width: 32px;\n",
              "  }\n",
              "\n",
              "  .colab-df-quickchart:hover {\n",
              "    background-color: var(--hover-bg-color);\n",
              "    box-shadow: 0 1px 2px rgba(60, 64, 67, 0.3), 0 1px 3px 1px rgba(60, 64, 67, 0.15);\n",
              "    fill: var(--button-hover-fill-color);\n",
              "  }\n",
              "\n",
              "  .colab-df-quickchart-complete:disabled,\n",
              "  .colab-df-quickchart-complete:disabled:hover {\n",
              "    background-color: var(--disabled-bg-color);\n",
              "    fill: var(--disabled-fill-color);\n",
              "    box-shadow: none;\n",
              "  }\n",
              "\n",
              "  .colab-df-spinner {\n",
              "    border: 2px solid var(--fill-color);\n",
              "    border-color: transparent;\n",
              "    border-bottom-color: var(--fill-color);\n",
              "    animation:\n",
              "      spin 1s steps(1) infinite;\n",
              "  }\n",
              "\n",
              "  @keyframes spin {\n",
              "    0% {\n",
              "      border-color: transparent;\n",
              "      border-bottom-color: var(--fill-color);\n",
              "      border-left-color: var(--fill-color);\n",
              "    }\n",
              "    20% {\n",
              "      border-color: transparent;\n",
              "      border-left-color: var(--fill-color);\n",
              "      border-top-color: var(--fill-color);\n",
              "    }\n",
              "    30% {\n",
              "      border-color: transparent;\n",
              "      border-left-color: var(--fill-color);\n",
              "      border-top-color: var(--fill-color);\n",
              "      border-right-color: var(--fill-color);\n",
              "    }\n",
              "    40% {\n",
              "      border-color: transparent;\n",
              "      border-right-color: var(--fill-color);\n",
              "      border-top-color: var(--fill-color);\n",
              "    }\n",
              "    60% {\n",
              "      border-color: transparent;\n",
              "      border-right-color: var(--fill-color);\n",
              "    }\n",
              "    80% {\n",
              "      border-color: transparent;\n",
              "      border-right-color: var(--fill-color);\n",
              "      border-bottom-color: var(--fill-color);\n",
              "    }\n",
              "    90% {\n",
              "      border-color: transparent;\n",
              "      border-bottom-color: var(--fill-color);\n",
              "    }\n",
              "  }\n",
              "</style>\n",
              "\n",
              "  <script>\n",
              "    async function quickchart(key) {\n",
              "      const quickchartButtonEl =\n",
              "        document.querySelector('#' + key + ' button');\n",
              "      quickchartButtonEl.disabled = true;  // To prevent multiple clicks.\n",
              "      quickchartButtonEl.classList.add('colab-df-spinner');\n",
              "      try {\n",
              "        const charts = await google.colab.kernel.invokeFunction(\n",
              "            'suggestCharts', [key], {});\n",
              "      } catch (error) {\n",
              "        console.error('Error during call to suggestCharts:', error);\n",
              "      }\n",
              "      quickchartButtonEl.classList.remove('colab-df-spinner');\n",
              "      quickchartButtonEl.classList.add('colab-df-quickchart-complete');\n",
              "    }\n",
              "    (() => {\n",
              "      let quickchartButtonEl =\n",
              "        document.querySelector('#df-5dd0ae60-63c0-4043-89f5-071909f3d021 button');\n",
              "      quickchartButtonEl.style.display =\n",
              "        google.colab.kernel.accessAllowed ? 'block' : 'none';\n",
              "    })();\n",
              "  </script>\n",
              "</div>\n",
              "\n",
              "  <div id=\"id_297f1479-4b63-49e4-9bb8-cfefc63051ef\">\n",
              "    <style>\n",
              "      .colab-df-generate {\n",
              "        background-color: #E8F0FE;\n",
              "        border: none;\n",
              "        border-radius: 50%;\n",
              "        cursor: pointer;\n",
              "        display: none;\n",
              "        fill: #1967D2;\n",
              "        height: 32px;\n",
              "        padding: 0 0 0 0;\n",
              "        width: 32px;\n",
              "      }\n",
              "\n",
              "      .colab-df-generate:hover {\n",
              "        background-color: #E2EBFA;\n",
              "        box-shadow: 0px 1px 2px rgba(60, 64, 67, 0.3), 0px 1px 3px 1px rgba(60, 64, 67, 0.15);\n",
              "        fill: #174EA6;\n",
              "      }\n",
              "\n",
              "      [theme=dark] .colab-df-generate {\n",
              "        background-color: #3B4455;\n",
              "        fill: #D2E3FC;\n",
              "      }\n",
              "\n",
              "      [theme=dark] .colab-df-generate:hover {\n",
              "        background-color: #434B5C;\n",
              "        box-shadow: 0px 1px 3px 1px rgba(0, 0, 0, 0.15);\n",
              "        filter: drop-shadow(0px 1px 2px rgba(0, 0, 0, 0.3));\n",
              "        fill: #FFFFFF;\n",
              "      }\n",
              "    </style>\n",
              "    <button class=\"colab-df-generate\" onclick=\"generateWithVariable('cm_df')\"\n",
              "            title=\"Generate code using this dataframe.\"\n",
              "            style=\"display:none;\">\n",
              "\n",
              "  <svg xmlns=\"http://www.w3.org/2000/svg\" height=\"24px\"viewBox=\"0 0 24 24\"\n",
              "       width=\"24px\">\n",
              "    <path d=\"M7,19H8.4L18.45,9,17,7.55,7,17.6ZM5,21V16.75L18.45,3.32a2,2,0,0,1,2.83,0l1.4,1.43a1.91,1.91,0,0,1,.58,1.4,1.91,1.91,0,0,1-.58,1.4L9.25,21ZM18.45,9,17,7.55Zm-12,3A5.31,5.31,0,0,0,4.9,8.1,5.31,5.31,0,0,0,1,6.5,5.31,5.31,0,0,0,4.9,4.9,5.31,5.31,0,0,0,6.5,1,5.31,5.31,0,0,0,8.1,4.9,5.31,5.31,0,0,0,12,6.5,5.46,5.46,0,0,0,6.5,12Z\"/>\n",
              "  </svg>\n",
              "    </button>\n",
              "    <script>\n",
              "      (() => {\n",
              "      const buttonEl =\n",
              "        document.querySelector('#id_297f1479-4b63-49e4-9bb8-cfefc63051ef button.colab-df-generate');\n",
              "      buttonEl.style.display =\n",
              "        google.colab.kernel.accessAllowed ? 'block' : 'none';\n",
              "\n",
              "      buttonEl.onclick = () => {\n",
              "        google.colab.notebook.generateWithVariable('cm_df');\n",
              "      }\n",
              "      })();\n",
              "    </script>\n",
              "  </div>\n",
              "\n",
              "    </div>\n",
              "  </div>\n"
            ]
          },
          "metadata": {}
        },
        {
          "output_type": "stream",
          "name": "stdout",
          "text": [
            "Accuracy Score : 0.6252139189960069\n",
            "Classification Report\n",
            "              precision    recall  f1-score   support\n",
            "\n",
            "           0       0.64      0.96      0.77      1125\n",
            "           1       0.29      0.03      0.06       628\n",
            "\n",
            "    accuracy                           0.63      1753\n",
            "   macro avg       0.46      0.49      0.41      1753\n",
            "weighted avg       0.51      0.63      0.51      1753\n",
            "\n"
          ]
        }
      ],
      "source": [
        "# Displaying results\n",
        "print(\"Confusion Matrix\")\n",
        "display(cm_df)\n",
        "print(f\"Accuracy Score : {acc_score}\")\n",
        "print(\"Classification Report\")\n",
        "print(classification_report(y_test, rf_predictions))"
      ]
    },
    {
      "cell_type": "code",
      "execution_count": 35,
      "id": "3e06dd6f",
      "metadata": {
        "tags": [],
        "id": "3e06dd6f",
        "colab": {
          "base_uri": "https://localhost:8080/"
        },
        "outputId": "97b97442-15cf-4f2e-fffa-d1d3a946282a"
      },
      "outputs": [
        {
          "output_type": "stream",
          "name": "stdout",
          "text": [
            "Top 10 most important features:\n",
            "[(0.13668777034555477, 'BMI'),\n",
            " (0.1330755039509209, 'Triglycerides'),\n",
            " (0.1296822901907914, 'Cholesterol'),\n",
            " (0.12061988933981975, 'Systolic Pressure'),\n",
            " (0.11680282141392462, 'Age'),\n",
            " (0.1149790413745522, 'Heart Rate'),\n",
            " (0.11117956690373326, 'Diastolic Pressure'),\n",
            " (0.020655081991957324, 'Medication Use'),\n",
            " (0.020547867738163843, 'Previous Heart Problems'),\n",
            " (0.019538792127817776, 'Alcohol Consumption')]\n"
          ]
        }
      ],
      "source": [
        "# Get the feature importance array\n",
        "importances = rf_model.feature_importances_\n",
        "\n",
        "# List the top 10 most important features\n",
        "importances_top_10 = sorted(zip(importances, X.columns), reverse=True)[:10]\n",
        "print(\"Top 10 most important features:\")\n",
        "pprint(importances_top_10)"
      ]
    },
    {
      "cell_type": "markdown",
      "id": "84f2426b",
      "metadata": {
        "id": "84f2426b"
      },
      "source": [
        "# KNN model"
      ]
    },
    {
      "cell_type": "code",
      "execution_count": 36,
      "id": "fc6ed925-afaf-485f-9d40-cc0c41f9fccf",
      "metadata": {
        "id": "fc6ed925-afaf-485f-9d40-cc0c41f9fccf",
        "colab": {
          "base_uri": "https://localhost:8080/"
        },
        "outputId": "141f86aa-ae1c-4013-c8b1-b1507764a785"
      },
      "outputs": [
        {
          "output_type": "stream",
          "name": "stdout",
          "text": [
            "Index(['Age', 'Sex', 'Cholesterol', 'Heart Rate', 'Diabetes', 'Family History',\n",
            "       'Smoking', 'Obesity', 'Alcohol Consumption', 'Previous Heart Problems',\n",
            "       'Medication Use', 'BMI', 'Triglycerides', 'Systolic Pressure',\n",
            "       'Diastolic Pressure'],\n",
            "      dtype='object')\n"
          ]
        }
      ],
      "source": [
        "# Dropping specified columns to create feature matrix X and target vector y\n",
        "X = encoded_df.drop(['Exercise Hours Per Week',\n",
        "                     'Stress Level',\n",
        "                     'Sedentary Hours Per Day',\n",
        "                     'Income',\n",
        "                     'Physical Activity Days Per Week',\n",
        "                     'Sleep Hours Per Day',\n",
        "                     'Heart Attack Risk',\n",
        "                     'Diet_Average',\n",
        "                     'Diet_Healthy',\n",
        "                     'Diet_Unhealthy',\n",
        "                     'Country',\n",
        "                     'Capital',\n",
        "                     'lat',\n",
        "                     'long',\n",
        "                     'Continent',\n",
        "                     'Patient ID',\n",
        "                     'Hemisphere'], axis=1)\n",
        "\n",
        "y = encoded_df['Heart Attack Risk']\n",
        "print(X.columns)"
      ]
    },
    {
      "cell_type": "code",
      "execution_count": 37,
      "id": "8922d210-1461-4d5c-8998-3684ae9efab6",
      "metadata": {
        "id": "8922d210-1461-4d5c-8998-3684ae9efab6"
      },
      "outputs": [],
      "source": [
        "X_train, X_test, y_train, y_test = train_test_split(X, y, test_size=0.2, random_state=42)"
      ]
    },
    {
      "cell_type": "code",
      "execution_count": 38,
      "id": "066e7069-e70e-45c3-a1b5-95453cf28c7b",
      "metadata": {
        "id": "066e7069-e70e-45c3-a1b5-95453cf28c7b"
      },
      "outputs": [],
      "source": [
        "# Creating StandardScaler instance\n",
        "scaler = StandardScaler()"
      ]
    },
    {
      "cell_type": "code",
      "execution_count": 39,
      "id": "9a6bcb7e-1ad7-458d-b204-77e6752e2ce3",
      "metadata": {
        "id": "9a6bcb7e-1ad7-458d-b204-77e6752e2ce3"
      },
      "outputs": [],
      "source": [
        "# Fitting Standard Scaller\n",
        "X_scaler = scaler.fit(X_train)"
      ]
    },
    {
      "cell_type": "code",
      "execution_count": 40,
      "id": "9038f4fa-0afe-49af-8a10-66c60509003d",
      "metadata": {
        "id": "9038f4fa-0afe-49af-8a10-66c60509003d"
      },
      "outputs": [],
      "source": [
        "# Scaling data\n",
        "X_train_scaled = X_scaler.transform(X_train)\n",
        "X_test_scaled = X_scaler.transform(X_test)"
      ]
    },
    {
      "cell_type": "code",
      "execution_count": 41,
      "id": "11c75153-328b-4b6e-bcdf-d2a54f76c121",
      "metadata": {
        "id": "11c75153-328b-4b6e-bcdf-d2a54f76c121"
      },
      "outputs": [],
      "source": [
        "from sklearn.neighbors import KNeighborsClassifier\n",
        "# Instantiate the model with k = 3 neighbors\n",
        "knn_model = KNeighborsClassifier(n_neighbors=20)\n",
        "\n",
        "# Train the model\n",
        "knn_model.fit(X_train_scaled, y_train)\n",
        "# Create predictions\n",
        "knn_y_pred = knn_model.predict(X_test_scaled)"
      ]
    },
    {
      "cell_type": "code",
      "execution_count": 42,
      "id": "0fe5cd83-b400-484a-8611-02ffa980e651",
      "metadata": {
        "tags": [],
        "id": "0fe5cd83-b400-484a-8611-02ffa980e651",
        "colab": {
          "base_uri": "https://localhost:8080/"
        },
        "outputId": "9a455880-e4bf-4911-fe3c-ab6734dab285"
      },
      "outputs": [
        {
          "output_type": "stream",
          "name": "stdout",
          "text": [
            "Training Data Score: 0.6507845934379458\n",
            "Testing Data Score: 0.6269252709640616\n"
          ]
        }
      ],
      "source": [
        "print(f\"Training Data Score: {knn_model.score(X_train_scaled, y_train)}\")\n",
        "print(f\"Testing Data Score: {knn_model.score(X_test_scaled, y_test)}\")"
      ]
    },
    {
      "cell_type": "code",
      "execution_count": 43,
      "id": "c2f66349-3899-4a32-b23b-e1a3334378a7",
      "metadata": {
        "id": "c2f66349-3899-4a32-b23b-e1a3334378a7"
      },
      "outputs": [],
      "source": [
        "# Calculating the confusion matrix\n",
        "cm = confusion_matrix(y_test, knn_y_pred)\n",
        "cm_df = pd.DataFrame(\n",
        "    cm, index=[\"Actual 0\", \"Actual 1\"], columns=[\"Predicted 0\", \"Predicted 1\"]\n",
        ")\n",
        "\n",
        "# Calculating the accuracy score\n",
        "acc_score = accuracy_score(y_test, knn_y_pred)"
      ]
    },
    {
      "cell_type": "code",
      "execution_count": 44,
      "id": "77ce282e-18bf-4b04-b055-f60e943f161e",
      "metadata": {
        "id": "77ce282e-18bf-4b04-b055-f60e943f161e",
        "colab": {
          "base_uri": "https://localhost:8080/",
          "height": 333
        },
        "outputId": "fd0c6b8e-6b75-4cc0-ecd6-7909096939f7"
      },
      "outputs": [
        {
          "output_type": "stream",
          "name": "stdout",
          "text": [
            "Confusion Matrix\n"
          ]
        },
        {
          "output_type": "display_data",
          "data": {
            "text/plain": [
              "          Predicted 0  Predicted 1\n",
              "Actual 0         1066           59\n",
              "Actual 1          595           33"
            ],
            "text/html": [
              "\n",
              "  <div id=\"df-f25b65ff-855a-4ec9-9e69-44dd95d9d912\" class=\"colab-df-container\">\n",
              "    <div>\n",
              "<style scoped>\n",
              "    .dataframe tbody tr th:only-of-type {\n",
              "        vertical-align: middle;\n",
              "    }\n",
              "\n",
              "    .dataframe tbody tr th {\n",
              "        vertical-align: top;\n",
              "    }\n",
              "\n",
              "    .dataframe thead th {\n",
              "        text-align: right;\n",
              "    }\n",
              "</style>\n",
              "<table border=\"1\" class=\"dataframe\">\n",
              "  <thead>\n",
              "    <tr style=\"text-align: right;\">\n",
              "      <th></th>\n",
              "      <th>Predicted 0</th>\n",
              "      <th>Predicted 1</th>\n",
              "    </tr>\n",
              "  </thead>\n",
              "  <tbody>\n",
              "    <tr>\n",
              "      <th>Actual 0</th>\n",
              "      <td>1066</td>\n",
              "      <td>59</td>\n",
              "    </tr>\n",
              "    <tr>\n",
              "      <th>Actual 1</th>\n",
              "      <td>595</td>\n",
              "      <td>33</td>\n",
              "    </tr>\n",
              "  </tbody>\n",
              "</table>\n",
              "</div>\n",
              "    <div class=\"colab-df-buttons\">\n",
              "\n",
              "  <div class=\"colab-df-container\">\n",
              "    <button class=\"colab-df-convert\" onclick=\"convertToInteractive('df-f25b65ff-855a-4ec9-9e69-44dd95d9d912')\"\n",
              "            title=\"Convert this dataframe to an interactive table.\"\n",
              "            style=\"display:none;\">\n",
              "\n",
              "  <svg xmlns=\"http://www.w3.org/2000/svg\" height=\"24px\" viewBox=\"0 -960 960 960\">\n",
              "    <path d=\"M120-120v-720h720v720H120Zm60-500h600v-160H180v160Zm220 220h160v-160H400v160Zm0 220h160v-160H400v160ZM180-400h160v-160H180v160Zm440 0h160v-160H620v160ZM180-180h160v-160H180v160Zm440 0h160v-160H620v160Z\"/>\n",
              "  </svg>\n",
              "    </button>\n",
              "\n",
              "  <style>\n",
              "    .colab-df-container {\n",
              "      display:flex;\n",
              "      gap: 12px;\n",
              "    }\n",
              "\n",
              "    .colab-df-convert {\n",
              "      background-color: #E8F0FE;\n",
              "      border: none;\n",
              "      border-radius: 50%;\n",
              "      cursor: pointer;\n",
              "      display: none;\n",
              "      fill: #1967D2;\n",
              "      height: 32px;\n",
              "      padding: 0 0 0 0;\n",
              "      width: 32px;\n",
              "    }\n",
              "\n",
              "    .colab-df-convert:hover {\n",
              "      background-color: #E2EBFA;\n",
              "      box-shadow: 0px 1px 2px rgba(60, 64, 67, 0.3), 0px 1px 3px 1px rgba(60, 64, 67, 0.15);\n",
              "      fill: #174EA6;\n",
              "    }\n",
              "\n",
              "    .colab-df-buttons div {\n",
              "      margin-bottom: 4px;\n",
              "    }\n",
              "\n",
              "    [theme=dark] .colab-df-convert {\n",
              "      background-color: #3B4455;\n",
              "      fill: #D2E3FC;\n",
              "    }\n",
              "\n",
              "    [theme=dark] .colab-df-convert:hover {\n",
              "      background-color: #434B5C;\n",
              "      box-shadow: 0px 1px 3px 1px rgba(0, 0, 0, 0.15);\n",
              "      filter: drop-shadow(0px 1px 2px rgba(0, 0, 0, 0.3));\n",
              "      fill: #FFFFFF;\n",
              "    }\n",
              "  </style>\n",
              "\n",
              "    <script>\n",
              "      const buttonEl =\n",
              "        document.querySelector('#df-f25b65ff-855a-4ec9-9e69-44dd95d9d912 button.colab-df-convert');\n",
              "      buttonEl.style.display =\n",
              "        google.colab.kernel.accessAllowed ? 'block' : 'none';\n",
              "\n",
              "      async function convertToInteractive(key) {\n",
              "        const element = document.querySelector('#df-f25b65ff-855a-4ec9-9e69-44dd95d9d912');\n",
              "        const dataTable =\n",
              "          await google.colab.kernel.invokeFunction('convertToInteractive',\n",
              "                                                    [key], {});\n",
              "        if (!dataTable) return;\n",
              "\n",
              "        const docLinkHtml = 'Like what you see? Visit the ' +\n",
              "          '<a target=\"_blank\" href=https://colab.research.google.com/notebooks/data_table.ipynb>data table notebook</a>'\n",
              "          + ' to learn more about interactive tables.';\n",
              "        element.innerHTML = '';\n",
              "        dataTable['output_type'] = 'display_data';\n",
              "        await google.colab.output.renderOutput(dataTable, element);\n",
              "        const docLink = document.createElement('div');\n",
              "        docLink.innerHTML = docLinkHtml;\n",
              "        element.appendChild(docLink);\n",
              "      }\n",
              "    </script>\n",
              "  </div>\n",
              "\n",
              "\n",
              "<div id=\"df-fbea4b74-68b6-4e08-a5ad-faf68d6aa1fa\">\n",
              "  <button class=\"colab-df-quickchart\" onclick=\"quickchart('df-fbea4b74-68b6-4e08-a5ad-faf68d6aa1fa')\"\n",
              "            title=\"Suggest charts\"\n",
              "            style=\"display:none;\">\n",
              "\n",
              "<svg xmlns=\"http://www.w3.org/2000/svg\" height=\"24px\"viewBox=\"0 0 24 24\"\n",
              "     width=\"24px\">\n",
              "    <g>\n",
              "        <path d=\"M19 3H5c-1.1 0-2 .9-2 2v14c0 1.1.9 2 2 2h14c1.1 0 2-.9 2-2V5c0-1.1-.9-2-2-2zM9 17H7v-7h2v7zm4 0h-2V7h2v10zm4 0h-2v-4h2v4z\"/>\n",
              "    </g>\n",
              "</svg>\n",
              "  </button>\n",
              "\n",
              "<style>\n",
              "  .colab-df-quickchart {\n",
              "      --bg-color: #E8F0FE;\n",
              "      --fill-color: #1967D2;\n",
              "      --hover-bg-color: #E2EBFA;\n",
              "      --hover-fill-color: #174EA6;\n",
              "      --disabled-fill-color: #AAA;\n",
              "      --disabled-bg-color: #DDD;\n",
              "  }\n",
              "\n",
              "  [theme=dark] .colab-df-quickchart {\n",
              "      --bg-color: #3B4455;\n",
              "      --fill-color: #D2E3FC;\n",
              "      --hover-bg-color: #434B5C;\n",
              "      --hover-fill-color: #FFFFFF;\n",
              "      --disabled-bg-color: #3B4455;\n",
              "      --disabled-fill-color: #666;\n",
              "  }\n",
              "\n",
              "  .colab-df-quickchart {\n",
              "    background-color: var(--bg-color);\n",
              "    border: none;\n",
              "    border-radius: 50%;\n",
              "    cursor: pointer;\n",
              "    display: none;\n",
              "    fill: var(--fill-color);\n",
              "    height: 32px;\n",
              "    padding: 0;\n",
              "    width: 32px;\n",
              "  }\n",
              "\n",
              "  .colab-df-quickchart:hover {\n",
              "    background-color: var(--hover-bg-color);\n",
              "    box-shadow: 0 1px 2px rgba(60, 64, 67, 0.3), 0 1px 3px 1px rgba(60, 64, 67, 0.15);\n",
              "    fill: var(--button-hover-fill-color);\n",
              "  }\n",
              "\n",
              "  .colab-df-quickchart-complete:disabled,\n",
              "  .colab-df-quickchart-complete:disabled:hover {\n",
              "    background-color: var(--disabled-bg-color);\n",
              "    fill: var(--disabled-fill-color);\n",
              "    box-shadow: none;\n",
              "  }\n",
              "\n",
              "  .colab-df-spinner {\n",
              "    border: 2px solid var(--fill-color);\n",
              "    border-color: transparent;\n",
              "    border-bottom-color: var(--fill-color);\n",
              "    animation:\n",
              "      spin 1s steps(1) infinite;\n",
              "  }\n",
              "\n",
              "  @keyframes spin {\n",
              "    0% {\n",
              "      border-color: transparent;\n",
              "      border-bottom-color: var(--fill-color);\n",
              "      border-left-color: var(--fill-color);\n",
              "    }\n",
              "    20% {\n",
              "      border-color: transparent;\n",
              "      border-left-color: var(--fill-color);\n",
              "      border-top-color: var(--fill-color);\n",
              "    }\n",
              "    30% {\n",
              "      border-color: transparent;\n",
              "      border-left-color: var(--fill-color);\n",
              "      border-top-color: var(--fill-color);\n",
              "      border-right-color: var(--fill-color);\n",
              "    }\n",
              "    40% {\n",
              "      border-color: transparent;\n",
              "      border-right-color: var(--fill-color);\n",
              "      border-top-color: var(--fill-color);\n",
              "    }\n",
              "    60% {\n",
              "      border-color: transparent;\n",
              "      border-right-color: var(--fill-color);\n",
              "    }\n",
              "    80% {\n",
              "      border-color: transparent;\n",
              "      border-right-color: var(--fill-color);\n",
              "      border-bottom-color: var(--fill-color);\n",
              "    }\n",
              "    90% {\n",
              "      border-color: transparent;\n",
              "      border-bottom-color: var(--fill-color);\n",
              "    }\n",
              "  }\n",
              "</style>\n",
              "\n",
              "  <script>\n",
              "    async function quickchart(key) {\n",
              "      const quickchartButtonEl =\n",
              "        document.querySelector('#' + key + ' button');\n",
              "      quickchartButtonEl.disabled = true;  // To prevent multiple clicks.\n",
              "      quickchartButtonEl.classList.add('colab-df-spinner');\n",
              "      try {\n",
              "        const charts = await google.colab.kernel.invokeFunction(\n",
              "            'suggestCharts', [key], {});\n",
              "      } catch (error) {\n",
              "        console.error('Error during call to suggestCharts:', error);\n",
              "      }\n",
              "      quickchartButtonEl.classList.remove('colab-df-spinner');\n",
              "      quickchartButtonEl.classList.add('colab-df-quickchart-complete');\n",
              "    }\n",
              "    (() => {\n",
              "      let quickchartButtonEl =\n",
              "        document.querySelector('#df-fbea4b74-68b6-4e08-a5ad-faf68d6aa1fa button');\n",
              "      quickchartButtonEl.style.display =\n",
              "        google.colab.kernel.accessAllowed ? 'block' : 'none';\n",
              "    })();\n",
              "  </script>\n",
              "</div>\n",
              "\n",
              "  <div id=\"id_a2435239-2d12-4668-8278-e0d8065cc25f\">\n",
              "    <style>\n",
              "      .colab-df-generate {\n",
              "        background-color: #E8F0FE;\n",
              "        border: none;\n",
              "        border-radius: 50%;\n",
              "        cursor: pointer;\n",
              "        display: none;\n",
              "        fill: #1967D2;\n",
              "        height: 32px;\n",
              "        padding: 0 0 0 0;\n",
              "        width: 32px;\n",
              "      }\n",
              "\n",
              "      .colab-df-generate:hover {\n",
              "        background-color: #E2EBFA;\n",
              "        box-shadow: 0px 1px 2px rgba(60, 64, 67, 0.3), 0px 1px 3px 1px rgba(60, 64, 67, 0.15);\n",
              "        fill: #174EA6;\n",
              "      }\n",
              "\n",
              "      [theme=dark] .colab-df-generate {\n",
              "        background-color: #3B4455;\n",
              "        fill: #D2E3FC;\n",
              "      }\n",
              "\n",
              "      [theme=dark] .colab-df-generate:hover {\n",
              "        background-color: #434B5C;\n",
              "        box-shadow: 0px 1px 3px 1px rgba(0, 0, 0, 0.15);\n",
              "        filter: drop-shadow(0px 1px 2px rgba(0, 0, 0, 0.3));\n",
              "        fill: #FFFFFF;\n",
              "      }\n",
              "    </style>\n",
              "    <button class=\"colab-df-generate\" onclick=\"generateWithVariable('cm_df')\"\n",
              "            title=\"Generate code using this dataframe.\"\n",
              "            style=\"display:none;\">\n",
              "\n",
              "  <svg xmlns=\"http://www.w3.org/2000/svg\" height=\"24px\"viewBox=\"0 0 24 24\"\n",
              "       width=\"24px\">\n",
              "    <path d=\"M7,19H8.4L18.45,9,17,7.55,7,17.6ZM5,21V16.75L18.45,3.32a2,2,0,0,1,2.83,0l1.4,1.43a1.91,1.91,0,0,1,.58,1.4,1.91,1.91,0,0,1-.58,1.4L9.25,21ZM18.45,9,17,7.55Zm-12,3A5.31,5.31,0,0,0,4.9,8.1,5.31,5.31,0,0,0,1,6.5,5.31,5.31,0,0,0,4.9,4.9,5.31,5.31,0,0,0,6.5,1,5.31,5.31,0,0,0,8.1,4.9,5.31,5.31,0,0,0,12,6.5,5.46,5.46,0,0,0,6.5,12Z\"/>\n",
              "  </svg>\n",
              "    </button>\n",
              "    <script>\n",
              "      (() => {\n",
              "      const buttonEl =\n",
              "        document.querySelector('#id_a2435239-2d12-4668-8278-e0d8065cc25f button.colab-df-generate');\n",
              "      buttonEl.style.display =\n",
              "        google.colab.kernel.accessAllowed ? 'block' : 'none';\n",
              "\n",
              "      buttonEl.onclick = () => {\n",
              "        google.colab.notebook.generateWithVariable('cm_df');\n",
              "      }\n",
              "      })();\n",
              "    </script>\n",
              "  </div>\n",
              "\n",
              "    </div>\n",
              "  </div>\n"
            ]
          },
          "metadata": {}
        },
        {
          "output_type": "stream",
          "name": "stdout",
          "text": [
            "Accuracy Score : 0.6269252709640616\n",
            "Classification Report\n",
            "              precision    recall  f1-score   support\n",
            "\n",
            "           0       0.64      0.95      0.77      1125\n",
            "           1       0.36      0.05      0.09       628\n",
            "\n",
            "    accuracy                           0.63      1753\n",
            "   macro avg       0.50      0.50      0.43      1753\n",
            "weighted avg       0.54      0.63      0.52      1753\n",
            "\n"
          ]
        }
      ],
      "source": [
        "# Displaying results\n",
        "print(\"Confusion Matrix\")\n",
        "display(cm_df)\n",
        "print(f\"Accuracy Score : {acc_score}\")\n",
        "print(\"Classification Report\")\n",
        "print(classification_report(y_test,  knn_y_pred))"
      ]
    },
    {
      "cell_type": "markdown",
      "id": "380964dc",
      "metadata": {
        "id": "380964dc"
      },
      "source": [
        "# SVC model"
      ]
    },
    {
      "cell_type": "code",
      "execution_count": 45,
      "id": "579ca19e-4f2b-4940-bdc8-df826699fedb",
      "metadata": {
        "id": "579ca19e-4f2b-4940-bdc8-df826699fedb",
        "colab": {
          "base_uri": "https://localhost:8080/"
        },
        "outputId": "b909a6b9-5155-4f6c-ae34-793184bd1607"
      },
      "outputs": [
        {
          "output_type": "stream",
          "name": "stdout",
          "text": [
            "Index(['Age', 'Sex', 'Cholesterol', 'Heart Rate', 'Diabetes', 'Family History',\n",
            "       'Smoking', 'Obesity', 'Alcohol Consumption', 'Previous Heart Problems',\n",
            "       'Medication Use', 'BMI', 'Triglycerides', 'Systolic Pressure',\n",
            "       'Diastolic Pressure'],\n",
            "      dtype='object')\n"
          ]
        }
      ],
      "source": [
        "# Dropping specified columns to create feature matrix X and target vector y\n",
        "X = encoded_df.drop(['Exercise Hours Per Week',\n",
        "                     'Stress Level',\n",
        "                     'Sedentary Hours Per Day',\n",
        "                     'Income',\n",
        "                     'Physical Activity Days Per Week',\n",
        "                     'Sleep Hours Per Day',\n",
        "                     'Heart Attack Risk',\n",
        "                     'Diet_Average',\n",
        "                     'Diet_Healthy',\n",
        "                     'Diet_Unhealthy',\n",
        "                     'Country',\n",
        "                     'Capital',\n",
        "                     'lat',\n",
        "                     'long',\n",
        "                     'Continent',\n",
        "                     'Patient ID',\n",
        "                     'Hemisphere'], axis=1)\n",
        "\n",
        "y = encoded_df['Heart Attack Risk']\n",
        "print(X.columns)"
      ]
    },
    {
      "cell_type": "code",
      "execution_count": 46,
      "id": "8e9a8ded-b84f-4535-8e2e-e02b2eca176d",
      "metadata": {
        "id": "8e9a8ded-b84f-4535-8e2e-e02b2eca176d"
      },
      "outputs": [],
      "source": [
        "X_train, X_test, y_train, y_test = train_test_split(X, y, test_size=0.2, random_state=42)"
      ]
    },
    {
      "cell_type": "code",
      "execution_count": null,
      "id": "58462cc6-8d3e-457b-bb3b-6f003bf9bebe",
      "metadata": {
        "id": "58462cc6-8d3e-457b-bb3b-6f003bf9bebe"
      },
      "outputs": [],
      "source": [
        "from sklearn.svm import SVC\n",
        "SVC_model = SVC(kernel='linear')\n",
        "SVC_model.fit(X_train, y_train)"
      ]
    },
    {
      "cell_type": "code",
      "execution_count": null,
      "id": "5307e569-a7e0-4011-ace5-c710a0b8a1d3",
      "metadata": {
        "tags": [],
        "id": "5307e569-a7e0-4011-ace5-c710a0b8a1d3"
      },
      "outputs": [],
      "source": [
        "SVC_predictions = SVC_model.predict(X_test)"
      ]
    },
    {
      "cell_type": "code",
      "execution_count": null,
      "id": "dd492c4c-9394-4d8a-b59f-dbf9801629a3",
      "metadata": {
        "tags": [],
        "id": "dd492c4c-9394-4d8a-b59f-dbf9801629a3"
      },
      "outputs": [],
      "source": [
        "print(f\"Training Data Score: {SVC_model.score(X_train, y_train)}\")\n",
        "print(f\"Testing Data Score: {SVC_model.score(X_test, y_test)}\")"
      ]
    },
    {
      "cell_type": "code",
      "execution_count": null,
      "id": "90e2f0e2-8888-40ce-9704-3ae4aa184ec8",
      "metadata": {
        "tags": [],
        "id": "90e2f0e2-8888-40ce-9704-3ae4aa184ec8"
      },
      "outputs": [],
      "source": [
        "# Calculating the confusion matrix\n",
        "cm = confusion_matrix(y_test, SVC_predictions)\n",
        "cm_df = pd.DataFrame(\n",
        "    cm, index=[\"Actual 0\", \"Actual 1\"], columns=[\"Predicted 0\", \"Predicted 1\"]\n",
        ")\n",
        "\n",
        "# Calculating the accuracy score\n",
        "acc_score = accuracy_score(y_test, SVC_predictions)"
      ]
    },
    {
      "cell_type": "code",
      "execution_count": null,
      "id": "c5f00ef2-3342-4910-951a-25703b36d7f5",
      "metadata": {
        "tags": [],
        "id": "c5f00ef2-3342-4910-951a-25703b36d7f5"
      },
      "outputs": [],
      "source": [
        "# Displaying results\n",
        "print(\"Confusion Matrix\")\n",
        "display(cm_df)\n",
        "print(f\"Accuracy Score : {acc_score}\")\n",
        "print(\"Classification Report\")\n",
        "print(classification_report(y_test,  SVC_predictions))\n"
      ]
    },
    {
      "cell_type": "markdown",
      "id": "0bfb29ad",
      "metadata": {
        "id": "0bfb29ad"
      },
      "source": [
        "# LogisticRegression"
      ]
    },
    {
      "cell_type": "code",
      "execution_count": null,
      "id": "2cb4668e-43d0-4140-93c5-1a71e277ffc6",
      "metadata": {
        "tags": [],
        "id": "2cb4668e-43d0-4140-93c5-1a71e277ffc6"
      },
      "outputs": [],
      "source": [
        "# Dropping specified columns to create feature matrix X and target vector y\n",
        "X = encoded_df.drop(['Exercise Hours Per Week',\n",
        "                     'Stress Level',\n",
        "                     'Sedentary Hours Per Day',\n",
        "                     'Income',\n",
        "                     'Physical Activity Days Per Week',\n",
        "                     'Sleep Hours Per Day',\n",
        "                     'Heart Attack Risk',\n",
        "                     'Diet_Average',\n",
        "                     'Diet_Healthy',\n",
        "                     'Diet_Unhealthy',\n",
        "                     'Country',\n",
        "                     'Capital',\n",
        "                     'lat',\n",
        "                     'long',\n",
        "                     'Continent',\n",
        "                     'Patient ID',\n",
        "                     'Hemisphere'], axis=1)\n",
        "\n",
        "y = encoded_df['Heart Attack Risk']\n",
        "print(X.columns)"
      ]
    },
    {
      "cell_type": "code",
      "execution_count": null,
      "id": "be526ad9-4f90-437c-953c-1ec906ee113f",
      "metadata": {
        "tags": [],
        "id": "be526ad9-4f90-437c-953c-1ec906ee113f"
      },
      "outputs": [],
      "source": [
        "#balance labels y\n",
        "balance_labels = y.value_counts()\n",
        "balance_labels"
      ]
    },
    {
      "cell_type": "markdown",
      "id": "2f0e68a3",
      "metadata": {
        "id": "2f0e68a3"
      },
      "source": [
        "There seems to be a bit of imbalance, with more instances of\n",
        "class 0 compared to class 1. Depending on our model's sensitivity to class\n",
        "imbalances, we may want to consider techniques like (1) oversampling,\n",
        "(2) undersampling, or (3) using class weights during model training to handle this imbalance."
      ]
    },
    {
      "cell_type": "code",
      "execution_count": null,
      "id": "ae4320ec-fdee-48cc-8293-e8eba881b081",
      "metadata": {
        "tags": [],
        "id": "ae4320ec-fdee-48cc-8293-e8eba881b081"
      },
      "outputs": [],
      "source": [
        "# Split the data using train_test_split\n",
        "# Assign a random_state of 1 to the function\n",
        "\n",
        "X_train, X_test, y_train, y_test = train_test_split(X, y, test_size=0.2, random_state=1)\n",
        "X_train.shape"
      ]
    },
    {
      "cell_type": "markdown",
      "id": "927a7c01",
      "metadata": {
        "id": "927a7c01"
      },
      "source": [
        "7010: This is the number of samples or instances in your training set. Each row represents a separate observation or data point in your dataset.\n",
        "\n",
        "26: This is the number of features or variables in your dataset. Each column in your dataset corresponds to a different feature or attribute that is used for training your machine learning model.\n",
        "\n",
        "So, in summary, you have 7010 training samples, and each sample has 26 features. This information is crucial for understanding the dimensions of your training data, especially when you're working with machine learning models that require input of specific shapes."
      ]
    },
    {
      "cell_type": "code",
      "execution_count": null,
      "id": "e7f2f6e9-034f-4651-a960-efc591a70af5",
      "metadata": {
        "tags": [],
        "id": "e7f2f6e9-034f-4651-a960-efc591a70af5"
      },
      "outputs": [],
      "source": [
        "# Import the LogisticRegression module from SKLearn\n",
        "from sklearn.linear_model import LogisticRegression\n",
        "\n",
        "# Instantiate the Logistic Regression model\n",
        "# Assign a random_state parameter of 1 to the model\n",
        "logistic_model = LogisticRegression(solver=\"lbfgs\",max_iter=200, random_state=1)"
      ]
    },
    {
      "cell_type": "code",
      "execution_count": null,
      "id": "42c7f30e-6ca0-47c9-9350-0d7d3f49452e",
      "metadata": {
        "tags": [],
        "id": "42c7f30e-6ca0-47c9-9350-0d7d3f49452e"
      },
      "outputs": [],
      "source": [
        "# Fit the model using training data\n",
        "logistic_model.fit(X_train, y_train)"
      ]
    },
    {
      "cell_type": "code",
      "execution_count": null,
      "id": "3f4b2632-88b1-4339-88c8-bbd11221e964",
      "metadata": {
        "tags": [],
        "id": "3f4b2632-88b1-4339-88c8-bbd11221e964"
      },
      "outputs": [],
      "source": [
        "print(f\"Training Data Score: {logistic_model.score(X_train, y_train)}\")\n",
        "print(f\"Testing Data Score: {logistic_model.score(X_test, y_test)}\")"
      ]
    },
    {
      "cell_type": "code",
      "execution_count": null,
      "id": "6bf8de43-6a9e-4a2e-804c-3ba720d6cf4d",
      "metadata": {
        "tags": [],
        "id": "6bf8de43-6a9e-4a2e-804c-3ba720d6cf4d"
      },
      "outputs": [],
      "source": [
        "# Make a prediction using the testing data\n",
        "lr_predictions = logistic_model.predict(X_test)\n",
        "results = pd.DataFrame({\"Prediction\": lr_predictions, \"Actual\": y_test}).reset_index(drop = True)\n",
        "results.head(10)"
      ]
    },
    {
      "cell_type": "code",
      "execution_count": null,
      "id": "4a3c3c10-8535-4671-a7c7-602cbc5810f4",
      "metadata": {
        "tags": [],
        "id": "4a3c3c10-8535-4671-a7c7-602cbc5810f4"
      },
      "outputs": [],
      "source": [
        "accuracy_score(y_test, lr_predictions)"
      ]
    },
    {
      "cell_type": "markdown",
      "id": "a6385081",
      "metadata": {
        "id": "a6385081"
      },
      "source": [
        "### Evaluation of the model’s performance by doing the following:\n",
        "\n",
        "* Calculate the accuracy score of the model.\n",
        "\n",
        "* Generate a confusion matrix.\n",
        "\n",
        "* Print the classification report."
      ]
    },
    {
      "cell_type": "code",
      "execution_count": null,
      "id": "ddfbec0d-ab01-445a-8113-846d2e425f66",
      "metadata": {
        "tags": [],
        "id": "ddfbec0d-ab01-445a-8113-846d2e425f66"
      },
      "outputs": [],
      "source": [
        "balanced_accuracy = accuracy_score(y_test, lr_predictions)\n",
        "balanced_accuracy"
      ]
    },
    {
      "cell_type": "code",
      "execution_count": null,
      "id": "590f9ea5-c74c-4570-8a8f-ae7dc08399d5",
      "metadata": {
        "tags": [],
        "id": "590f9ea5-c74c-4570-8a8f-ae7dc08399d5"
      },
      "outputs": [],
      "source": [
        "# Calculating the confusion matrix\n",
        "cm = confusion_matrix(y_test, lr_predictions)\n",
        "cm_df = pd.DataFrame(\n",
        "    cm, index=[\"Actual 0\", \"Actual 1\"], columns=[\"Predicted 0\", \"Predicted 1\"]\n",
        ")\n",
        "\n",
        "# Calculating the accuracy score\n",
        "acc_score = accuracy_score(y_test, lr_predictions)"
      ]
    },
    {
      "cell_type": "code",
      "execution_count": null,
      "id": "53194246-e912-419f-b851-4146fab81722",
      "metadata": {
        "tags": [],
        "id": "53194246-e912-419f-b851-4146fab81722"
      },
      "outputs": [],
      "source": [
        "# Displaying results\n",
        "print(\"Confusion Matrix\")\n",
        "display(cm_df)\n",
        "print(f\"Accuracy Score : {acc_score}\")\n",
        "print(\"Classification Report\")\n",
        "print(classification_report(y_test,  lr_predictions))"
      ]
    },
    {
      "cell_type": "markdown",
      "id": "80476d19",
      "metadata": {
        "id": "80476d19"
      },
      "source": [
        "Let's break down what each of these means:\n",
        "\n",
        "True Negative (TN): 18673 instances were correctly predicted as class 0 (negative class).\n",
        "\n",
        "False Positive (FP): 86 instances were incorrectly predicted as class 1 (positive class) when they were actually class 0.\n",
        "\n",
        "False Negative (FN): 32 instances were incorrectly predicted as class 0 when they were actually class 1.\n",
        "\n",
        "True Positive (TP): 593 instances were correctly predicted as class 1."
      ]
    },
    {
      "cell_type": "markdown",
      "id": "d2508e42",
      "metadata": {
        "id": "d2508e42"
      },
      "source": [
        "Precision: Precision is the ratio of correctly predicted positive observations to the total predicted positives. In your case:\n",
        "\n",
        "Precision for class 0: 0.65 (65% of instances predicted as class 0 were actually class 0)\n",
        "Precision for class 1: 0.00 (None of the instances predicted as class 1 were actually class 1)\n",
        "Recall (Sensitivity): Recall is the ratio of correctly predicted positive observations to the all observations in actual class. In your case:\n",
        "\n",
        "Recall for class 0: 1.00 (All instances of class 0 were correctly predicted)\n",
        "Recall for class 1: 0.00 (None of the instances of class 1 were correctly predicted)\n",
        "F1-Score: F1-Score is the weighted average of Precision and Recall. It is a balance between precision and recall. In your case:\n",
        "\n",
        "F1-Score for class 0: 0.79 (Weighted average of precision and recall for class 0)\n",
        "F1-Score for class 1: 0.00 (Weighted average of precision and recall for class 1)\n",
        "Support: The number of actual occurrences of each class in the specified dataset. In your case:\n",
        "\n",
        "Support for class 0: 1142 instances\n",
        "Support for class 1: 611 instances\n",
        "Accuracy: Overall accuracy of the model on the testing data. In your case: 0.65 (65%)\n",
        "\n",
        "Macro Average: The average of precision, recall, and F1-Score for both classes, without considering class imbalance. In your case:\n",
        "\n",
        "Macro Average Precision: 0.33\n",
        "Macro Average Recall: 0.50\n",
        "Macro Average F1-Score: 0.39\n",
        "Weighted Average: The average of precision, recall, and F1-Score, weighted by the number of samples in each class. In your case:\n",
        "\n",
        "Weighted Average Precision: 0.42\n",
        "Weighted Average Recall: 0.65\n",
        "Weighted Average F1-Score: 0.51\n",
        "These metrics provide a more nuanced understanding of your model's performance for each class and overall. In this case, it seems that the model is performing well in predicting class 0 but struggling to predict class 1, as indicated by the low recall and F1-Score for class 1. Depending on the specific goals of your model, you may need to adjust the model or data preprocessing to improve its performance."
      ]
    },
    {
      "cell_type": "code",
      "execution_count": null,
      "id": "f7d2040e-7598-4759-910a-c44c1fed2dbc",
      "metadata": {
        "tags": [],
        "id": "f7d2040e-7598-4759-910a-c44c1fed2dbc"
      },
      "outputs": [],
      "source": [
        "#Handling Imbalanced Data:\n",
        "\n",
        "logistic_model = LogisticRegression(class_weight='balanced', random_state=1)"
      ]
    },
    {
      "cell_type": "code",
      "execution_count": null,
      "id": "39d5255f-22b1-4be0-8300-a5a368e6b0a0",
      "metadata": {
        "tags": [],
        "id": "39d5255f-22b1-4be0-8300-a5a368e6b0a0"
      },
      "outputs": [],
      "source": [
        "!pip install imbalanced-learn"
      ]
    },
    {
      "cell_type": "code",
      "execution_count": null,
      "id": "f70133b2-80d2-4e58-bd3d-0bcb86df37c7",
      "metadata": {
        "tags": [],
        "id": "f70133b2-80d2-4e58-bd3d-0bcb86df37c7"
      },
      "outputs": [],
      "source": [
        "from imblearn.over_sampling import SMOTE\n",
        "\n",
        "smote = SMOTE(random_state=1)\n",
        "X_resampled, y_resampled = smote.fit_resample(X_train, y_train)"
      ]
    },
    {
      "cell_type": "code",
      "execution_count": null,
      "id": "1e9e5f31-3d83-4bef-bf38-de3f0141e096",
      "metadata": {
        "tags": [],
        "id": "1e9e5f31-3d83-4bef-bf38-de3f0141e096"
      },
      "outputs": [],
      "source": [
        "# Instantiate a new logistic regression model\n",
        "logistic_model_resampled = LogisticRegression(random_state=1)\n",
        "\n",
        "# Fit the model with the resampled data\n",
        "logistic_model_resampled.fit(X_resampled, y_resampled)\n",
        "\n",
        "# Make predictions on the testing data\n",
        "predictions_resampled = logistic_model_resampled.predict(X_test)"
      ]
    },
    {
      "cell_type": "code",
      "execution_count": null,
      "id": "744f6d55-74d6-4a08-a3ca-e55370ce87aa",
      "metadata": {
        "tags": [],
        "id": "744f6d55-74d6-4a08-a3ca-e55370ce87aa"
      },
      "outputs": [],
      "source": [
        "#Evaluate the performance\n",
        "accuracy_resampled = accuracy_score(y_test, predictions_resampled)\n",
        "classification_report_resampled = classification_report(y_test, predictions_resampled)\n",
        "confusion_matrix_resampled = confusion_matrix(y_test, predictions_resampled)\n",
        "\n",
        "print(\"Accuracy (Resampled):\", accuracy_resampled)\n",
        "print(\"Classification Report (Resampled):\\n\", classification_report_resampled)\n",
        "print(\"Confusion Matrix (Resampled):\\n\", confusion_matrix_resampled)"
      ]
    },
    {
      "cell_type": "markdown",
      "id": "cfd0adc4",
      "metadata": {
        "id": "cfd0adc4"
      },
      "source": [
        "# GridSearchCV"
      ]
    },
    {
      "cell_type": "code",
      "execution_count": null,
      "id": "2414b082-2baf-462f-ae90-b1c3181a6919",
      "metadata": {
        "tags": [],
        "id": "2414b082-2baf-462f-ae90-b1c3181a6919"
      },
      "outputs": [],
      "source": [
        "# Dropping specified columns to create feature matrix X and target vector y\n",
        "X = encoded_df.drop(['Exercise Hours Per Week',\n",
        "                     'Stress Level',\n",
        "                     'Sedentary Hours Per Day',\n",
        "                     'Income',\n",
        "                     'Physical Activity Days Per Week',\n",
        "                     'Sleep Hours Per Day',\n",
        "                     'Heart Attack Risk',\n",
        "                     'Diet_Average',\n",
        "                     'Diet_Healthy',\n",
        "                     'Diet_Unhealthy',\n",
        "                     'Country',\n",
        "                     'Capital',\n",
        "                     'lat',\n",
        "                     'long',\n",
        "                     'Continent',\n",
        "                     'Patient ID',\n",
        "                     'Hemisphere'], axis=1)\n",
        "\n",
        "y = encoded_df['Heart Attack Risk']\n",
        "print(X.columns)"
      ]
    },
    {
      "cell_type": "code",
      "execution_count": null,
      "id": "6926c402-e821-4918-96da-5e6b6be20d22",
      "metadata": {
        "tags": [],
        "id": "6926c402-e821-4918-96da-5e6b6be20d22"
      },
      "outputs": [],
      "source": [
        "from sklearn.model_selection import GridSearchCV\n",
        "from sklearn.neighbors import KNeighborsClassifier\n",
        "from sklearn.pipeline import Pipeline\n",
        "from sklearn.preprocessing import MinMaxScaler\n",
        "from sklearn.model_selection import train_test_split\n",
        "\n",
        "# Assuming you already have X and y defined\n",
        "\n",
        "# Splitting the data into training and testing sets\n",
        "X_train, X_test, y_train, y_test = train_test_split(X, y, test_size=0.2, random_state=42)\n",
        "\n",
        "# Creating StandardScaler instance\n",
        "scaler = MinMaxScaler()\n",
        "\n",
        "# Fitting StandardScaler\n",
        "X_train_scaled = scaler.fit_transform(X_train)\n",
        "X_test_scaled = scaler.transform(X_test)\n",
        "\n",
        "# Define the pipeline including MinMaxScaler and KNeighborsClassifier\n",
        "knn_pipe = Pipeline([\n",
        "    ('mms', MinMaxScaler()),\n",
        "    ('knn', KNeighborsClassifier())\n",
        "])\n",
        "\n",
        "# Define the parameters grid for GridSearchCV\n",
        "params = [{\n",
        "    'knn__n_neighbors': [3, 5, 7, 9],\n",
        "    'knn__weights': ['uniform', 'distance'],\n",
        "    'knn__leaf_size': [15, 20]\n",
        "}]\n",
        "\n",
        "# Initialize GridSearchCV with the pipeline, parameters, scoring, and cross-validation\n",
        "gs_knn = GridSearchCV(\n",
        "    knn_pipe,\n",
        "    param_grid=params,\n",
        "    scoring='accuracy',\n",
        "    cv=5\n",
        ")\n",
        "\n",
        "# Fit GridSearchCV on the training data\n",
        "gs_knn.fit(X_train_scaled, y_train)\n",
        "\n",
        "# Print the best parameters found by GridSearchCV\n",
        "print(\"Best Parameters:\", gs_knn.best_params_)\n",
        "\n",
        "# Find the score of the best model on the training data\n",
        "print(\"Best Model Score on Training Data:\", gs_knn.score(X_train_scaled, y_train))\n",
        "print(f\"Training Data Score: {gs_knn.score(X_train_scaled, y_train)}\")\n",
        "print(f\"Testing Data Score: {gs_knn.score(X_test_scaled, y_test)}\")"
      ]
    },
    {
      "cell_type": "code",
      "execution_count": null,
      "id": "43815a96-a8c4-4bfa-9df6-08cf4807b3c6",
      "metadata": {
        "tags": [],
        "id": "43815a96-a8c4-4bfa-9df6-08cf4807b3c6"
      },
      "outputs": [],
      "source": [
        "gs_knn_y_pred = gs_knn.predict(X_test_scaled)"
      ]
    },
    {
      "cell_type": "code",
      "execution_count": null,
      "id": "0d63452b-1565-40f2-a084-f0ed06e65438",
      "metadata": {
        "tags": [],
        "id": "0d63452b-1565-40f2-a084-f0ed06e65438"
      },
      "outputs": [],
      "source": [
        "# Calculating the confusion matrix\n",
        "cm = confusion_matrix(y_test, gs_knn_y_pred)\n",
        "cm_df = pd.DataFrame(\n",
        "    cm, index=[\"Actual 0\", \"Actual 1\"], columns=[\"Predicted 0\", \"Predicted 1\"]\n",
        ")\n",
        "\n",
        "# Calculating the accuracy score\n",
        "acc_score = accuracy_score(y_test, gs_knn_y_pred)"
      ]
    },
    {
      "cell_type": "code",
      "execution_count": null,
      "id": "ef016bde-79dd-43c2-9a6c-50cf827f16c3",
      "metadata": {
        "tags": [],
        "id": "ef016bde-79dd-43c2-9a6c-50cf827f16c3"
      },
      "outputs": [],
      "source": [
        "# Displaying results\n",
        "print(\"Confusion Matrix\")\n",
        "display(cm_df)\n",
        "print(f\"Accuracy Score : {acc_score}\")\n",
        "print(\"Classification Report\")\n",
        "print(classification_report(y_test,  gs_knn_y_pred))"
      ]
    },
    {
      "cell_type": "markdown",
      "id": "c9201ec1",
      "metadata": {
        "id": "c9201ec1"
      },
      "source": [
        "# Grid Search with Logistic Regression"
      ]
    },
    {
      "cell_type": "code",
      "execution_count": null,
      "id": "2ab3cc38-a76a-4bb0-903f-5919049108c7",
      "metadata": {
        "id": "2ab3cc38-a76a-4bb0-903f-5919049108c7"
      },
      "outputs": [],
      "source": [
        "# Dropping specified columns to create feature matrix X and target vector y\n",
        "X = encoded_df.drop(['Exercise Hours Per Week',\n",
        "                     'Stress Level',\n",
        "                     'Sedentary Hours Per Day',\n",
        "                     'Income',\n",
        "                     'Physical Activity Days Per Week',\n",
        "                     'Sleep Hours Per Day',\n",
        "                     'Heart Attack Risk',\n",
        "                     'Diet_Average',\n",
        "                     'Diet_Healthy',\n",
        "                     'Diet_Unhealthy',\n",
        "                     'Country',\n",
        "                     'Capital',\n",
        "                     'lat',\n",
        "                     'long',\n",
        "                     'Continent',\n",
        "                     'Patient ID',\n",
        "                     'Hemisphere'], axis=1)\n",
        "\n",
        "y = encoded_df['Heart Attack Risk']\n",
        "print(X.columns)"
      ]
    },
    {
      "cell_type": "code",
      "execution_count": null,
      "id": "f2f0e669-365a-4c86-92c5-8802930f30fb",
      "metadata": {
        "id": "f2f0e669-365a-4c86-92c5-8802930f30fb"
      },
      "outputs": [],
      "source": [
        "X = (X-np.min(X))/(np.max(X)-np.min(X))"
      ]
    },
    {
      "cell_type": "code",
      "execution_count": null,
      "id": "d33480d9-26c2-41b5-b07c-3f6ab02065d2",
      "metadata": {
        "id": "d33480d9-26c2-41b5-b07c-3f6ab02065d2"
      },
      "outputs": [],
      "source": [
        "X_train, X_test, y_train, y_test = train_test_split(X, y, test_size=0.3, random_state=42)"
      ]
    },
    {
      "cell_type": "code",
      "execution_count": null,
      "id": "2a3bd11a",
      "metadata": {
        "id": "2a3bd11a"
      },
      "outputs": [],
      "source": [
        "# Grid search cross validation\n",
        "from sklearn.model_selection import GridSearchCV\n",
        "from sklearn.linear_model import LogisticRegression\n",
        "grid={\"C\":np.logspace(-3,3,7), \"penalty\":[\"l1\",\"l2\"]}# l1 lasso l2 ridge\n",
        "logreg=LogisticRegression()\n",
        "logreg_cv=GridSearchCV(logreg,grid,cv=10)\n",
        "logreg_cv.fit(X_train,y_train)\n",
        "\n",
        "print(\"tuned hpyerparameters :(best parameters) \",logreg_cv.best_params_)\n",
        "print(\"accuracy :\",logreg_cv.best_score_)"
      ]
    },
    {
      "cell_type": "code",
      "execution_count": null,
      "id": "22ad8689",
      "metadata": {
        "tags": [],
        "id": "22ad8689"
      },
      "outputs": [],
      "source": [
        "logreg2=LogisticRegression(C=1,penalty=\"l2\")\n",
        "logreg2.fit(X_train,y_train)\n",
        "print(\"score\",logreg2.score(X_test,y_test))"
      ]
    },
    {
      "cell_type": "code",
      "source": [
        "!pip install keras-tuner"
      ],
      "metadata": {
        "id": "Slsq7T4P-TAt"
      },
      "id": "Slsq7T4P-TAt",
      "execution_count": null,
      "outputs": []
    },
    {
      "cell_type": "code",
      "source": [
        "# Import our dependencies\n",
        "import sklearn as skl\n",
        "import tensorflow as tf\n",
        "\n",
        "# Dropping specified columns to create feature matrix X and target vector y\n",
        "X = encoded_df.drop(['Exercise Hours Per Week',\n",
        "                     'Stress Level',\n",
        "                     'Sedentary Hours Per Day',\n",
        "                     'Income',\n",
        "                     'Physical Activity Days Per Week',\n",
        "                     'Sleep Hours Per Day',\n",
        "                     'Heart Attack Risk',\n",
        "                     'Diet_Average',\n",
        "                     'Diet_Healthy',\n",
        "                     'Diet_Unhealthy',\n",
        "                     'Country',\n",
        "                     'Capital',\n",
        "                     'lat',\n",
        "                     'long',\n",
        "                     'Continent',\n",
        "                     'Patient ID',\n",
        "                     'Hemisphere'], axis=1)\n",
        "\n",
        "y = encoded_df['Heart Attack Risk']\n",
        "\n",
        "# Use sklearn to split dataset\n",
        "from sklearn.model_selection import train_test_split\n",
        "X_train, X_test, y_train, y_test = train_test_split(X, y, random_state=78)\n",
        "\n",
        "# Create scaler instance\n",
        "X_scaler = skl.preprocessing.StandardScaler()\n",
        "\n",
        "# Fit the scaler\n",
        "X_scaler.fit(X_train)\n",
        "\n",
        "# Scale the data\n",
        "X_train_scaled = X_scaler.transform(X_train)\n",
        "X_test_scaled = X_scaler.transform(X_test)"
      ],
      "metadata": {
        "id": "3X2FjT0V-TDX"
      },
      "id": "3X2FjT0V-TDX",
      "execution_count": null,
      "outputs": []
    },
    {
      "cell_type": "code",
      "source": [
        "# Create a method that creates a new Sequential model with hyperparameter options\n",
        "def create_model(hp):\n",
        "    nn_model = tf.keras.models.Sequential()\n",
        "\n",
        "    # Allow kerastuner to decide which activation function to use in hidden layers\n",
        "    activation = hp.Choice('activation',['relu','tanh','sigmoid'])\n",
        "\n",
        "    # Allow kerastuner to decide number of neurons in first layer\n",
        "    nn_model.add(tf.keras.layers.Dense(units=hp.Int('first_units',\n",
        "        min_value=1,\n",
        "        max_value=10,\n",
        "        step=2), activation=activation, input_dim=2))\n",
        "\n",
        "    # Allow kerastuner to decide number of hidden layers and neurons in hidden layers\n",
        "    for i in range(hp.Int('num_layers', 1, 6)):\n",
        "        nn_model.add(tf.keras.layers.Dense(units=hp.Int('units_' + str(i),\n",
        "            min_value=1,\n",
        "            max_value=10,\n",
        "            step=2),\n",
        "            activation=activation))\n",
        "\n",
        "    nn_model.add(tf.keras.layers.Dense(units=1, activation=\"sigmoid\"))\n",
        "\n",
        "    # Compile the model\n",
        "    nn_model.compile(loss=\"binary_crossentropy\", optimizer='adam', metrics=[\"accuracy\"])\n",
        "\n",
        "    return nn_model"
      ],
      "metadata": {
        "id": "xjTFp2k--TGu"
      },
      "id": "xjTFp2k--TGu",
      "execution_count": null,
      "outputs": []
    },
    {
      "cell_type": "code",
      "source": [
        "# Import the kerastuner library\n",
        "import keras_tuner as kt\n",
        "\n",
        "tuner = kt.Hyperband(\n",
        "    create_model,\n",
        "    objective=\"val_accuracy\",\n",
        "    max_epochs=20,\n",
        "    hyperband_iterations=2)"
      ],
      "metadata": {
        "id": "0BLUuAXY-TKW"
      },
      "id": "0BLUuAXY-TKW",
      "execution_count": null,
      "outputs": []
    },
    {
      "cell_type": "code",
      "source": [
        "# Run the kerastuner search for best hyperparameters\n",
        "tuner.search(X_train_scaled,y_train,epochs=20,validation_data=(X_test_scaled,y_test))"
      ],
      "metadata": {
        "id": "gzKQKGvd-TN5"
      },
      "id": "gzKQKGvd-TN5",
      "execution_count": null,
      "outputs": []
    },
    {
      "cell_type": "code",
      "source": [
        "# Get top 3 best model hyperparameters\n",
        "best_hyperparameters = tuner.get_best_hyperparameters(3)\n",
        "\n",
        "# Print the values of the top 3 best hyperparameters\n",
        "for idx, best_hyper in enumerate(best_hyperparameters):\n",
        "    print(f\"Hyperparameters for model {idx+1}:\")\n",
        "    print(best_hyper.values)\n"
      ],
      "metadata": {
        "id": "zX2jupGzAa-3"
      },
      "id": "zX2jupGzAa-3",
      "execution_count": null,
      "outputs": []
    },
    {
      "cell_type": "code",
      "source": [
        "# Get top 3 best models\n",
        "best_models = tuner.get_best_models(3)\n",
        "\n",
        "# Evaluate each best model against full test data and print accuracy\n",
        "for idx, best_model in enumerate(best_models):\n",
        "    model_loss, model_accuracy = best_model.evaluate(X_test_scaled, y_test, verbose=2)\n",
        "    print(f\"Accuracy for model {idx + 1}: {model_accuracy}\")\n"
      ],
      "metadata": {
        "id": "l4PexzYmAoxq"
      },
      "id": "l4PexzYmAoxq",
      "execution_count": null,
      "outputs": []
    },
    {
      "cell_type": "code",
      "source": [
        "# Dropping specified columns to create feature matrix X and target vector y\n",
        "X = encoded_df.drop(['Exercise Hours Per Week',\n",
        "                     'Stress Level',\n",
        "                     'Sedentary Hours Per Day',\n",
        "                     'Income',\n",
        "                     'Physical Activity Days Per Week',\n",
        "                     'Sleep Hours Per Day',\n",
        "                     'Heart Attack Risk',\n",
        "                     'Diet_Average',\n",
        "                     'Diet_Healthy',\n",
        "                     'Diet_Unhealthy',\n",
        "                     'Country',\n",
        "                     'Capital',\n",
        "                     'lat',\n",
        "                     'long',\n",
        "                     'Continent',\n",
        "                     'Patient ID',\n",
        "                     'Hemisphere'], axis=1)\n",
        "\n",
        "y = encoded_df['Heart Attack Risk']"
      ],
      "metadata": {
        "id": "dKjrmQH-BIXb"
      },
      "id": "dKjrmQH-BIXb",
      "execution_count": null,
      "outputs": []
    },
    {
      "cell_type": "code",
      "source": [
        "# Split the preprocessed data into a training and testing dataset\n",
        "X_train, X_test, y_train, y_test = train_test_split(X, y, test_size=0.2 ,random_state=42)"
      ],
      "metadata": {
        "id": "mgE9UwqMBLIN"
      },
      "id": "mgE9UwqMBLIN",
      "execution_count": null,
      "outputs": []
    },
    {
      "cell_type": "code",
      "source": [
        "# Create a StandardScaler instances\n",
        "scaler = StandardScaler()\n",
        "\n",
        "# Fit the StandardScaler\n",
        "X_scaler = scaler.fit(X_train)\n",
        "\n",
        "# Scale the data\n",
        "X_train_scaled = X_scaler.transform(X_train)\n",
        "X_test_scaled = X_scaler.transform(X_test)"
      ],
      "metadata": {
        "id": "2pOokEnEBRvO"
      },
      "id": "2pOokEnEBRvO",
      "execution_count": null,
      "outputs": []
    },
    {
      "cell_type": "code",
      "source": [
        "# Define the model - deep neural net, i.e., the number of input features and hidden nodes for each layer.\n",
        "\n",
        "number_input_features = len(X_train_scaled[0])\n",
        "hidden_nodes_layer1 =  40\n",
        "hidden_nodes_layer2 = 20\n",
        "hidden_nodes_layer3 = 5\n",
        "hidden_nodes_layer4 = 2\n",
        "\n",
        "nn = tf.keras.models.Sequential()\n",
        "\n",
        "\n",
        "# First hidden layer\n",
        "nn.add(tf.keras.layers.Dense(units=hidden_nodes_layer1, input_dim=number_input_features, activation=\"relu\"))\n",
        "\n",
        "# Second hidden layer\n",
        "nn.add(tf.keras.layers.Dense(units=hidden_nodes_layer2, activation=\"sigmoid\"))\n",
        "\n",
        "# Third hidden layer\n",
        "nn.add(tf.keras.layers.Dense(units=hidden_nodes_layer3, activation=\"tanh\"))\n",
        "\n",
        "# Fourth hidden layer\n",
        "nn.add(tf.keras.layers.Dense(units=hidden_nodes_layer4, activation=\"softmax\"))\n",
        "\n",
        "# Output layer\n",
        "nn.add(tf.keras.layers.Dense(units=1, activation=\"sigmoid\"))\n",
        "\n",
        "# Check the structure of the model\n",
        "nn.summary()"
      ],
      "metadata": {
        "id": "DyR8Iuq0BUYS"
      },
      "id": "DyR8Iuq0BUYS",
      "execution_count": null,
      "outputs": []
    },
    {
      "cell_type": "code",
      "source": [
        "# Compile the model\n",
        "nn.compile(optimizer='adam', loss='binary_crossentropy', metrics=['accuracy'])"
      ],
      "metadata": {
        "id": "69vmVUjSBXgh"
      },
      "id": "69vmVUjSBXgh",
      "execution_count": null,
      "outputs": []
    },
    {
      "cell_type": "code",
      "source": [
        "# Train the model with early stopping and provide validation data\n",
        "hist = nn.fit(X_train_scaled, y_train, epochs=100)"
      ],
      "metadata": {
        "id": "7dTrHju_BZzo"
      },
      "id": "7dTrHju_BZzo",
      "execution_count": null,
      "outputs": []
    },
    {
      "cell_type": "code",
      "source": [
        "# Import matplotlib.pyplot\n",
        "import matplotlib.pyplot as plt\n",
        "\n",
        "# Plot the training loss\n",
        "plt.plot(hist.history['loss'])\n",
        "plt.xlabel('Epoch')\n",
        "plt.ylabel('Loss')\n",
        "plt.title('Training Loss Over Epochs')\n",
        "plt.show()"
      ],
      "metadata": {
        "id": "4NTtozjuBnmg"
      },
      "id": "4NTtozjuBnmg",
      "execution_count": null,
      "outputs": []
    }
  ],
  "metadata": {
    "kernelspec": {
      "display_name": "conda_tensorflow2_p310",
      "language": "python",
      "name": "conda_tensorflow2_p310"
    },
    "language_info": {
      "codemirror_mode": {
        "name": "ipython",
        "version": 3
      },
      "file_extension": ".py",
      "mimetype": "text/x-python",
      "name": "python",
      "nbconvert_exporter": "python",
      "pygments_lexer": "ipython3",
      "version": "3.10.13"
    },
    "colab": {
      "provenance": []
    }
  },
  "nbformat": 4,
  "nbformat_minor": 5
}
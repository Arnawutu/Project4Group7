{
 "cells": [
  {
   "cell_type": "code",
   "execution_count": 2,
   "id": "7662c46b-c8ab-40b5-b26a-24e2d2c58aa8",
   "metadata": {
    "tags": []
   },
   "outputs": [
    {
     "name": "stderr",
     "output_type": "stream",
     "text": [
      "/home/ec2-user/anaconda3/envs/python3/lib/python3.10/site-packages/pandas/core/computation/expressions.py:21: UserWarning: Pandas requires version '2.8.0' or newer of 'numexpr' (version '2.7.3' currently installed).\n",
      "  from pandas.core.computation.check import NUMEXPR_INSTALLED\n"
     ]
    },
    {
     "name": "stdout",
     "output_type": "stream",
     "text": [
      "sagemaker.config INFO - Not applying SDK defaults from location: /etc/xdg/sagemaker/config.yaml\n",
      "sagemaker.config INFO - Not applying SDK defaults from location: /home/ec2-user/.config/sagemaker/config.yaml\n"
     ]
    }
   ],
   "source": [
    "# Psycopg2 is a popular PostgreSQL adapter for the Python programming language. It allows Python code to interact with PostgreSQL databases. \n",
    "import psycopg2\n",
    "\n",
    "# Amazon SageMaker and related imports\n",
    "import sagemaker\n",
    "import sagemaker.amazon.common as smac\n",
    "from sagemaker.deserializers import JSONDeserializer\n",
    "from sagemaker.serializers import CSVSerializer\n",
    "from sagemaker import get_execution_role\n",
    "from sagemaker import image_uris\n",
    "import boto3  # AWS Python sdk\n",
    "\n",
    "%matplotlib inline"
   ]
  },
  {
   "cell_type": "code",
   "execution_count": 3,
   "id": "08c3f485-ca9b-478a-b90a-e29eca38d355",
   "metadata": {
    "tags": []
   },
   "outputs": [],
   "source": [
    "PGEND_POINT = 'database-1.cfwmkaw8o6bp.us-east-1.rds.amazonaws.com' #End Point\n",
    "PGDATABASE_NAME ='heart_attack_prediction_db' #data base name \n",
    "PGUSER_NAME = 'postgres'\n",
    "PGPASSWORD = 'B00TC4MP'"
   ]
  },
  {
   "cell_type": "code",
   "execution_count": 4,
   "id": "4513e98d-709e-4450-84b8-869b5a59465b",
   "metadata": {
    "tags": []
   },
   "outputs": [],
   "source": [
    "def connect():\n",
    "    #conn_string = \"host=\"+ PGEND_POINT +\" port=\"+ \"5432\" + \"bdname=\" + PGDATABASE_NAME + \" user=\" + PGUSER_NAME + \" password=\" + PGPASSWORD\n",
    "    conn_string = f\"host={PGEND_POINT} port=5432 dbname={PGDATABASE_NAME} user={PGUSER_NAME} password={PGPASSWORD}\"\n",
    "    conn = psycopg2.connect(conn_string)\n",
    "    print(\"Connected!\")\n",
    "    \n",
    "    #Create a cursor object\n",
    "    cursor = conn.cursor()\n",
    "    \n",
    "    return conn, cursor\n"
   ]
  },
  {
   "cell_type": "code",
   "execution_count": 5,
   "id": "61c66af7-e58f-4e01-85b2-6d1ca8a45b8d",
   "metadata": {
    "tags": []
   },
   "outputs": [],
   "source": [
    "#Close connection function definition\n",
    "def close_connection(conn, cursor):\n",
    "    conn.commit()\n",
    "    cursor.close()\n",
    "    conn.close()\n",
    "    print(\"Connection closed.\")"
   ]
  },
  {
   "cell_type": "code",
   "execution_count": 6,
   "id": "1481f7aa-bb58-4263-9b6c-eb488cbbcb82",
   "metadata": {
    "tags": []
   },
   "outputs": [
    {
     "name": "stdout",
     "output_type": "stream",
     "text": [
      "Connected!\n"
     ]
    }
   ],
   "source": [
    "conn, cursor = connect()"
   ]
  },
  {
   "cell_type": "code",
   "execution_count": 7,
   "id": "e7a3b137-d34e-4c89-acd3-43c0f7e9913b",
   "metadata": {
    "tags": []
   },
   "outputs": [
    {
     "name": "stdout",
     "output_type": "stream",
     "text": [
      "Connection closed.\n"
     ]
    }
   ],
   "source": [
    "# Call this function when you're done with your database operations\n",
    "close_connection(conn, cursor)"
   ]
  },
  {
   "cell_type": "markdown",
   "id": "3ae06f20-08c1-44c7-acb3-49f7c14afd1b",
   "metadata": {},
   "source": [
    "# TEST TABLE INSERT"
   ]
  },
  {
   "cell_type": "code",
   "execution_count": 8,
   "id": "88bfa5f1-222b-4a98-a7e3-f70e8cdfba10",
   "metadata": {
    "tags": []
   },
   "outputs": [
    {
     "name": "stdout",
     "output_type": "stream",
     "text": [
      "Connected!\n"
     ]
    }
   ],
   "source": [
    "conn, cursor = connect()"
   ]
  },
  {
   "cell_type": "code",
   "execution_count": 9,
   "id": "9dc7342b-615e-4f38-911e-25a0c03eae9d",
   "metadata": {
    "tags": []
   },
   "outputs": [],
   "source": [
    "from psycopg2 import sql\n",
    "\n",
    "query_food = sql.SQL(\"\"\"CREATE TABLE Menu(\n",
    "    food_id INT NOT NULL,\n",
    "    food_name VARCHAR(30) NOT NULL, \n",
    "    PRIMARY KEY (food_id),\n",
    "    UNIQUE(food_name)\n",
    "    );\"\"\")"
   ]
  },
  {
   "cell_type": "code",
   "execution_count": 10,
   "id": "b020c346-218e-413f-b6a3-0e50c9314a84",
   "metadata": {
    "tags": []
   },
   "outputs": [],
   "source": [
    "cur = conn.cursor()\n",
    "cur.execute(query_food)\n",
    "cur.close() #close the communication with the PostgresSQL database server\n",
    "conn.commit() #Commit changes"
   ]
  },
  {
   "cell_type": "code",
   "execution_count": 11,
   "id": "0e068cd1-f10f-4f9e-bdd4-0e341c4f0a8d",
   "metadata": {
    "tags": []
   },
   "outputs": [],
   "source": [
    "#insert some data into table\n",
    "query_food_insert = sql.SQL(\"\"\"\n",
    "INSERT INTO Menu\n",
    "    (food_id, food_name) VALUES (1, 'Tacos'), (2,'Tomato Soup'), (3, 'Grilled Cheese'); \n",
    "    \"\"\")"
   ]
  },
  {
   "cell_type": "code",
   "execution_count": 12,
   "id": "b13d1db0-a2d9-4b3f-a6c8-f9730b438a9d",
   "metadata": {
    "tags": []
   },
   "outputs": [],
   "source": [
    "cur = conn.cursor()\n",
    "cur.execute(query_food_insert)\n",
    "cur.close() #close the communication with the PostgresSQL database server\n",
    "conn.commit() #Commit changes"
   ]
  },
  {
   "cell_type": "code",
   "execution_count": 13,
   "id": "cfc14ee9-3d7c-4d84-921f-c1ee0726e058",
   "metadata": {
    "tags": []
   },
   "outputs": [],
   "source": [
    "#query the table\n",
    "query_menu = sql.SQL(\"\"\"\n",
    "SELECT * FROM Menu;\"\"\")"
   ]
  },
  {
   "cell_type": "code",
   "execution_count": 19,
   "id": "e1915cdb-3e65-46e9-9fad-a2a17f2cfdbe",
   "metadata": {
    "tags": []
   },
   "outputs": [],
   "source": [
    "cur = conn.cursor()\n",
    "cur.execute(query_menu)"
   ]
  },
  {
   "cell_type": "code",
   "execution_count": 21,
   "id": "1fd5f267-cf0e-4605-8c8e-cf043641f1fa",
   "metadata": {
    "tags": []
   },
   "outputs": [
    {
     "name": "stdout",
     "output_type": "stream",
     "text": [
      "(1, 'Tacos')\n"
     ]
    }
   ],
   "source": [
    "print(cur.fetchone())"
   ]
  },
  {
   "cell_type": "code",
   "execution_count": 17,
   "id": "6f41f571-a2cf-4bc6-b52b-f7d20125a9e1",
   "metadata": {
    "tags": []
   },
   "outputs": [
    {
     "name": "stdout",
     "output_type": "stream",
     "text": [
      "[(1, 'Tacos'), (2, 'Tomato Soup'), (3, 'Grilled Cheese')]\n"
     ]
    }
   ],
   "source": [
    "print(cur.fetchall())"
   ]
  },
  {
   "cell_type": "markdown",
   "id": "475dcdfc-8a7a-42bb-b7df-f06fdec9bbc3",
   "metadata": {},
   "source": [
    "# DATA FRAME"
   ]
  },
  {
   "cell_type": "code",
   "execution_count": null,
   "id": "3b91e56a-7df8-4d59-98b0-865b2387b221",
   "metadata": {},
   "outputs": [],
   "source": [
    "cur = conn.cursor()\n",
    "cur.execute(query_menu)"
   ]
  },
  {
   "cell_type": "code",
   "execution_count": 23,
   "id": "929fc4aa-8f0b-42dd-896a-278f92ce841c",
   "metadata": {
    "tags": []
   },
   "outputs": [],
   "source": [
    "#importing data set using pandas\n",
    "import pandas as pd\n",
    "df_menu = pd.DataFrame(cur.fetchall(), columns=['food_id','food_name'])"
   ]
  },
  {
   "cell_type": "code",
   "execution_count": 24,
   "id": "a13bfded-8906-4d87-9aa7-f26271c1c77e",
   "metadata": {
    "tags": []
   },
   "outputs": [
    {
     "data": {
      "text/html": [
       "<div>\n",
       "<style scoped>\n",
       "    .dataframe tbody tr th:only-of-type {\n",
       "        vertical-align: middle;\n",
       "    }\n",
       "\n",
       "    .dataframe tbody tr th {\n",
       "        vertical-align: top;\n",
       "    }\n",
       "\n",
       "    .dataframe thead th {\n",
       "        text-align: right;\n",
       "    }\n",
       "</style>\n",
       "<table border=\"1\" class=\"dataframe\">\n",
       "  <thead>\n",
       "    <tr style=\"text-align: right;\">\n",
       "      <th></th>\n",
       "      <th>food_id</th>\n",
       "      <th>food_name</th>\n",
       "    </tr>\n",
       "  </thead>\n",
       "  <tbody>\n",
       "    <tr>\n",
       "      <th>0</th>\n",
       "      <td>2</td>\n",
       "      <td>Tomato Soup</td>\n",
       "    </tr>\n",
       "    <tr>\n",
       "      <th>1</th>\n",
       "      <td>3</td>\n",
       "      <td>Grilled Cheese</td>\n",
       "    </tr>\n",
       "  </tbody>\n",
       "</table>\n",
       "</div>"
      ],
      "text/plain": [
       "   food_id       food_name\n",
       "0        2     Tomato Soup\n",
       "1        3  Grilled Cheese"
      ]
     },
     "execution_count": 24,
     "metadata": {},
     "output_type": "execute_result"
    }
   ],
   "source": [
    "df_menu"
   ]
  },
  {
   "cell_type": "code",
   "execution_count": 25,
   "id": "371e7c4e-b4d5-4fb7-b1ab-cf587dd5ebca",
   "metadata": {
    "tags": []
   },
   "outputs": [],
   "source": [
    "cur.close()\n",
    "conn.commit()"
   ]
  },
  {
   "cell_type": "markdown",
   "id": "f5b77ad4-6265-495e-ab76-9f199ddb31c3",
   "metadata": {},
   "source": [
    "# Data Frame into a Table"
   ]
  },
  {
   "cell_type": "code",
   "execution_count": 26,
   "id": "b8a01c4a-8155-4d51-9bbd-cfcf49b68dc3",
   "metadata": {
    "tags": []
   },
   "outputs": [],
   "source": [
    "data = {'Name':['Tom','Jerry','Spedee'], 'Age':[50, 25, 10]}"
   ]
  },
  {
   "cell_type": "code",
   "execution_count": 27,
   "id": "0a2c5a72-3c3a-4410-b514-5da2e06c3ff8",
   "metadata": {
    "tags": []
   },
   "outputs": [
    {
     "data": {
      "text/html": [
       "<div>\n",
       "<style scoped>\n",
       "    .dataframe tbody tr th:only-of-type {\n",
       "        vertical-align: middle;\n",
       "    }\n",
       "\n",
       "    .dataframe tbody tr th {\n",
       "        vertical-align: top;\n",
       "    }\n",
       "\n",
       "    .dataframe thead th {\n",
       "        text-align: right;\n",
       "    }\n",
       "</style>\n",
       "<table border=\"1\" class=\"dataframe\">\n",
       "  <thead>\n",
       "    <tr style=\"text-align: right;\">\n",
       "      <th></th>\n",
       "      <th>Name</th>\n",
       "      <th>Age</th>\n",
       "    </tr>\n",
       "  </thead>\n",
       "  <tbody>\n",
       "    <tr>\n",
       "      <th>0</th>\n",
       "      <td>Tom</td>\n",
       "      <td>50</td>\n",
       "    </tr>\n",
       "    <tr>\n",
       "      <th>1</th>\n",
       "      <td>Jerry</td>\n",
       "      <td>25</td>\n",
       "    </tr>\n",
       "    <tr>\n",
       "      <th>2</th>\n",
       "      <td>Spedee</td>\n",
       "      <td>10</td>\n",
       "    </tr>\n",
       "  </tbody>\n",
       "</table>\n",
       "</div>"
      ],
      "text/plain": [
       "     Name  Age\n",
       "0     Tom   50\n",
       "1   Jerry   25\n",
       "2  Spedee   10"
      ]
     },
     "execution_count": 27,
     "metadata": {},
     "output_type": "execute_result"
    }
   ],
   "source": [
    "df_people = pd.DataFrame(data)\n",
    "df_people"
   ]
  },
  {
   "cell_type": "code",
   "execution_count": 35,
   "id": "9c36a256-eb57-410b-8c87-7f9fb72b5701",
   "metadata": {
    "tags": []
   },
   "outputs": [],
   "source": [
    "query_people = sql.SQL(\"\"\"CREATE TABLE people (\n",
    "    Name VARCHAR(30) NOT NULL, \n",
    "    Age INT NOT NULL, \n",
    "    PRIMARY KEY(Name),\n",
    "    UNIQUE (Name)\n",
    ");\"\"\")"
   ]
  },
  {
   "cell_type": "code",
   "execution_count": 36,
   "id": "5853106c-e390-4875-ba71-bb5899882ef7",
   "metadata": {
    "tags": []
   },
   "outputs": [],
   "source": [
    "cur = conn.cursor()\n",
    "cur.execute(query_people)\n",
    "cur.close() #close the communication with the PostgresSQL database server\n",
    "conn.commit() #Commit changes"
   ]
  },
  {
   "cell_type": "code",
   "execution_count": 42,
   "id": "977ab62c-f56e-483d-a283-d10b0f99f403",
   "metadata": {
    "tags": []
   },
   "outputs": [],
   "source": [
    "#single insert \n",
    "def single_inserts(conn, df, table):\n",
    "    for i in df.index:\n",
    "        cur = conn.cursor()\n",
    "        cols = ','.join(list(df.columns))\n",
    "        vals = [df.at[i,col] for col in list(df.columns)]\n",
    "        query = \"INSERT INTO %s(%s) VALUES('%s',%s)\" %(table, cols, vals[0], vals[1])\n",
    "        cur.execute(query)\n",
    "        cur.close()\n",
    "        conn.commit()\n",
    "    print(\"single insert completed\")"
   ]
  },
  {
   "cell_type": "code",
   "execution_count": 43,
   "id": "7ac1735e-143c-4091-a148-1acddc87e504",
   "metadata": {
    "tags": []
   },
   "outputs": [
    {
     "name": "stdout",
     "output_type": "stream",
     "text": [
      "single insert completed\n"
     ]
    }
   ],
   "source": [
    "single_inserts(conn, df_people, 'people')"
   ]
  },
  {
   "cell_type": "code",
   "execution_count": 44,
   "id": "903fb45c-ee95-4dcb-835f-bc42a9c163ad",
   "metadata": {
    "tags": []
   },
   "outputs": [],
   "source": [
    "query_people_table = sql.SQL(\"\"\"\n",
    "SELECT * FROM people;\n",
    "\"\"\")"
   ]
  },
  {
   "cell_type": "code",
   "execution_count": 45,
   "id": "75813da8-61ff-464e-beca-c1978dc5ab91",
   "metadata": {
    "tags": []
   },
   "outputs": [
    {
     "name": "stdout",
     "output_type": "stream",
     "text": [
      "[('Tom', 50), ('Jerry', 25), ('Spedee', 10)]\n"
     ]
    }
   ],
   "source": [
    "cur = conn.cursor()\n",
    "cur.execute(query_people_table)\n",
    "print(cur.fetchall())\n",
    "cur.close()\n",
    "conn.commit()"
   ]
  },
  {
   "cell_type": "code",
   "execution_count": null,
   "id": "6f5b3043-b397-4bb6-ae62-af9d055aa765",
   "metadata": {},
   "outputs": [],
   "source": []
  },
  {
   "cell_type": "code",
   "execution_count": 34,
   "id": "80fff441-6e20-4aa7-9bea-03cb80299134",
   "metadata": {
    "tags": []
   },
   "outputs": [
    {
     "name": "stdout",
     "output_type": "stream",
     "text": [
      "Connected!\n"
     ]
    }
   ],
   "source": [
    "#WARNING THIS DROP THE TABLE\n",
    "query_drop = sql.SQL(\"DROP TABLE IF EXISTS people;\")\n",
    "conn, cursor = connect()\n",
    "cur = conn.cursor()\n",
    "cur.execute(query_drop)\n",
    "cur.close()\n",
    "conn.commit()"
   ]
  },
  {
   "cell_type": "markdown",
   "id": "28274b85-637f-488f-b630-8474fecbc7e9",
   "metadata": {},
   "source": [
    "# batch insert\n",
    " * Importing large data sets into our data base"
   ]
  },
  {
   "cell_type": "code",
   "execution_count": 95,
   "id": "96f617e5-eee5-4922-b14d-75c010d24df7",
   "metadata": {
    "tags": []
   },
   "outputs": [],
   "source": [
    "#importing data set using pandas\n",
    "import pandas as pd\n",
    "\n",
    "heart_attack_df = pd.read_csv(\"Resources/heart_attack_prediction_dataset.csv\")"
   ]
  },
  {
   "cell_type": "code",
   "execution_count": 96,
   "id": "02b67680-58e7-4b25-8b02-556fe45ca3db",
   "metadata": {
    "tags": []
   },
   "outputs": [
    {
     "data": {
      "text/plain": [
       "(8763, 26)"
      ]
     },
     "execution_count": 96,
     "metadata": {},
     "output_type": "execute_result"
    }
   ],
   "source": [
    "heart_attack_df.shape"
   ]
  },
  {
   "cell_type": "code",
   "execution_count": 97,
   "id": "3a3f53e3-5d0a-4d86-9172-1ef6bb84dfd2",
   "metadata": {
    "tags": []
   },
   "outputs": [
    {
     "data": {
      "text/html": [
       "<div>\n",
       "<style scoped>\n",
       "    .dataframe tbody tr th:only-of-type {\n",
       "        vertical-align: middle;\n",
       "    }\n",
       "\n",
       "    .dataframe tbody tr th {\n",
       "        vertical-align: top;\n",
       "    }\n",
       "\n",
       "    .dataframe thead th {\n",
       "        text-align: right;\n",
       "    }\n",
       "</style>\n",
       "<table border=\"1\" class=\"dataframe\">\n",
       "  <thead>\n",
       "    <tr style=\"text-align: right;\">\n",
       "      <th></th>\n",
       "      <th>Patient ID</th>\n",
       "      <th>Age</th>\n",
       "      <th>Sex</th>\n",
       "      <th>Cholesterol</th>\n",
       "      <th>Blood Pressure</th>\n",
       "      <th>Heart Rate</th>\n",
       "      <th>Diabetes</th>\n",
       "      <th>Family History</th>\n",
       "      <th>Smoking</th>\n",
       "      <th>Obesity</th>\n",
       "      <th>...</th>\n",
       "      <th>Sedentary Hours Per Day</th>\n",
       "      <th>Income</th>\n",
       "      <th>BMI</th>\n",
       "      <th>Triglycerides</th>\n",
       "      <th>Physical Activity Days Per Week</th>\n",
       "      <th>Sleep Hours Per Day</th>\n",
       "      <th>Country</th>\n",
       "      <th>Continent</th>\n",
       "      <th>Hemisphere</th>\n",
       "      <th>Heart Attack Risk</th>\n",
       "    </tr>\n",
       "  </thead>\n",
       "  <tbody>\n",
       "    <tr>\n",
       "      <th>2430</th>\n",
       "      <td>SQU8423</td>\n",
       "      <td>42</td>\n",
       "      <td>Female</td>\n",
       "      <td>260</td>\n",
       "      <td>149/65</td>\n",
       "      <td>93</td>\n",
       "      <td>0</td>\n",
       "      <td>1</td>\n",
       "      <td>1</td>\n",
       "      <td>0</td>\n",
       "      <td>...</td>\n",
       "      <td>0.796202</td>\n",
       "      <td>27113</td>\n",
       "      <td>23.235400</td>\n",
       "      <td>322</td>\n",
       "      <td>3</td>\n",
       "      <td>9</td>\n",
       "      <td>Vietnam</td>\n",
       "      <td>Asia</td>\n",
       "      <td>Northern Hemisphere</td>\n",
       "      <td>0</td>\n",
       "    </tr>\n",
       "    <tr>\n",
       "      <th>4365</th>\n",
       "      <td>KZJ3624</td>\n",
       "      <td>44</td>\n",
       "      <td>Male</td>\n",
       "      <td>261</td>\n",
       "      <td>98/85</td>\n",
       "      <td>104</td>\n",
       "      <td>1</td>\n",
       "      <td>1</td>\n",
       "      <td>1</td>\n",
       "      <td>1</td>\n",
       "      <td>...</td>\n",
       "      <td>2.345751</td>\n",
       "      <td>276643</td>\n",
       "      <td>39.199193</td>\n",
       "      <td>747</td>\n",
       "      <td>6</td>\n",
       "      <td>5</td>\n",
       "      <td>Colombia</td>\n",
       "      <td>South America</td>\n",
       "      <td>Northern Hemisphere</td>\n",
       "      <td>1</td>\n",
       "    </tr>\n",
       "    <tr>\n",
       "      <th>7666</th>\n",
       "      <td>FFQ1643</td>\n",
       "      <td>78</td>\n",
       "      <td>Female</td>\n",
       "      <td>259</td>\n",
       "      <td>172/72</td>\n",
       "      <td>75</td>\n",
       "      <td>0</td>\n",
       "      <td>1</td>\n",
       "      <td>1</td>\n",
       "      <td>1</td>\n",
       "      <td>...</td>\n",
       "      <td>4.159616</td>\n",
       "      <td>187050</td>\n",
       "      <td>27.108105</td>\n",
       "      <td>447</td>\n",
       "      <td>7</td>\n",
       "      <td>7</td>\n",
       "      <td>France</td>\n",
       "      <td>Europe</td>\n",
       "      <td>Northern Hemisphere</td>\n",
       "      <td>1</td>\n",
       "    </tr>\n",
       "    <tr>\n",
       "      <th>6582</th>\n",
       "      <td>AUU5753</td>\n",
       "      <td>26</td>\n",
       "      <td>Female</td>\n",
       "      <td>275</td>\n",
       "      <td>134/80</td>\n",
       "      <td>104</td>\n",
       "      <td>0</td>\n",
       "      <td>0</td>\n",
       "      <td>0</td>\n",
       "      <td>1</td>\n",
       "      <td>...</td>\n",
       "      <td>1.478529</td>\n",
       "      <td>274496</td>\n",
       "      <td>23.080689</td>\n",
       "      <td>758</td>\n",
       "      <td>6</td>\n",
       "      <td>6</td>\n",
       "      <td>India</td>\n",
       "      <td>Asia</td>\n",
       "      <td>Northern Hemisphere</td>\n",
       "      <td>0</td>\n",
       "    </tr>\n",
       "    <tr>\n",
       "      <th>3798</th>\n",
       "      <td>DJM6628</td>\n",
       "      <td>54</td>\n",
       "      <td>Male</td>\n",
       "      <td>146</td>\n",
       "      <td>163/108</td>\n",
       "      <td>93</td>\n",
       "      <td>0</td>\n",
       "      <td>0</td>\n",
       "      <td>1</td>\n",
       "      <td>1</td>\n",
       "      <td>...</td>\n",
       "      <td>8.139367</td>\n",
       "      <td>67895</td>\n",
       "      <td>35.173643</td>\n",
       "      <td>593</td>\n",
       "      <td>0</td>\n",
       "      <td>9</td>\n",
       "      <td>Brazil</td>\n",
       "      <td>South America</td>\n",
       "      <td>Southern Hemisphere</td>\n",
       "      <td>0</td>\n",
       "    </tr>\n",
       "  </tbody>\n",
       "</table>\n",
       "<p>5 rows × 26 columns</p>\n",
       "</div>"
      ],
      "text/plain": [
       "     Patient ID  Age     Sex  Cholesterol Blood Pressure  Heart Rate  \\\n",
       "2430    SQU8423   42  Female          260         149/65          93   \n",
       "4365    KZJ3624   44    Male          261          98/85         104   \n",
       "7666    FFQ1643   78  Female          259         172/72          75   \n",
       "6582    AUU5753   26  Female          275         134/80         104   \n",
       "3798    DJM6628   54    Male          146        163/108          93   \n",
       "\n",
       "      Diabetes  Family History  Smoking  Obesity  ...  \\\n",
       "2430         0               1        1        0  ...   \n",
       "4365         1               1        1        1  ...   \n",
       "7666         0               1        1        1  ...   \n",
       "6582         0               0        0        1  ...   \n",
       "3798         0               0        1        1  ...   \n",
       "\n",
       "      Sedentary Hours Per Day  Income        BMI  Triglycerides  \\\n",
       "2430                 0.796202   27113  23.235400            322   \n",
       "4365                 2.345751  276643  39.199193            747   \n",
       "7666                 4.159616  187050  27.108105            447   \n",
       "6582                 1.478529  274496  23.080689            758   \n",
       "3798                 8.139367   67895  35.173643            593   \n",
       "\n",
       "      Physical Activity Days Per Week  Sleep Hours Per Day   Country  \\\n",
       "2430                                3                    9   Vietnam   \n",
       "4365                                6                    5  Colombia   \n",
       "7666                                7                    7    France   \n",
       "6582                                6                    6     India   \n",
       "3798                                0                    9    Brazil   \n",
       "\n",
       "          Continent           Hemisphere  Heart Attack Risk  \n",
       "2430           Asia  Northern Hemisphere                  0  \n",
       "4365  South America  Northern Hemisphere                  1  \n",
       "7666         Europe  Northern Hemisphere                  1  \n",
       "6582           Asia  Northern Hemisphere                  0  \n",
       "3798  South America  Southern Hemisphere                  0  \n",
       "\n",
       "[5 rows x 26 columns]"
      ]
     },
     "execution_count": 97,
     "metadata": {},
     "output_type": "execute_result"
    }
   ],
   "source": [
    "heart_attack_df.sample(5)"
   ]
  },
  {
   "cell_type": "code",
   "execution_count": 98,
   "id": "41b89359-6338-48e4-85a1-bf3b83208ecd",
   "metadata": {
    "tags": []
   },
   "outputs": [
    {
     "name": "stdout",
     "output_type": "stream",
     "text": [
      "<class 'pandas.core.frame.DataFrame'>\n",
      "RangeIndex: 8763 entries, 0 to 8762\n",
      "Data columns (total 26 columns):\n",
      " #   Column                           Non-Null Count  Dtype  \n",
      "---  ------                           --------------  -----  \n",
      " 0   Patient ID                       8763 non-null   object \n",
      " 1   Age                              8763 non-null   int64  \n",
      " 2   Sex                              8763 non-null   object \n",
      " 3   Cholesterol                      8763 non-null   int64  \n",
      " 4   Blood Pressure                   8763 non-null   object \n",
      " 5   Heart Rate                       8763 non-null   int64  \n",
      " 6   Diabetes                         8763 non-null   int64  \n",
      " 7   Family History                   8763 non-null   int64  \n",
      " 8   Smoking                          8763 non-null   int64  \n",
      " 9   Obesity                          8763 non-null   int64  \n",
      " 10  Alcohol Consumption              8763 non-null   int64  \n",
      " 11  Exercise Hours Per Week          8763 non-null   float64\n",
      " 12  Diet                             8763 non-null   object \n",
      " 13  Previous Heart Problems          8763 non-null   int64  \n",
      " 14  Medication Use                   8763 non-null   int64  \n",
      " 15  Stress Level                     8763 non-null   int64  \n",
      " 16  Sedentary Hours Per Day          8763 non-null   float64\n",
      " 17  Income                           8763 non-null   int64  \n",
      " 18  BMI                              8763 non-null   float64\n",
      " 19  Triglycerides                    8763 non-null   int64  \n",
      " 20  Physical Activity Days Per Week  8763 non-null   int64  \n",
      " 21  Sleep Hours Per Day              8763 non-null   int64  \n",
      " 22  Country                          8763 non-null   object \n",
      " 23  Continent                        8763 non-null   object \n",
      " 24  Hemisphere                       8763 non-null   object \n",
      " 25  Heart Attack Risk                8763 non-null   int64  \n",
      "dtypes: float64(3), int64(16), object(7)\n",
      "memory usage: 1.7+ MB\n"
     ]
    }
   ],
   "source": [
    "heart_attack_df.info()"
   ]
  },
  {
   "cell_type": "code",
   "execution_count": 99,
   "id": "36347deb-d578-44f3-bdea-7f290cd365dc",
   "metadata": {
    "tags": []
   },
   "outputs": [],
   "source": [
    "# Changing the name of the columns\n",
    "heart_attack_df.columns = heart_attack_df.columns.str.replace(' ', '_')"
   ]
  },
  {
   "cell_type": "code",
   "execution_count": 100,
   "id": "edc71a07-08da-489d-85bc-19b8c6776360",
   "metadata": {
    "tags": []
   },
   "outputs": [
    {
     "data": {
      "text/html": [
       "<div>\n",
       "<style scoped>\n",
       "    .dataframe tbody tr th:only-of-type {\n",
       "        vertical-align: middle;\n",
       "    }\n",
       "\n",
       "    .dataframe tbody tr th {\n",
       "        vertical-align: top;\n",
       "    }\n",
       "\n",
       "    .dataframe thead th {\n",
       "        text-align: right;\n",
       "    }\n",
       "</style>\n",
       "<table border=\"1\" class=\"dataframe\">\n",
       "  <thead>\n",
       "    <tr style=\"text-align: right;\">\n",
       "      <th></th>\n",
       "      <th>Patient_ID</th>\n",
       "      <th>Age</th>\n",
       "      <th>Sex</th>\n",
       "      <th>Cholesterol</th>\n",
       "      <th>Blood_Pressure</th>\n",
       "      <th>Heart_Rate</th>\n",
       "      <th>Diabetes</th>\n",
       "      <th>Family_History</th>\n",
       "      <th>Smoking</th>\n",
       "      <th>Obesity</th>\n",
       "      <th>...</th>\n",
       "      <th>Sedentary_Hours_Per_Day</th>\n",
       "      <th>Income</th>\n",
       "      <th>BMI</th>\n",
       "      <th>Triglycerides</th>\n",
       "      <th>Physical_Activity_Days_Per_Week</th>\n",
       "      <th>Sleep_Hours_Per_Day</th>\n",
       "      <th>Country</th>\n",
       "      <th>Continent</th>\n",
       "      <th>Hemisphere</th>\n",
       "      <th>Heart_Attack_Risk</th>\n",
       "    </tr>\n",
       "  </thead>\n",
       "  <tbody>\n",
       "    <tr>\n",
       "      <th>7542</th>\n",
       "      <td>VDR4043</td>\n",
       "      <td>63</td>\n",
       "      <td>Female</td>\n",
       "      <td>374</td>\n",
       "      <td>169/96</td>\n",
       "      <td>93</td>\n",
       "      <td>1</td>\n",
       "      <td>1</td>\n",
       "      <td>1</td>\n",
       "      <td>0</td>\n",
       "      <td>...</td>\n",
       "      <td>6.152517</td>\n",
       "      <td>67278</td>\n",
       "      <td>35.999614</td>\n",
       "      <td>204</td>\n",
       "      <td>6</td>\n",
       "      <td>10</td>\n",
       "      <td>United States</td>\n",
       "      <td>North America</td>\n",
       "      <td>Northern Hemisphere</td>\n",
       "      <td>0</td>\n",
       "    </tr>\n",
       "    <tr>\n",
       "      <th>4447</th>\n",
       "      <td>BKA0472</td>\n",
       "      <td>70</td>\n",
       "      <td>Male</td>\n",
       "      <td>289</td>\n",
       "      <td>112/94</td>\n",
       "      <td>44</td>\n",
       "      <td>1</td>\n",
       "      <td>1</td>\n",
       "      <td>1</td>\n",
       "      <td>0</td>\n",
       "      <td>...</td>\n",
       "      <td>0.513624</td>\n",
       "      <td>94392</td>\n",
       "      <td>35.886313</td>\n",
       "      <td>566</td>\n",
       "      <td>3</td>\n",
       "      <td>5</td>\n",
       "      <td>Japan</td>\n",
       "      <td>Asia</td>\n",
       "      <td>Northern Hemisphere</td>\n",
       "      <td>0</td>\n",
       "    </tr>\n",
       "    <tr>\n",
       "      <th>6170</th>\n",
       "      <td>KRG4242</td>\n",
       "      <td>60</td>\n",
       "      <td>Male</td>\n",
       "      <td>398</td>\n",
       "      <td>103/65</td>\n",
       "      <td>68</td>\n",
       "      <td>0</td>\n",
       "      <td>0</td>\n",
       "      <td>1</td>\n",
       "      <td>0</td>\n",
       "      <td>...</td>\n",
       "      <td>9.583907</td>\n",
       "      <td>281319</td>\n",
       "      <td>38.857619</td>\n",
       "      <td>638</td>\n",
       "      <td>4</td>\n",
       "      <td>7</td>\n",
       "      <td>China</td>\n",
       "      <td>Asia</td>\n",
       "      <td>Northern Hemisphere</td>\n",
       "      <td>1</td>\n",
       "    </tr>\n",
       "    <tr>\n",
       "      <th>4872</th>\n",
       "      <td>OYT8686</td>\n",
       "      <td>28</td>\n",
       "      <td>Female</td>\n",
       "      <td>210</td>\n",
       "      <td>94/108</td>\n",
       "      <td>69</td>\n",
       "      <td>1</td>\n",
       "      <td>1</td>\n",
       "      <td>0</td>\n",
       "      <td>0</td>\n",
       "      <td>...</td>\n",
       "      <td>11.585917</td>\n",
       "      <td>143774</td>\n",
       "      <td>29.962606</td>\n",
       "      <td>648</td>\n",
       "      <td>5</td>\n",
       "      <td>10</td>\n",
       "      <td>Australia</td>\n",
       "      <td>Australia</td>\n",
       "      <td>Southern Hemisphere</td>\n",
       "      <td>0</td>\n",
       "    </tr>\n",
       "    <tr>\n",
       "      <th>3026</th>\n",
       "      <td>MIB3612</td>\n",
       "      <td>66</td>\n",
       "      <td>Female</td>\n",
       "      <td>305</td>\n",
       "      <td>174/108</td>\n",
       "      <td>106</td>\n",
       "      <td>1</td>\n",
       "      <td>1</td>\n",
       "      <td>1</td>\n",
       "      <td>0</td>\n",
       "      <td>...</td>\n",
       "      <td>7.150994</td>\n",
       "      <td>76551</td>\n",
       "      <td>33.525833</td>\n",
       "      <td>362</td>\n",
       "      <td>3</td>\n",
       "      <td>10</td>\n",
       "      <td>Australia</td>\n",
       "      <td>Australia</td>\n",
       "      <td>Southern Hemisphere</td>\n",
       "      <td>1</td>\n",
       "    </tr>\n",
       "  </tbody>\n",
       "</table>\n",
       "<p>5 rows × 26 columns</p>\n",
       "</div>"
      ],
      "text/plain": [
       "     Patient_ID  Age     Sex  Cholesterol Blood_Pressure  Heart_Rate  \\\n",
       "7542    VDR4043   63  Female          374         169/96          93   \n",
       "4447    BKA0472   70    Male          289         112/94          44   \n",
       "6170    KRG4242   60    Male          398         103/65          68   \n",
       "4872    OYT8686   28  Female          210         94/108          69   \n",
       "3026    MIB3612   66  Female          305        174/108         106   \n",
       "\n",
       "      Diabetes  Family_History  Smoking  Obesity  ...  \\\n",
       "7542         1               1        1        0  ...   \n",
       "4447         1               1        1        0  ...   \n",
       "6170         0               0        1        0  ...   \n",
       "4872         1               1        0        0  ...   \n",
       "3026         1               1        1        0  ...   \n",
       "\n",
       "      Sedentary_Hours_Per_Day  Income        BMI  Triglycerides  \\\n",
       "7542                 6.152517   67278  35.999614            204   \n",
       "4447                 0.513624   94392  35.886313            566   \n",
       "6170                 9.583907  281319  38.857619            638   \n",
       "4872                11.585917  143774  29.962606            648   \n",
       "3026                 7.150994   76551  33.525833            362   \n",
       "\n",
       "      Physical_Activity_Days_Per_Week  Sleep_Hours_Per_Day        Country  \\\n",
       "7542                                6                   10  United States   \n",
       "4447                                3                    5          Japan   \n",
       "6170                                4                    7          China   \n",
       "4872                                5                   10      Australia   \n",
       "3026                                3                   10      Australia   \n",
       "\n",
       "          Continent           Hemisphere  Heart_Attack_Risk  \n",
       "7542  North America  Northern Hemisphere                  0  \n",
       "4447           Asia  Northern Hemisphere                  0  \n",
       "6170           Asia  Northern Hemisphere                  1  \n",
       "4872      Australia  Southern Hemisphere                  0  \n",
       "3026      Australia  Southern Hemisphere                  1  \n",
       "\n",
       "[5 rows x 26 columns]"
      ]
     },
     "execution_count": 100,
     "metadata": {},
     "output_type": "execute_result"
    }
   ],
   "source": [
    "heart_attack_df.sample(5)"
   ]
  },
  {
   "cell_type": "code",
   "execution_count": 101,
   "id": "03ee1730-dc0c-42b1-b8c8-b4b63825e658",
   "metadata": {
    "tags": []
   },
   "outputs": [
    {
     "data": {
      "text/html": [
       "<div>\n",
       "<style scoped>\n",
       "    .dataframe tbody tr th:only-of-type {\n",
       "        vertical-align: middle;\n",
       "    }\n",
       "\n",
       "    .dataframe tbody tr th {\n",
       "        vertical-align: top;\n",
       "    }\n",
       "\n",
       "    .dataframe thead th {\n",
       "        text-align: right;\n",
       "    }\n",
       "</style>\n",
       "<table border=\"1\" class=\"dataframe\">\n",
       "  <thead>\n",
       "    <tr style=\"text-align: right;\">\n",
       "      <th></th>\n",
       "      <th>patient_id</th>\n",
       "      <th>age</th>\n",
       "      <th>sex</th>\n",
       "      <th>cholesterol</th>\n",
       "      <th>blood_pressure</th>\n",
       "      <th>heart_rate</th>\n",
       "      <th>diabetes</th>\n",
       "      <th>family_history</th>\n",
       "      <th>smoking</th>\n",
       "      <th>obesity</th>\n",
       "      <th>...</th>\n",
       "      <th>sedentary_hours_per_day</th>\n",
       "      <th>income</th>\n",
       "      <th>bmi</th>\n",
       "      <th>triglycerides</th>\n",
       "      <th>physical_activity_days_per_week</th>\n",
       "      <th>sleep_hours_per_day</th>\n",
       "      <th>country</th>\n",
       "      <th>continent</th>\n",
       "      <th>hemisphere</th>\n",
       "      <th>heart_attack_risk</th>\n",
       "    </tr>\n",
       "  </thead>\n",
       "  <tbody>\n",
       "    <tr>\n",
       "      <th>4682</th>\n",
       "      <td>ZPI7839</td>\n",
       "      <td>34</td>\n",
       "      <td>Female</td>\n",
       "      <td>337</td>\n",
       "      <td>143/99</td>\n",
       "      <td>47</td>\n",
       "      <td>0</td>\n",
       "      <td>1</td>\n",
       "      <td>0</td>\n",
       "      <td>1</td>\n",
       "      <td>...</td>\n",
       "      <td>11.571365</td>\n",
       "      <td>255504</td>\n",
       "      <td>27.044583</td>\n",
       "      <td>42</td>\n",
       "      <td>2</td>\n",
       "      <td>10</td>\n",
       "      <td>United Kingdom</td>\n",
       "      <td>Europe</td>\n",
       "      <td>Northern Hemisphere</td>\n",
       "      <td>0</td>\n",
       "    </tr>\n",
       "    <tr>\n",
       "      <th>4598</th>\n",
       "      <td>KGL3058</td>\n",
       "      <td>18</td>\n",
       "      <td>Male</td>\n",
       "      <td>174</td>\n",
       "      <td>106/68</td>\n",
       "      <td>53</td>\n",
       "      <td>0</td>\n",
       "      <td>0</td>\n",
       "      <td>1</td>\n",
       "      <td>0</td>\n",
       "      <td>...</td>\n",
       "      <td>6.998715</td>\n",
       "      <td>207143</td>\n",
       "      <td>31.822149</td>\n",
       "      <td>94</td>\n",
       "      <td>2</td>\n",
       "      <td>10</td>\n",
       "      <td>Argentina</td>\n",
       "      <td>South America</td>\n",
       "      <td>Southern Hemisphere</td>\n",
       "      <td>0</td>\n",
       "    </tr>\n",
       "    <tr>\n",
       "      <th>5619</th>\n",
       "      <td>UCF5776</td>\n",
       "      <td>42</td>\n",
       "      <td>Female</td>\n",
       "      <td>312</td>\n",
       "      <td>116/105</td>\n",
       "      <td>60</td>\n",
       "      <td>0</td>\n",
       "      <td>1</td>\n",
       "      <td>1</td>\n",
       "      <td>1</td>\n",
       "      <td>...</td>\n",
       "      <td>11.978335</td>\n",
       "      <td>289517</td>\n",
       "      <td>32.907530</td>\n",
       "      <td>507</td>\n",
       "      <td>4</td>\n",
       "      <td>9</td>\n",
       "      <td>Australia</td>\n",
       "      <td>Australia</td>\n",
       "      <td>Southern Hemisphere</td>\n",
       "      <td>1</td>\n",
       "    </tr>\n",
       "    <tr>\n",
       "      <th>5345</th>\n",
       "      <td>KRW0690</td>\n",
       "      <td>41</td>\n",
       "      <td>Male</td>\n",
       "      <td>199</td>\n",
       "      <td>135/66</td>\n",
       "      <td>75</td>\n",
       "      <td>0</td>\n",
       "      <td>0</td>\n",
       "      <td>1</td>\n",
       "      <td>1</td>\n",
       "      <td>...</td>\n",
       "      <td>0.286899</td>\n",
       "      <td>165990</td>\n",
       "      <td>18.909464</td>\n",
       "      <td>174</td>\n",
       "      <td>2</td>\n",
       "      <td>7</td>\n",
       "      <td>Australia</td>\n",
       "      <td>Australia</td>\n",
       "      <td>Southern Hemisphere</td>\n",
       "      <td>0</td>\n",
       "    </tr>\n",
       "    <tr>\n",
       "      <th>7911</th>\n",
       "      <td>NTO0029</td>\n",
       "      <td>23</td>\n",
       "      <td>Male</td>\n",
       "      <td>261</td>\n",
       "      <td>98/97</td>\n",
       "      <td>64</td>\n",
       "      <td>1</td>\n",
       "      <td>0</td>\n",
       "      <td>1</td>\n",
       "      <td>1</td>\n",
       "      <td>...</td>\n",
       "      <td>5.085240</td>\n",
       "      <td>105057</td>\n",
       "      <td>27.699493</td>\n",
       "      <td>288</td>\n",
       "      <td>6</td>\n",
       "      <td>10</td>\n",
       "      <td>China</td>\n",
       "      <td>Asia</td>\n",
       "      <td>Northern Hemisphere</td>\n",
       "      <td>1</td>\n",
       "    </tr>\n",
       "  </tbody>\n",
       "</table>\n",
       "<p>5 rows × 26 columns</p>\n",
       "</div>"
      ],
      "text/plain": [
       "     patient_id  age     sex  cholesterol blood_pressure  heart_rate  \\\n",
       "4682    ZPI7839   34  Female          337         143/99          47   \n",
       "4598    KGL3058   18    Male          174         106/68          53   \n",
       "5619    UCF5776   42  Female          312        116/105          60   \n",
       "5345    KRW0690   41    Male          199         135/66          75   \n",
       "7911    NTO0029   23    Male          261          98/97          64   \n",
       "\n",
       "      diabetes  family_history  smoking  obesity  ...  \\\n",
       "4682         0               1        0        1  ...   \n",
       "4598         0               0        1        0  ...   \n",
       "5619         0               1        1        1  ...   \n",
       "5345         0               0        1        1  ...   \n",
       "7911         1               0        1        1  ...   \n",
       "\n",
       "      sedentary_hours_per_day  income        bmi  triglycerides  \\\n",
       "4682                11.571365  255504  27.044583             42   \n",
       "4598                 6.998715  207143  31.822149             94   \n",
       "5619                11.978335  289517  32.907530            507   \n",
       "5345                 0.286899  165990  18.909464            174   \n",
       "7911                 5.085240  105057  27.699493            288   \n",
       "\n",
       "      physical_activity_days_per_week  sleep_hours_per_day         country  \\\n",
       "4682                                2                   10  United Kingdom   \n",
       "4598                                2                   10       Argentina   \n",
       "5619                                4                    9       Australia   \n",
       "5345                                2                    7       Australia   \n",
       "7911                                6                   10           China   \n",
       "\n",
       "          continent           hemisphere  heart_attack_risk  \n",
       "4682         Europe  Northern Hemisphere                  0  \n",
       "4598  South America  Southern Hemisphere                  0  \n",
       "5619      Australia  Southern Hemisphere                  1  \n",
       "5345      Australia  Southern Hemisphere                  0  \n",
       "7911           Asia  Northern Hemisphere                  1  \n",
       "\n",
       "[5 rows x 26 columns]"
      ]
     },
     "execution_count": 101,
     "metadata": {},
     "output_type": "execute_result"
    }
   ],
   "source": [
    "# Convert column names to lowercase\n",
    "heart_attack_df.columns = heart_attack_df.columns.str.lower()\n",
    "heart_attack_df.sample(5)"
   ]
  },
  {
   "cell_type": "code",
   "execution_count": 102,
   "id": "6803f658-6543-442c-8911-8632fb19996b",
   "metadata": {
    "tags": []
   },
   "outputs": [],
   "source": [
    "from psycopg2 import sql\n",
    "\n",
    "query_hat = sql.SQL(\"\"\"\n",
    "    CREATE TABLE HeartAttackPrediction (\n",
    "        patient_id VARCHAR(255) PRIMARY KEY,\n",
    "        age INT,\n",
    "        sex VARCHAR(255),\n",
    "        cholesterol INT,\n",
    "        blood_pressure VARCHAR(255),\n",
    "        heart_rate INT,\n",
    "        diabetes INT,\n",
    "        family_history INT,\n",
    "        smoking INT,\n",
    "        obesity INT,\n",
    "        alcohol_consumption INT,\n",
    "        exercise_hours_per_week FLOAT,\n",
    "        diet VARCHAR(255), \n",
    "        previous_heart_problems INT,  \n",
    "        medication_use INT,  \n",
    "        stress_level INT,\n",
    "        sedentary_hours_per_day FLOAT,\n",
    "        income INT,\n",
    "        bmi FLOAT,\n",
    "        triglycerides INT,\n",
    "        physical_activity_days_per_week INT,\n",
    "        sleep_hours_per_day INT,\n",
    "        country VARCHAR(255),\n",
    "        continent VARCHAR(255),\n",
    "        hemisphere VARCHAR(255),\n",
    "        heart_attack_risk INT\n",
    "    );\"\"\")"
   ]
  },
  {
   "cell_type": "code",
   "execution_count": 103,
   "id": "5ec9436c-4cfb-4bb5-8c1d-da80ca71526c",
   "metadata": {
    "tags": []
   },
   "outputs": [
    {
     "name": "stdout",
     "output_type": "stream",
     "text": [
      "Connected!\n",
      "Table created successfully\n"
     ]
    }
   ],
   "source": [
    "conn, cursor = connect()\n",
    "cur = conn.cursor()\n",
    "cur.execute(query_hat)\n",
    "cur.close()\n",
    "conn.commit()\n",
    "print(\"Table created successfully\")"
   ]
  },
  {
   "cell_type": "code",
   "execution_count": 104,
   "id": "ddacc3cf-9d5f-48dd-a426-11f18cc89526",
   "metadata": {
    "tags": []
   },
   "outputs": [],
   "source": [
    "def table_exists(table_name):\n",
    "    query = sql.SQL(\"SELECT EXISTS (SELECT 1 FROM information_schema.tables WHERE table_name = %s);\")\n",
    "    conn, cursor = connect()\n",
    "    cursor.execute(query, [table_name])\n",
    "    exists = cursor.fetchone()[0]\n",
    "    cursor.close()\n",
    "    conn.close()\n",
    "    return exists"
   ]
  },
  {
   "cell_type": "code",
   "execution_count": 105,
   "id": "ac56e42f-161b-4623-b613-e09d7a466410",
   "metadata": {
    "tags": []
   },
   "outputs": [
    {
     "name": "stdout",
     "output_type": "stream",
     "text": [
      "Connected!\n",
      "The table heartattackprediction exists in the database.\n"
     ]
    }
   ],
   "source": [
    "# Call this function to review the table\n",
    "table_name = \"heartattackprediction\"\n",
    "if table_exists(table_name):\n",
    "    print(f\"The table {table_name} exists in the database.\")\n",
    "else:\n",
    "    print(f\"The table {table_name} does not exist in the database.\")"
   ]
  },
  {
   "cell_type": "code",
   "execution_count": 107,
   "id": "a56a3da0-5a80-4de9-b3fc-0056b6ea8f1d",
   "metadata": {
    "tags": []
   },
   "outputs": [],
   "source": [
    "def update_many(conn, datafrm, table):\n",
    "    #creating a list of tupples from the dataframe values\n",
    "    tpls = [tuple(x) for x in datafrm.to_numpy()]\n",
    "    \n",
    "    #dataframe colummns with Comma-separated\n",
    "    cols = ','.join(list(datafrm.columns))\n",
    "    #SQL query to execute\n",
    "    sql = \"INSERT INTO %s(%s) VALUES (%%s, %%s, %%s, %%s,%%s, %%s, %%s, %%s, %%s, %%s, %%s, %%s, %%s, %%s, %%s, %%s, %%s, %%s, %%s,%%s, %%s, %%s, %%s, %%s, %%s, %%s)\" % (table, cols)\n",
    "    #sql = \"INSERT INTO %s(%s) VALUES (%%s, %%s, %%s, %%s,'%%s', %%s, %%s, %%s, %%s, %%s, %%s, %%s, '%%s', %%s, %%s, %%s, %%s, %%s, %%s,%%s, %%s, %%s, '%%s', '%%s', '%%s', %%s)\" % (table, cols)\n",
    "    #sql = \"INSERT INTO %s(%s) VALUES (%%s, %%s, %%s, %%s,%%s, %%s, %%s, %%s, %%s, %%s, %%s, %%s, %%s, %%s, %%s, %%s, %%s, %%s, %%s,%%s)\" % (table, cols)\n",
    "    cursor = conn.cursor()\n",
    "    cursor.executemany(sql, tpls)\n",
    "    print(\"Data upload complete successfully...\")\n",
    "    cursor.close()\n",
    "    conn.commit()"
   ]
  },
  {
   "cell_type": "code",
   "execution_count": 108,
   "id": "389b39ae-9112-445e-8522-af53f834ab8e",
   "metadata": {
    "tags": []
   },
   "outputs": [
    {
     "name": "stdout",
     "output_type": "stream",
     "text": [
      "Data upload complete successfully...\n"
     ]
    }
   ],
   "source": [
    "update_many(conn, heart_attack_df, 'heartattackprediction')"
   ]
  },
  {
   "cell_type": "code",
   "execution_count": 111,
   "id": "660ba017-53ee-4c8b-b2d0-ca2204bc76a8",
   "metadata": {},
   "outputs": [],
   "source": [
    "query_hat_all = sql.SQL(\"\"\"\n",
    "SELECT * FROM heartattackprediction;\n",
    "\"\"\")"
   ]
  },
  {
   "cell_type": "code",
   "execution_count": 112,
   "id": "eeebbb86-6830-4a38-929c-c33c8eb8bc53",
   "metadata": {
    "tags": []
   },
   "outputs": [],
   "source": [
    "cur = conn.cursor()\n",
    "cur.execute(query_hat_all)"
   ]
  },
  {
   "cell_type": "code",
   "execution_count": 113,
   "id": "784edb2f-c3e7-4b00-afce-c4336587be43",
   "metadata": {
    "tags": []
   },
   "outputs": [
    {
     "name": "stdout",
     "output_type": "stream",
     "text": [
      "('BMW7812', 67, 'Male', 208, '158/88', 72, 0, 0, 1, 0, 0, 4.168188835442079, 'Average', 0, 0, 9, 6.61500145291406, 261404, 31.2512327252954, 286, 0, 6, 'Argentina', 'South America', 'Southern Hemisphere', 0)\n"
     ]
    }
   ],
   "source": [
    "print(cur.fetchone())"
   ]
  },
  {
   "cell_type": "code",
   "execution_count": null,
   "id": "36838e38-b8a4-4506-9e21-5c2379fde54c",
   "metadata": {},
   "outputs": [],
   "source": [
    "#THIS PRINT ALL THE INFORMATION ON THE TABLE \n",
    "print(cur.fetchall())\n",
    "cur.close()\n",
    "conn.commit()"
   ]
  },
  {
   "cell_type": "code",
   "execution_count": 118,
   "id": "027c8676-1bf8-43c5-bba3-d1b218a8e70b",
   "metadata": {
    "tags": []
   },
   "outputs": [],
   "source": [
    "cur = conn.cursor()\n",
    "cur.execute(query_hat_all)\n",
    "hat_df = pd.DataFrame(cur.fetchall(), columns=['Patient ID', 'Age', 'Sex','Cholesterol', 'Blood Pressure','Heart Rate','Diabetes','Family History','Smoking','Obesity','Alcohol Consumption','Exercise Hours Per Week','Diet','Previous Heart Problems','Medication Use','Stress Level','Sedentary Hours Per Day','Income','BMI','Triglycerides','Physical Activity Days Per Week','Sleep Hours Per Day','Country','Continent','Hemisphere','Heart Attack Risk'])"
   ]
  },
  {
   "cell_type": "code",
   "execution_count": 119,
   "id": "4709c3ff-1a7f-4fb7-8f2d-c84f3c6044a9",
   "metadata": {
    "tags": []
   },
   "outputs": [
    {
     "data": {
      "text/html": [
       "<div>\n",
       "<style scoped>\n",
       "    .dataframe tbody tr th:only-of-type {\n",
       "        vertical-align: middle;\n",
       "    }\n",
       "\n",
       "    .dataframe tbody tr th {\n",
       "        vertical-align: top;\n",
       "    }\n",
       "\n",
       "    .dataframe thead th {\n",
       "        text-align: right;\n",
       "    }\n",
       "</style>\n",
       "<table border=\"1\" class=\"dataframe\">\n",
       "  <thead>\n",
       "    <tr style=\"text-align: right;\">\n",
       "      <th></th>\n",
       "      <th>Patient ID</th>\n",
       "      <th>Age</th>\n",
       "      <th>Sex</th>\n",
       "      <th>Cholesterol</th>\n",
       "      <th>Blood Pressure</th>\n",
       "      <th>Heart Rate</th>\n",
       "      <th>Diabetes</th>\n",
       "      <th>Family History</th>\n",
       "      <th>Smoking</th>\n",
       "      <th>Obesity</th>\n",
       "      <th>...</th>\n",
       "      <th>Sedentary Hours Per Day</th>\n",
       "      <th>Income</th>\n",
       "      <th>BMI</th>\n",
       "      <th>Triglycerides</th>\n",
       "      <th>Physical Activity Days Per Week</th>\n",
       "      <th>Sleep Hours Per Day</th>\n",
       "      <th>Country</th>\n",
       "      <th>Continent</th>\n",
       "      <th>Hemisphere</th>\n",
       "      <th>Heart Attack Risk</th>\n",
       "    </tr>\n",
       "  </thead>\n",
       "  <tbody>\n",
       "    <tr>\n",
       "      <th>0</th>\n",
       "      <td>BMW7812</td>\n",
       "      <td>67</td>\n",
       "      <td>Male</td>\n",
       "      <td>208</td>\n",
       "      <td>158/88</td>\n",
       "      <td>72</td>\n",
       "      <td>0</td>\n",
       "      <td>0</td>\n",
       "      <td>1</td>\n",
       "      <td>0</td>\n",
       "      <td>...</td>\n",
       "      <td>6.615001</td>\n",
       "      <td>261404</td>\n",
       "      <td>31.251233</td>\n",
       "      <td>286</td>\n",
       "      <td>0</td>\n",
       "      <td>6</td>\n",
       "      <td>Argentina</td>\n",
       "      <td>South America</td>\n",
       "      <td>Southern Hemisphere</td>\n",
       "      <td>0</td>\n",
       "    </tr>\n",
       "    <tr>\n",
       "      <th>1</th>\n",
       "      <td>CZE1114</td>\n",
       "      <td>21</td>\n",
       "      <td>Male</td>\n",
       "      <td>389</td>\n",
       "      <td>165/93</td>\n",
       "      <td>98</td>\n",
       "      <td>1</td>\n",
       "      <td>1</td>\n",
       "      <td>1</td>\n",
       "      <td>1</td>\n",
       "      <td>...</td>\n",
       "      <td>4.963459</td>\n",
       "      <td>285768</td>\n",
       "      <td>27.194973</td>\n",
       "      <td>235</td>\n",
       "      <td>1</td>\n",
       "      <td>7</td>\n",
       "      <td>Canada</td>\n",
       "      <td>North America</td>\n",
       "      <td>Northern Hemisphere</td>\n",
       "      <td>0</td>\n",
       "    </tr>\n",
       "    <tr>\n",
       "      <th>2</th>\n",
       "      <td>BNI9906</td>\n",
       "      <td>21</td>\n",
       "      <td>Female</td>\n",
       "      <td>324</td>\n",
       "      <td>174/99</td>\n",
       "      <td>72</td>\n",
       "      <td>1</td>\n",
       "      <td>0</td>\n",
       "      <td>0</td>\n",
       "      <td>0</td>\n",
       "      <td>...</td>\n",
       "      <td>9.463426</td>\n",
       "      <td>235282</td>\n",
       "      <td>28.176571</td>\n",
       "      <td>587</td>\n",
       "      <td>4</td>\n",
       "      <td>4</td>\n",
       "      <td>France</td>\n",
       "      <td>Europe</td>\n",
       "      <td>Northern Hemisphere</td>\n",
       "      <td>0</td>\n",
       "    </tr>\n",
       "    <tr>\n",
       "      <th>3</th>\n",
       "      <td>JLN3497</td>\n",
       "      <td>84</td>\n",
       "      <td>Male</td>\n",
       "      <td>383</td>\n",
       "      <td>163/100</td>\n",
       "      <td>73</td>\n",
       "      <td>1</td>\n",
       "      <td>1</td>\n",
       "      <td>1</td>\n",
       "      <td>0</td>\n",
       "      <td>...</td>\n",
       "      <td>7.648981</td>\n",
       "      <td>125640</td>\n",
       "      <td>36.464704</td>\n",
       "      <td>378</td>\n",
       "      <td>3</td>\n",
       "      <td>4</td>\n",
       "      <td>Canada</td>\n",
       "      <td>North America</td>\n",
       "      <td>Northern Hemisphere</td>\n",
       "      <td>0</td>\n",
       "    </tr>\n",
       "    <tr>\n",
       "      <th>4</th>\n",
       "      <td>GFO8847</td>\n",
       "      <td>66</td>\n",
       "      <td>Male</td>\n",
       "      <td>318</td>\n",
       "      <td>91/88</td>\n",
       "      <td>93</td>\n",
       "      <td>1</td>\n",
       "      <td>1</td>\n",
       "      <td>1</td>\n",
       "      <td>1</td>\n",
       "      <td>...</td>\n",
       "      <td>1.514821</td>\n",
       "      <td>160555</td>\n",
       "      <td>21.809144</td>\n",
       "      <td>231</td>\n",
       "      <td>1</td>\n",
       "      <td>5</td>\n",
       "      <td>Thailand</td>\n",
       "      <td>Asia</td>\n",
       "      <td>Northern Hemisphere</td>\n",
       "      <td>0</td>\n",
       "    </tr>\n",
       "  </tbody>\n",
       "</table>\n",
       "<p>5 rows × 26 columns</p>\n",
       "</div>"
      ],
      "text/plain": [
       "  Patient ID  Age     Sex  Cholesterol Blood Pressure  Heart Rate  Diabetes  \\\n",
       "0    BMW7812   67    Male          208         158/88          72         0   \n",
       "1    CZE1114   21    Male          389         165/93          98         1   \n",
       "2    BNI9906   21  Female          324         174/99          72         1   \n",
       "3    JLN3497   84    Male          383        163/100          73         1   \n",
       "4    GFO8847   66    Male          318          91/88          93         1   \n",
       "\n",
       "   Family History  Smoking  Obesity  ...  Sedentary Hours Per Day  Income  \\\n",
       "0               0        1        0  ...                 6.615001  261404   \n",
       "1               1        1        1  ...                 4.963459  285768   \n",
       "2               0        0        0  ...                 9.463426  235282   \n",
       "3               1        1        0  ...                 7.648981  125640   \n",
       "4               1        1        1  ...                 1.514821  160555   \n",
       "\n",
       "         BMI  Triglycerides  Physical Activity Days Per Week  \\\n",
       "0  31.251233            286                                0   \n",
       "1  27.194973            235                                1   \n",
       "2  28.176571            587                                4   \n",
       "3  36.464704            378                                3   \n",
       "4  21.809144            231                                1   \n",
       "\n",
       "   Sleep Hours Per Day    Country      Continent           Hemisphere  \\\n",
       "0                    6  Argentina  South America  Southern Hemisphere   \n",
       "1                    7     Canada  North America  Northern Hemisphere   \n",
       "2                    4     France         Europe  Northern Hemisphere   \n",
       "3                    4     Canada  North America  Northern Hemisphere   \n",
       "4                    5   Thailand           Asia  Northern Hemisphere   \n",
       "\n",
       "   Heart Attack Risk  \n",
       "0                  0  \n",
       "1                  0  \n",
       "2                  0  \n",
       "3                  0  \n",
       "4                  0  \n",
       "\n",
       "[5 rows x 26 columns]"
      ]
     },
     "execution_count": 119,
     "metadata": {},
     "output_type": "execute_result"
    }
   ],
   "source": [
    "hat_df.head()"
   ]
  },
  {
   "cell_type": "code",
   "execution_count": 120,
   "id": "ccd05555-e4a9-4393-a9e7-d13dfed75bec",
   "metadata": {
    "tags": []
   },
   "outputs": [
    {
     "data": {
      "text/plain": [
       "(8763, 26)"
      ]
     },
     "execution_count": 120,
     "metadata": {},
     "output_type": "execute_result"
    }
   ],
   "source": [
    "hat_df.shape"
   ]
  },
  {
   "cell_type": "code",
   "execution_count": 122,
   "id": "be4ccddc-583b-452f-b6a3-3ed7f0d7fa0b",
   "metadata": {
    "tags": []
   },
   "outputs": [
    {
     "name": "stdout",
     "output_type": "stream",
     "text": [
      "<class 'pandas.core.frame.DataFrame'>\n",
      "RangeIndex: 8763 entries, 0 to 8762\n",
      "Data columns (total 26 columns):\n",
      " #   Column                           Non-Null Count  Dtype  \n",
      "---  ------                           --------------  -----  \n",
      " 0   Patient ID                       8763 non-null   object \n",
      " 1   Age                              8763 non-null   int64  \n",
      " 2   Sex                              8763 non-null   object \n",
      " 3   Cholesterol                      8763 non-null   int64  \n",
      " 4   Blood Pressure                   8763 non-null   object \n",
      " 5   Heart Rate                       8763 non-null   int64  \n",
      " 6   Diabetes                         8763 non-null   int64  \n",
      " 7   Family History                   8763 non-null   int64  \n",
      " 8   Smoking                          8763 non-null   int64  \n",
      " 9   Obesity                          8763 non-null   int64  \n",
      " 10  Alcohol Consumption              8763 non-null   int64  \n",
      " 11  Exercise Hours Per Week          8763 non-null   float64\n",
      " 12  Diet                             8763 non-null   object \n",
      " 13  Previous Heart Problems          8763 non-null   int64  \n",
      " 14  Medication Use                   8763 non-null   int64  \n",
      " 15  Stress Level                     8763 non-null   int64  \n",
      " 16  Sedentary Hours Per Day          8763 non-null   float64\n",
      " 17  Income                           8763 non-null   int64  \n",
      " 18  BMI                              8763 non-null   float64\n",
      " 19  Triglycerides                    8763 non-null   int64  \n",
      " 20  Physical Activity Days Per Week  8763 non-null   int64  \n",
      " 21  Sleep Hours Per Day              8763 non-null   int64  \n",
      " 22  Country                          8763 non-null   object \n",
      " 23  Continent                        8763 non-null   object \n",
      " 24  Hemisphere                       8763 non-null   object \n",
      " 25  Heart Attack Risk                8763 non-null   int64  \n",
      "dtypes: float64(3), int64(16), object(7)\n",
      "memory usage: 1.7+ MB\n"
     ]
    }
   ],
   "source": [
    "hat_df.info()"
   ]
  },
  {
   "cell_type": "code",
   "execution_count": 123,
   "id": "a35719f3-587c-4278-82ce-0efde95ba109",
   "metadata": {
    "tags": []
   },
   "outputs": [
    {
     "name": "stdout",
     "output_type": "stream",
     "text": [
      "Connection closed.\n"
     ]
    }
   ],
   "source": [
    "# Call this function when you're done with your database operations\n",
    "close_connection(conn, cursor)"
   ]
  },
  {
   "cell_type": "code",
   "execution_count": null,
   "id": "ebb6788b-9825-4465-a8b7-4ec2f5d3e78c",
   "metadata": {},
   "outputs": [],
   "source": []
  },
  {
   "cell_type": "code",
   "execution_count": 94,
   "id": "3f59cad0-2ffa-4e3a-af57-e833f75ca2ef",
   "metadata": {
    "tags": []
   },
   "outputs": [
    {
     "name": "stdout",
     "output_type": "stream",
     "text": [
      "Connected!\n"
     ]
    }
   ],
   "source": [
    "#WARNING THIS SCRIPT DROP THE TABLE HeartAttackPrediction\n",
    "query_drop = sql.SQL(\"DROP TABLE IF EXISTS HeartAttackPrediction;\")\n",
    "conn, cursor = connect()\n",
    "cur = conn.cursor()\n",
    "cur.execute(query_drop)\n",
    "cur.close()\n",
    "conn.commit()"
   ]
  },
  {
   "cell_type": "code",
   "execution_count": null,
   "id": "a785dee7-6dbd-4380-8bec-82d52e1cb0fd",
   "metadata": {},
   "outputs": [],
   "source": []
  }
 ],
 "metadata": {
  "kernelspec": {
   "display_name": "conda_python3",
   "language": "python",
   "name": "conda_python3"
  },
  "language_info": {
   "codemirror_mode": {
    "name": "ipython",
    "version": 3
   },
   "file_extension": ".py",
   "mimetype": "text/x-python",
   "name": "python",
   "nbconvert_exporter": "python",
   "pygments_lexer": "ipython3",
   "version": "3.10.13"
  }
 },
 "nbformat": 4,
 "nbformat_minor": 5
}

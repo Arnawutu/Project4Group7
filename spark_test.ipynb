{
 "cells": [
  {
   "cell_type": "code",
   "execution_count": 36,
   "id": "4c0f3273-f27c-48b4-8754-c736c907c3cf",
   "metadata": {
    "tags": []
   },
   "outputs": [
    {
     "name": "stdout",
     "output_type": "stream",
     "text": [
      "Requirement already satisfied: pyspark in /home/ec2-user/anaconda3/envs/tensorflow2_p310/lib/python3.10/site-packages (3.3.0)\n",
      "Requirement already satisfied: py4j==0.10.9.5 in /home/ec2-user/anaconda3/envs/tensorflow2_p310/lib/python3.10/site-packages (from pyspark) (0.10.9.5)\n",
      "Requirement already satisfied: py4j in /home/ec2-user/anaconda3/envs/tensorflow2_p310/lib/python3.10/site-packages (0.10.9.5)\n"
     ]
    }
   ],
   "source": [
    "# Initial imports\n",
    "import pandas as pd\n",
    "import numpy as np\n",
    "from pathlib import Path\n",
    "from sklearn.model_selection import train_test_split\n",
    "from sklearn.preprocessing import StandardScaler\n",
    "from sklearn.ensemble import RandomForestClassifier\n",
    "from sklearn.metrics import classification_report, confusion_matrix, accuracy_score\n",
    "from pprint import pprint\n",
    "import psycopg2\n",
    "from psycopg2 import sql\n",
    "\n",
    "#Spark imports\n",
    "!wget -q https://dlcdn.apache.org/spark/spark-3.5.0/spark-3.5.0-bin-hadoop3.tgz\n",
    "!tar xf spark-3.5.0-bin-hadoop3.tgz\n",
    "!pip install -q findspark\n",
    "!pip install pyspark\n",
    "!pip install py4j\n",
    "import os\n",
    "import sys\n",
    "\n",
    "\n",
    "# Start a SparkSession\n",
    "import findspark\n",
    "findspark.init()\n",
    "\n",
    "\n",
    "# Amazon SageMaker and related imports\n",
    "import sagemaker\n",
    "import sagemaker.amazon.common as smac\n",
    "from sagemaker.deserializers import JSONDeserializer\n",
    "from sagemaker.serializers import CSVSerializer\n",
    "from sagemaker import get_execution_role\n",
    "from sagemaker import image_uris\n",
    "import boto3  # AWS Python sdk\n",
    "\n",
    "%matplotlib inline"
   ]
  },
  {
   "cell_type": "code",
   "execution_count": 37,
   "id": "02bf9db2-12df-471b-ba04-b3845b120eed",
   "metadata": {
    "tags": []
   },
   "outputs": [],
   "source": [
    "# Import packages\n",
    "from pyspark.sql import SparkSession\n",
    "# Import the time module so we can time our queries.\n",
    "import time\n",
    "# Create a SparkSession\n",
    "spark = SparkSession.builder.appName(\"SparkSQL\").config(\"spark.driver.memory\", \"2g\").getOrCreate()"
   ]
  },
  {
   "cell_type": "code",
   "execution_count": 38,
   "id": "bb13c37f-e624-4a2d-a69f-8337cd972ac3",
   "metadata": {
    "tags": []
   },
   "outputs": [
    {
     "name": "stdout",
     "output_type": "stream",
     "text": [
      "24/02/07 03:38:18 WARN SparkContext: The path https://aws-project-4.s3.ca-central-1.amazonaws.com/heart_attack_prediction_dataset.csv has been added already. Overwriting of added paths is not supported in the current version.\n",
      "+----------+---+------+-----------+--------------+----------+--------+--------------+-------+-------+-------------------+-----------------------+---------+-----------------------+--------------+------------+-----------------------+------+------------------+-------------+-------------------------------+-------------------+-------------+-------------+-------------------+-----------------+\n",
      "|Patient ID|Age|   Sex|Cholesterol|Blood Pressure|Heart Rate|Diabetes|Family History|Smoking|Obesity|Alcohol Consumption|Exercise Hours Per Week|     Diet|Previous Heart Problems|Medication Use|Stress Level|Sedentary Hours Per Day|Income|               BMI|Triglycerides|Physical Activity Days Per Week|Sleep Hours Per Day|      Country|    Continent|         Hemisphere|Heart Attack Risk|\n",
      "+----------+---+------+-----------+--------------+----------+--------+--------------+-------+-------+-------------------+-----------------------+---------+-----------------------+--------------+------------+-----------------------+------+------------------+-------------+-------------------------------+-------------------+-------------+-------------+-------------------+-----------------+\n",
      "|   BMW7812| 67|  Male|        208|        158/88|        72|       0|             0|      1|      0|                  0|      4.168188835442079|  Average|                      0|             0|           9|     6.6150014529140595|261404|31.251232725295402|          286|                              0|                  6|    Argentina|South America|Southern Hemisphere|                0|\n",
      "|   CZE1114| 21|  Male|        389|        165/93|        98|       1|             1|      1|      1|                  1|     1.8132416178634458|Unhealthy|                      1|             0|           1|      4.963458839757678|285768|  27.1949733519874|          235|                              1|                  7|       Canada|North America|Northern Hemisphere|                0|\n",
      "|   BNI9906| 21|Female|        324|        174/99|        72|       1|             0|      0|      0|                  0|     2.0783529861178884|  Healthy|                      1|             1|           9|      9.463425838029828|235282|28.176570683909873|          587|                              4|                  4|       France|       Europe|Northern Hemisphere|                0|\n",
      "|   JLN3497| 84|  Male|        383|       163/100|        73|       1|             1|      1|      0|                  1|       9.82812959348533|  Average|                      1|             0|           9|      7.648980824461007|125640|36.464704293082846|          378|                              3|                  4|       Canada|North America|Northern Hemisphere|                0|\n",
      "|   GFO8847| 66|  Male|        318|         91/88|        93|       1|             1|      1|      1|                  0|      5.804298820315434|Unhealthy|                      1|             0|           6|     1.5148209264291386|160555|21.809144180619754|          231|                              1|                  5|     Thailand|         Asia|Northern Hemisphere|                0|\n",
      "|   ZOO7941| 54|Female|        297|        172/86|        48|       1|             1|      1|      0|                  1|     0.6250080237057354|Unhealthy|                      1|             1|           2|      7.798752408582432|241339|20.146839503010046|          795|                              5|                 10|      Germany|       Europe|Northern Hemisphere|                1|\n",
      "|   WYV0966| 90|  Male|        358|        102/73|        84|       0|             0|      1|      0|                  1|      4.098177090985471|  Healthy|                      0|             0|           7|     0.6273560009569512|190450|28.885810606590454|          284|                              4|                 10|       Canada|North America|Northern Hemisphere|                1|\n",
      "|   XXM0972| 84|  Male|        220|        131/68|       107|       0|             0|      1|      1|                  1|      3.427928754300873|  Average|                      0|             1|           4|     10.543780239266841|122093|  22.2218617394038|          370|                              6|                  7|        Japan|         Asia|Northern Hemisphere|                1|\n",
      "|   XCQ5937| 20|  Male|        145|       144/105|        68|       1|             0|      1|      1|                  0|     16.868302239450017|  Average|                      0|             0|           5|     11.348786873498993| 25086| 35.80990131909641|          790|                              7|                  4|       Brazil|South America|Southern Hemisphere|                0|\n",
      "|   FTJ5456| 43|Female|        248|        160/70|        55|       0|             1|      1|      1|                  1|     0.1945150606299495|Unhealthy|                      0|             0|           4|      4.055114781794609|209703| 22.55891675229818|          232|                              7|                  7|        Japan|         Asia|Northern Hemisphere|                0|\n",
      "|   HSD6283| 73|Female|        373|        107/69|        97|       1|             1|      1|      0|                  1|     16.841987593616683|  Average|                      1|             1|           8|      8.919879240644143| 50030|22.867910772851292|          469|                              0|                  4| South Africa|       Africa|Southern Hemisphere|                0|\n",
      "|   YSP0073| 71|  Male|        374|        158/71|        70|       1|             1|      1|      1|                  1|      8.251995072165778|  Average|                      0|             0|           4|      7.227338314321001|163066| 32.48534524081809|          523|                              4|                  8|United States|North America|Northern Hemisphere|                0|\n",
      "|   FPS0415| 77|  Male|        228|        101/72|        68|       1|             1|      1|      1|                  1|     19.633268156072297|Unhealthy|                      0|             0|           9|      10.91752425375187| 29886| 35.10223615396757|          590|                              7|                  6|      Vietnam|         Asia|Northern Hemisphere|                1|\n",
      "|   YYU9565| 60|  Male|        259|        169/72|        85|       1|             1|      1|      0|                  1|     17.037374183793826|  Healthy|                      1|             1|           1|      8.727417211573485|292173|25.564897154053256|          506|                              1|                  4|        China|         Asia|Northern Hemisphere|                1|\n",
      "|   VTW9069| 88|  Male|        297|        112/81|       102|       1|             1|      1|      0|                  1|     15.387604628162732|Unhealthy|                      0|             1|           2|     10.425489575178839|165300|25.491740663098113|          635|                              3|                  6|        China|         Asia|Northern Hemisphere|                0|\n",
      "|   DCY3282| 73|  Male|        122|        114/88|        97|       1|             1|      1|      0|                  1|      14.55966449587795|  Average|                      0|             0|           5|     10.086478972289001|265839| 36.52439523724413|          773|                              5|                  8|        Italy|       Europe|Southern Hemisphere|                1|\n",
      "|   DXB2434| 69|  Male|        379|        173/75|        40|       1|             1|      1|      1|                  1|      4.184648045763792|  Average|                      1|             0|           5|      9.060508567942696|267997| 28.33274719642221|           68|                              3|                  6|       Brazil|South America|Southern Hemisphere|                0|\n",
      "|   COP0566| 38|  Male|        166|        120/74|        56|       1|             0|      1|      1|                  0|      8.917907230374425|  Healthy|                      0|             1|           9|     3.6607487911676633| 48376| 29.51738755573402|          402|                              0|                  6|     Thailand|         Asia|Northern Hemisphere|                0|\n",
      "|   XBI0592| 50|Female|        303|       120/100|       104|       1|             0|      1|      0|                  1|      4.943580247406594|  Average|                      1|             1|           1|     7.5869839411141005| 21501|25.964350731612438|          517|                              1|                  5|United States|North America|Northern Hemisphere|                1|\n",
      "|   RQX1211| 60|  Male|        145|        160/98|        71|       1|             0|      1|      0|                  1|      1.892559330229886|  Healthy|                      1|             0|           8|      5.994227909599145|234966| 29.16231875379266|          247|                              7|                  7|       Canada|North America|Northern Hemisphere|                0|\n",
      "+----------+---+------+-----------+--------------+----------+--------+--------------+-------+-------+-------------------+-----------------------+---------+-----------------------+--------------+------------+-----------------------+------+------------------+-------------+-------------------------------+-------------------+-------------+-------------+-------------------+-----------------+\n",
      "only showing top 20 rows\n",
      "\n"
     ]
    }
   ],
   "source": [
    "# Read in data from S3 Bucket\n",
    "from pyspark import SparkFiles\n",
    "url = \"https://aws-project-4.s3.ca-central-1.amazonaws.com/heart_attack_prediction_dataset.csv\"\n",
    "spark.sparkContext.addFile(url)\n",
    "df = spark.read.csv(SparkFiles.get(\"heart_attack_prediction_dataset.csv\"), sep=\",\", header=True)\n",
    "df.show()"
   ]
  },
  {
   "cell_type": "code",
   "execution_count": 39,
   "id": "2bfdafa6-14d5-4074-8041-cb825061ea49",
   "metadata": {
    "tags": []
   },
   "outputs": [
    {
     "data": {
      "text/html": [
       "<div>\n",
       "<style scoped>\n",
       "    .dataframe tbody tr th:only-of-type {\n",
       "        vertical-align: middle;\n",
       "    }\n",
       "\n",
       "    .dataframe tbody tr th {\n",
       "        vertical-align: top;\n",
       "    }\n",
       "\n",
       "    .dataframe thead th {\n",
       "        text-align: right;\n",
       "    }\n",
       "</style>\n",
       "<table border=\"1\" class=\"dataframe\">\n",
       "  <thead>\n",
       "    <tr style=\"text-align: right;\">\n",
       "      <th></th>\n",
       "      <th>Patient ID</th>\n",
       "      <th>Age</th>\n",
       "      <th>Sex</th>\n",
       "      <th>Cholesterol</th>\n",
       "      <th>Blood Pressure</th>\n",
       "      <th>Heart Rate</th>\n",
       "      <th>Diabetes</th>\n",
       "      <th>Family History</th>\n",
       "      <th>Smoking</th>\n",
       "      <th>Obesity</th>\n",
       "      <th>Alcohol Consumption</th>\n",
       "      <th>Exercise Hours Per Week</th>\n",
       "      <th>Diet</th>\n",
       "      <th>Previous Heart Problems</th>\n",
       "      <th>Medication Use</th>\n",
       "      <th>Stress Level</th>\n",
       "      <th>Sedentary Hours Per Day</th>\n",
       "      <th>Income</th>\n",
       "      <th>BMI</th>\n",
       "      <th>Triglycerides</th>\n",
       "      <th>Physical Activity Days Per Week</th>\n",
       "      <th>Sleep Hours Per Day</th>\n",
       "      <th>Country</th>\n",
       "      <th>Continent</th>\n",
       "      <th>Hemisphere</th>\n",
       "      <th>Heart Attack Risk</th>\n",
       "    </tr>\n",
       "  </thead>\n",
       "  <tbody>\n",
       "    <tr>\n",
       "      <th>0</th>\n",
       "      <td>BMW7812</td>\n",
       "      <td>67</td>\n",
       "      <td>Male</td>\n",
       "      <td>208</td>\n",
       "      <td>158/88</td>\n",
       "      <td>72</td>\n",
       "      <td>0</td>\n",
       "      <td>0</td>\n",
       "      <td>1</td>\n",
       "      <td>0</td>\n",
       "      <td>0</td>\n",
       "      <td>4.168188835442079</td>\n",
       "      <td>Average</td>\n",
       "      <td>0</td>\n",
       "      <td>0</td>\n",
       "      <td>9</td>\n",
       "      <td>6.6150014529140595</td>\n",
       "      <td>261404</td>\n",
       "      <td>31.251232725295402</td>\n",
       "      <td>286</td>\n",
       "      <td>0</td>\n",
       "      <td>6</td>\n",
       "      <td>Argentina</td>\n",
       "      <td>South America</td>\n",
       "      <td>Southern Hemisphere</td>\n",
       "      <td>0</td>\n",
       "    </tr>\n",
       "    <tr>\n",
       "      <th>1</th>\n",
       "      <td>CZE1114</td>\n",
       "      <td>21</td>\n",
       "      <td>Male</td>\n",
       "      <td>389</td>\n",
       "      <td>165/93</td>\n",
       "      <td>98</td>\n",
       "      <td>1</td>\n",
       "      <td>1</td>\n",
       "      <td>1</td>\n",
       "      <td>1</td>\n",
       "      <td>1</td>\n",
       "      <td>1.8132416178634458</td>\n",
       "      <td>Unhealthy</td>\n",
       "      <td>1</td>\n",
       "      <td>0</td>\n",
       "      <td>1</td>\n",
       "      <td>4.963458839757678</td>\n",
       "      <td>285768</td>\n",
       "      <td>27.1949733519874</td>\n",
       "      <td>235</td>\n",
       "      <td>1</td>\n",
       "      <td>7</td>\n",
       "      <td>Canada</td>\n",
       "      <td>North America</td>\n",
       "      <td>Northern Hemisphere</td>\n",
       "      <td>0</td>\n",
       "    </tr>\n",
       "    <tr>\n",
       "      <th>2</th>\n",
       "      <td>BNI9906</td>\n",
       "      <td>21</td>\n",
       "      <td>Female</td>\n",
       "      <td>324</td>\n",
       "      <td>174/99</td>\n",
       "      <td>72</td>\n",
       "      <td>1</td>\n",
       "      <td>0</td>\n",
       "      <td>0</td>\n",
       "      <td>0</td>\n",
       "      <td>0</td>\n",
       "      <td>2.0783529861178884</td>\n",
       "      <td>Healthy</td>\n",
       "      <td>1</td>\n",
       "      <td>1</td>\n",
       "      <td>9</td>\n",
       "      <td>9.463425838029828</td>\n",
       "      <td>235282</td>\n",
       "      <td>28.176570683909873</td>\n",
       "      <td>587</td>\n",
       "      <td>4</td>\n",
       "      <td>4</td>\n",
       "      <td>France</td>\n",
       "      <td>Europe</td>\n",
       "      <td>Northern Hemisphere</td>\n",
       "      <td>0</td>\n",
       "    </tr>\n",
       "    <tr>\n",
       "      <th>3</th>\n",
       "      <td>JLN3497</td>\n",
       "      <td>84</td>\n",
       "      <td>Male</td>\n",
       "      <td>383</td>\n",
       "      <td>163/100</td>\n",
       "      <td>73</td>\n",
       "      <td>1</td>\n",
       "      <td>1</td>\n",
       "      <td>1</td>\n",
       "      <td>0</td>\n",
       "      <td>1</td>\n",
       "      <td>9.82812959348533</td>\n",
       "      <td>Average</td>\n",
       "      <td>1</td>\n",
       "      <td>0</td>\n",
       "      <td>9</td>\n",
       "      <td>7.648980824461007</td>\n",
       "      <td>125640</td>\n",
       "      <td>36.464704293082846</td>\n",
       "      <td>378</td>\n",
       "      <td>3</td>\n",
       "      <td>4</td>\n",
       "      <td>Canada</td>\n",
       "      <td>North America</td>\n",
       "      <td>Northern Hemisphere</td>\n",
       "      <td>0</td>\n",
       "    </tr>\n",
       "    <tr>\n",
       "      <th>4</th>\n",
       "      <td>GFO8847</td>\n",
       "      <td>66</td>\n",
       "      <td>Male</td>\n",
       "      <td>318</td>\n",
       "      <td>91/88</td>\n",
       "      <td>93</td>\n",
       "      <td>1</td>\n",
       "      <td>1</td>\n",
       "      <td>1</td>\n",
       "      <td>1</td>\n",
       "      <td>0</td>\n",
       "      <td>5.804298820315434</td>\n",
       "      <td>Unhealthy</td>\n",
       "      <td>1</td>\n",
       "      <td>0</td>\n",
       "      <td>6</td>\n",
       "      <td>1.5148209264291386</td>\n",
       "      <td>160555</td>\n",
       "      <td>21.809144180619754</td>\n",
       "      <td>231</td>\n",
       "      <td>1</td>\n",
       "      <td>5</td>\n",
       "      <td>Thailand</td>\n",
       "      <td>Asia</td>\n",
       "      <td>Northern Hemisphere</td>\n",
       "      <td>0</td>\n",
       "    </tr>\n",
       "  </tbody>\n",
       "</table>\n",
       "</div>"
      ],
      "text/plain": [
       "  Patient ID Age     Sex Cholesterol Blood Pressure Heart Rate Diabetes  \\\n",
       "0    BMW7812  67    Male         208         158/88         72        0   \n",
       "1    CZE1114  21    Male         389         165/93         98        1   \n",
       "2    BNI9906  21  Female         324         174/99         72        1   \n",
       "3    JLN3497  84    Male         383        163/100         73        1   \n",
       "4    GFO8847  66    Male         318          91/88         93        1   \n",
       "\n",
       "  Family History Smoking Obesity Alcohol Consumption Exercise Hours Per Week  \\\n",
       "0              0       1       0                   0       4.168188835442079   \n",
       "1              1       1       1                   1      1.8132416178634458   \n",
       "2              0       0       0                   0      2.0783529861178884   \n",
       "3              1       1       0                   1        9.82812959348533   \n",
       "4              1       1       1                   0       5.804298820315434   \n",
       "\n",
       "        Diet Previous Heart Problems Medication Use Stress Level  \\\n",
       "0    Average                       0              0            9   \n",
       "1  Unhealthy                       1              0            1   \n",
       "2    Healthy                       1              1            9   \n",
       "3    Average                       1              0            9   \n",
       "4  Unhealthy                       1              0            6   \n",
       "\n",
       "  Sedentary Hours Per Day  Income                 BMI Triglycerides  \\\n",
       "0      6.6150014529140595  261404  31.251232725295402           286   \n",
       "1       4.963458839757678  285768    27.1949733519874           235   \n",
       "2       9.463425838029828  235282  28.176570683909873           587   \n",
       "3       7.648980824461007  125640  36.464704293082846           378   \n",
       "4      1.5148209264291386  160555  21.809144180619754           231   \n",
       "\n",
       "  Physical Activity Days Per Week Sleep Hours Per Day    Country  \\\n",
       "0                               0                   6  Argentina   \n",
       "1                               1                   7     Canada   \n",
       "2                               4                   4     France   \n",
       "3                               3                   4     Canada   \n",
       "4                               1                   5   Thailand   \n",
       "\n",
       "       Continent           Hemisphere Heart Attack Risk  \n",
       "0  South America  Southern Hemisphere                 0  \n",
       "1  North America  Northern Hemisphere                 0  \n",
       "2         Europe  Northern Hemisphere                 0  \n",
       "3  North America  Northern Hemisphere                 0  \n",
       "4           Asia  Northern Hemisphere                 0  "
      ]
     },
     "execution_count": 39,
     "metadata": {},
     "output_type": "execute_result"
    }
   ],
   "source": [
    "# Convert PySpark DataFrame to Pandas DataFrame for display options\n",
    "pd_df_1 = df.toPandas()\n",
    "\n",
    "# Set display options\n",
    "pd.set_option(\"display.max_rows\", None)\n",
    "pd.set_option(\"display.max_columns\", None)\n",
    "pd.set_option(\"display.max_colwidth\", None)\n",
    "pd.set_option(\"display.precision\", 2)\n",
    "\n",
    "# Display the DataFrame\n",
    "pd_df_1[:5]"
   ]
  },
  {
   "cell_type": "code",
   "execution_count": 40,
   "id": "f27e8476-1eea-4bf6-89d4-7e60343e7db4",
   "metadata": {
    "tags": []
   },
   "outputs": [],
   "source": [
    "#Info for the connection wiht postgres SQL in RDS\n",
    "PGEND_POINT = 'database-1.cfwmkaw8o6bp.us-east-1.rds.amazonaws.com' #End Point\n",
    "PGDATABASE_NAME ='heart_attack_prediction_db' #data base name \n",
    "PGUSER_NAME = 'postgres'\n",
    "PGPASSWORD = 'B00TC4MP'"
   ]
  },
  {
   "cell_type": "code",
   "execution_count": 41,
   "id": "f2dcc674-67a3-43d9-b218-d18b1606c665",
   "metadata": {
    "tags": []
   },
   "outputs": [],
   "source": [
    "#Defining functions for connection and close connection\n",
    "\n",
    "def connect():\n",
    "    conn_string = f\"host={PGEND_POINT} port=5432 dbname={PGDATABASE_NAME} user={PGUSER_NAME} password={PGPASSWORD}\"\n",
    "    conn = psycopg2.connect(conn_string)\n",
    "    print(\"Connected!\")\n",
    "    \n",
    "    #Create a cursor object\n",
    "    cursor = conn.cursor()\n",
    "    \n",
    "    return conn, cursor\n",
    "\n",
    "#Close connection function definition\n",
    "def close_connection(conn, cursor):\n",
    "    conn.commit()\n",
    "    cursor.close()\n",
    "    conn.close()\n",
    "    print(\"Connection closed.\")"
   ]
  },
  {
   "cell_type": "code",
   "execution_count": 42,
   "id": "ca22a973-ec61-4ed0-baa3-92ab55f41638",
   "metadata": {
    "tags": []
   },
   "outputs": [
    {
     "name": "stdout",
     "output_type": "stream",
     "text": [
      "Connected!\n"
     ]
    }
   ],
   "source": [
    "#Creting the connection with postgres SQL\n",
    "conn, cursor = connect()"
   ]
  },
  {
   "cell_type": "code",
   "execution_count": 43,
   "id": "77848d04-4221-4f48-b059-4009aa68d167",
   "metadata": {
    "tags": []
   },
   "outputs": [],
   "source": [
    " #SQL SELECT statement that retrieves all columns (*) from the table named heartattackprediction.\n",
    "query_hat_all = sql.SQL(\"\"\"\n",
    "SELECT * FROM heartattackprediction;\n",
    "\"\"\")"
   ]
  },
  {
   "cell_type": "code",
   "execution_count": 44,
   "id": "9d6a1df2-7864-4f14-b650-07247d88fcff",
   "metadata": {
    "tags": []
   },
   "outputs": [],
   "source": [
    "#Preparation of the database cursor to execute the SQL query specified by query_hat_all. \n",
    "#Once the query is executed, the cursor will hold the result set (if any) \n",
    "#returned by the database server.\n",
    "cur = conn.cursor()\n",
    "cur.execute(query_hat_all)"
   ]
  },
  {
   "cell_type": "code",
   "execution_count": 45,
   "id": "d1fe5242-dfbc-4f97-813e-af7f08375b03",
   "metadata": {
    "tags": []
   },
   "outputs": [
    {
     "data": {
      "text/html": [
       "<div>\n",
       "<style scoped>\n",
       "    .dataframe tbody tr th:only-of-type {\n",
       "        vertical-align: middle;\n",
       "    }\n",
       "\n",
       "    .dataframe tbody tr th {\n",
       "        vertical-align: top;\n",
       "    }\n",
       "\n",
       "    .dataframe thead th {\n",
       "        text-align: right;\n",
       "    }\n",
       "</style>\n",
       "<table border=\"1\" class=\"dataframe\">\n",
       "  <thead>\n",
       "    <tr style=\"text-align: right;\">\n",
       "      <th></th>\n",
       "      <th>Patient ID</th>\n",
       "      <th>Age</th>\n",
       "      <th>Sex</th>\n",
       "      <th>Cholesterol</th>\n",
       "      <th>Blood Pressure</th>\n",
       "      <th>Heart Rate</th>\n",
       "      <th>Diabetes</th>\n",
       "      <th>Family History</th>\n",
       "      <th>Smoking</th>\n",
       "      <th>Obesity</th>\n",
       "      <th>Alcohol Consumption</th>\n",
       "      <th>Exercise Hours Per Week</th>\n",
       "      <th>Diet</th>\n",
       "      <th>Previous Heart Problems</th>\n",
       "      <th>Medication Use</th>\n",
       "      <th>Stress Level</th>\n",
       "      <th>Sedentary Hours Per Day</th>\n",
       "      <th>Income</th>\n",
       "      <th>BMI</th>\n",
       "      <th>Triglycerides</th>\n",
       "      <th>Physical Activity Days Per Week</th>\n",
       "      <th>Sleep Hours Per Day</th>\n",
       "      <th>Country</th>\n",
       "      <th>Continent</th>\n",
       "      <th>Hemisphere</th>\n",
       "      <th>Heart Attack Risk</th>\n",
       "    </tr>\n",
       "  </thead>\n",
       "  <tbody>\n",
       "    <tr>\n",
       "      <th>0</th>\n",
       "      <td>BMW7812</td>\n",
       "      <td>67</td>\n",
       "      <td>Male</td>\n",
       "      <td>208</td>\n",
       "      <td>158/88</td>\n",
       "      <td>72</td>\n",
       "      <td>0</td>\n",
       "      <td>0</td>\n",
       "      <td>1</td>\n",
       "      <td>0</td>\n",
       "      <td>0</td>\n",
       "      <td>4.17</td>\n",
       "      <td>Average</td>\n",
       "      <td>0</td>\n",
       "      <td>0</td>\n",
       "      <td>9</td>\n",
       "      <td>6.62</td>\n",
       "      <td>261404</td>\n",
       "      <td>31.25</td>\n",
       "      <td>286</td>\n",
       "      <td>0</td>\n",
       "      <td>6</td>\n",
       "      <td>Argentina</td>\n",
       "      <td>South America</td>\n",
       "      <td>Southern Hemisphere</td>\n",
       "      <td>0</td>\n",
       "    </tr>\n",
       "    <tr>\n",
       "      <th>1</th>\n",
       "      <td>CZE1114</td>\n",
       "      <td>21</td>\n",
       "      <td>Male</td>\n",
       "      <td>389</td>\n",
       "      <td>165/93</td>\n",
       "      <td>98</td>\n",
       "      <td>1</td>\n",
       "      <td>1</td>\n",
       "      <td>1</td>\n",
       "      <td>1</td>\n",
       "      <td>1</td>\n",
       "      <td>1.81</td>\n",
       "      <td>Unhealthy</td>\n",
       "      <td>1</td>\n",
       "      <td>0</td>\n",
       "      <td>1</td>\n",
       "      <td>4.96</td>\n",
       "      <td>285768</td>\n",
       "      <td>27.19</td>\n",
       "      <td>235</td>\n",
       "      <td>1</td>\n",
       "      <td>7</td>\n",
       "      <td>Canada</td>\n",
       "      <td>North America</td>\n",
       "      <td>Northern Hemisphere</td>\n",
       "      <td>0</td>\n",
       "    </tr>\n",
       "    <tr>\n",
       "      <th>2</th>\n",
       "      <td>BNI9906</td>\n",
       "      <td>21</td>\n",
       "      <td>Female</td>\n",
       "      <td>324</td>\n",
       "      <td>174/99</td>\n",
       "      <td>72</td>\n",
       "      <td>1</td>\n",
       "      <td>0</td>\n",
       "      <td>0</td>\n",
       "      <td>0</td>\n",
       "      <td>0</td>\n",
       "      <td>2.08</td>\n",
       "      <td>Healthy</td>\n",
       "      <td>1</td>\n",
       "      <td>1</td>\n",
       "      <td>9</td>\n",
       "      <td>9.46</td>\n",
       "      <td>235282</td>\n",
       "      <td>28.18</td>\n",
       "      <td>587</td>\n",
       "      <td>4</td>\n",
       "      <td>4</td>\n",
       "      <td>France</td>\n",
       "      <td>Europe</td>\n",
       "      <td>Northern Hemisphere</td>\n",
       "      <td>0</td>\n",
       "    </tr>\n",
       "    <tr>\n",
       "      <th>3</th>\n",
       "      <td>JLN3497</td>\n",
       "      <td>84</td>\n",
       "      <td>Male</td>\n",
       "      <td>383</td>\n",
       "      <td>163/100</td>\n",
       "      <td>73</td>\n",
       "      <td>1</td>\n",
       "      <td>1</td>\n",
       "      <td>1</td>\n",
       "      <td>0</td>\n",
       "      <td>1</td>\n",
       "      <td>9.83</td>\n",
       "      <td>Average</td>\n",
       "      <td>1</td>\n",
       "      <td>0</td>\n",
       "      <td>9</td>\n",
       "      <td>7.65</td>\n",
       "      <td>125640</td>\n",
       "      <td>36.46</td>\n",
       "      <td>378</td>\n",
       "      <td>3</td>\n",
       "      <td>4</td>\n",
       "      <td>Canada</td>\n",
       "      <td>North America</td>\n",
       "      <td>Northern Hemisphere</td>\n",
       "      <td>0</td>\n",
       "    </tr>\n",
       "    <tr>\n",
       "      <th>4</th>\n",
       "      <td>GFO8847</td>\n",
       "      <td>66</td>\n",
       "      <td>Male</td>\n",
       "      <td>318</td>\n",
       "      <td>91/88</td>\n",
       "      <td>93</td>\n",
       "      <td>1</td>\n",
       "      <td>1</td>\n",
       "      <td>1</td>\n",
       "      <td>1</td>\n",
       "      <td>0</td>\n",
       "      <td>5.80</td>\n",
       "      <td>Unhealthy</td>\n",
       "      <td>1</td>\n",
       "      <td>0</td>\n",
       "      <td>6</td>\n",
       "      <td>1.51</td>\n",
       "      <td>160555</td>\n",
       "      <td>21.81</td>\n",
       "      <td>231</td>\n",
       "      <td>1</td>\n",
       "      <td>5</td>\n",
       "      <td>Thailand</td>\n",
       "      <td>Asia</td>\n",
       "      <td>Northern Hemisphere</td>\n",
       "      <td>0</td>\n",
       "    </tr>\n",
       "  </tbody>\n",
       "</table>\n",
       "</div>"
      ],
      "text/plain": [
       "  Patient ID  Age     Sex  Cholesterol Blood Pressure  Heart Rate  Diabetes  \\\n",
       "0    BMW7812   67    Male          208         158/88          72         0   \n",
       "1    CZE1114   21    Male          389         165/93          98         1   \n",
       "2    BNI9906   21  Female          324         174/99          72         1   \n",
       "3    JLN3497   84    Male          383        163/100          73         1   \n",
       "4    GFO8847   66    Male          318          91/88          93         1   \n",
       "\n",
       "   Family History  Smoking  Obesity  Alcohol Consumption  \\\n",
       "0               0        1        0                    0   \n",
       "1               1        1        1                    1   \n",
       "2               0        0        0                    0   \n",
       "3               1        1        0                    1   \n",
       "4               1        1        1                    0   \n",
       "\n",
       "   Exercise Hours Per Week       Diet  Previous Heart Problems  \\\n",
       "0                     4.17    Average                        0   \n",
       "1                     1.81  Unhealthy                        1   \n",
       "2                     2.08    Healthy                        1   \n",
       "3                     9.83    Average                        1   \n",
       "4                     5.80  Unhealthy                        1   \n",
       "\n",
       "   Medication Use  Stress Level  Sedentary Hours Per Day  Income    BMI  \\\n",
       "0               0             9                     6.62  261404  31.25   \n",
       "1               0             1                     4.96  285768  27.19   \n",
       "2               1             9                     9.46  235282  28.18   \n",
       "3               0             9                     7.65  125640  36.46   \n",
       "4               0             6                     1.51  160555  21.81   \n",
       "\n",
       "   Triglycerides  Physical Activity Days Per Week  Sleep Hours Per Day  \\\n",
       "0            286                                0                    6   \n",
       "1            235                                1                    7   \n",
       "2            587                                4                    4   \n",
       "3            378                                3                    4   \n",
       "4            231                                1                    5   \n",
       "\n",
       "     Country      Continent           Hemisphere  Heart Attack Risk  \n",
       "0  Argentina  South America  Southern Hemisphere                  0  \n",
       "1     Canada  North America  Northern Hemisphere                  0  \n",
       "2     France         Europe  Northern Hemisphere                  0  \n",
       "3     Canada  North America  Northern Hemisphere                  0  \n",
       "4   Thailand           Asia  Northern Hemisphere                  0  "
      ]
     },
     "execution_count": 45,
     "metadata": {},
     "output_type": "execute_result"
    }
   ],
   "source": [
    "#put all the data in heartattackprediction table into a data frame in pandas all the columns name appear\n",
    "pd_df = pd.DataFrame(cur.fetchall(), columns=['Patient ID', 'Age', 'Sex','Cholesterol', 'Blood Pressure','Heart Rate','Diabetes','Family History','Smoking','Obesity','Alcohol Consumption','Exercise Hours Per Week','Diet','Previous Heart Problems','Medication Use','Stress Level','Sedentary Hours Per Day','Income','BMI','Triglycerides','Physical Activity Days Per Week','Sleep Hours Per Day','Country','Continent','Hemisphere','Heart Attack Risk'])\n",
    "pd_df[:5]"
   ]
  },
  {
   "cell_type": "code",
   "execution_count": 46,
   "id": "a6d9bd56-eab2-4ec2-beaf-c745bd8eecfd",
   "metadata": {
    "tags": []
   },
   "outputs": [
    {
     "name": "stdout",
     "output_type": "stream",
     "text": [
      "<class 'pandas.core.frame.DataFrame'>\n",
      "RangeIndex: 8763 entries, 0 to 8762\n",
      "Data columns (total 26 columns):\n",
      " #   Column                           Non-Null Count  Dtype  \n",
      "---  ------                           --------------  -----  \n",
      " 0   Patient ID                       8763 non-null   object \n",
      " 1   Age                              8763 non-null   int64  \n",
      " 2   Sex                              8763 non-null   object \n",
      " 3   Cholesterol                      8763 non-null   int64  \n",
      " 4   Blood Pressure                   8763 non-null   object \n",
      " 5   Heart Rate                       8763 non-null   int64  \n",
      " 6   Diabetes                         8763 non-null   int64  \n",
      " 7   Family History                   8763 non-null   int64  \n",
      " 8   Smoking                          8763 non-null   int64  \n",
      " 9   Obesity                          8763 non-null   int64  \n",
      " 10  Alcohol Consumption              8763 non-null   int64  \n",
      " 11  Exercise Hours Per Week          8763 non-null   float64\n",
      " 12  Diet                             8763 non-null   object \n",
      " 13  Previous Heart Problems          8763 non-null   int64  \n",
      " 14  Medication Use                   8763 non-null   int64  \n",
      " 15  Stress Level                     8763 non-null   int64  \n",
      " 16  Sedentary Hours Per Day          8763 non-null   float64\n",
      " 17  Income                           8763 non-null   int64  \n",
      " 18  BMI                              8763 non-null   float64\n",
      " 19  Triglycerides                    8763 non-null   int64  \n",
      " 20  Physical Activity Days Per Week  8763 non-null   int64  \n",
      " 21  Sleep Hours Per Day              8763 non-null   int64  \n",
      " 22  Country                          8763 non-null   object \n",
      " 23  Continent                        8763 non-null   object \n",
      " 24  Hemisphere                       8763 non-null   object \n",
      " 25  Heart Attack Risk                8763 non-null   int64  \n",
      "dtypes: float64(3), int64(16), object(7)\n",
      "memory usage: 1.7+ MB\n"
     ]
    }
   ],
   "source": [
    "pd_df.info()"
   ]
  },
  {
   "cell_type": "code",
   "execution_count": 47,
   "id": "5e42ed20",
   "metadata": {
    "tags": []
   },
   "outputs": [
    {
     "data": {
      "text/plain": [
       "Index(['Patient ID', 'Age', 'Sex', 'Cholesterol', 'Heart Rate', 'Diabetes',\n",
       "       'Family History', 'Smoking', 'Obesity', 'Alcohol Consumption',\n",
       "       'Exercise Hours Per Week', 'Diet', 'Previous Heart Problems',\n",
       "       'Medication Use', 'Stress Level', 'Sedentary Hours Per Day', 'Income',\n",
       "       'BMI', 'Triglycerides', 'Physical Activity Days Per Week',\n",
       "       'Sleep Hours Per Day', 'Country', 'Continent', 'Hemisphere',\n",
       "       'Heart Attack Risk', 'Systolic Pressure', 'Diastolic Pressure'],\n",
       "      dtype='object')"
      ]
     },
     "execution_count": 47,
     "metadata": {},
     "output_type": "execute_result"
    }
   ],
   "source": [
    "# Split the \"Blood Pressure\" column into two separate columns for systolic and diastolic pressure\n",
    "pd_df[['Systolic Pressure', 'Diastolic Pressure']] = pd_df['Blood Pressure'].str.split('/', expand=True)\n",
    "\n",
    "# Convert the new columns to numeric\n",
    "pd_df['Systolic Pressure'] = pd.to_numeric(pd_df['Systolic Pressure'])\n",
    "pd_df['Diastolic Pressure'] = pd.to_numeric(pd_df['Diastolic Pressure'])\n",
    "\n",
    "# Drop the original \"Blood Pressure\" column\n",
    "pd_df.drop('Blood Pressure', axis=1, inplace=True)\n",
    "\n",
    "pd_df.columns"
   ]
  },
  {
   "cell_type": "code",
   "execution_count": 48,
   "id": "eaaa4314",
   "metadata": {
    "tags": []
   },
   "outputs": [
    {
     "data": {
      "text/html": [
       "<div>\n",
       "<style scoped>\n",
       "    .dataframe tbody tr th:only-of-type {\n",
       "        vertical-align: middle;\n",
       "    }\n",
       "\n",
       "    .dataframe tbody tr th {\n",
       "        vertical-align: top;\n",
       "    }\n",
       "\n",
       "    .dataframe thead th {\n",
       "        text-align: right;\n",
       "    }\n",
       "</style>\n",
       "<table border=\"1\" class=\"dataframe\">\n",
       "  <thead>\n",
       "    <tr style=\"text-align: right;\">\n",
       "      <th></th>\n",
       "      <th>Patient ID</th>\n",
       "      <th>Age</th>\n",
       "      <th>Sex</th>\n",
       "      <th>Cholesterol</th>\n",
       "      <th>Heart Rate</th>\n",
       "      <th>Diabetes</th>\n",
       "      <th>Family History</th>\n",
       "      <th>Smoking</th>\n",
       "      <th>Obesity</th>\n",
       "      <th>Alcohol Consumption</th>\n",
       "      <th>Exercise Hours Per Week</th>\n",
       "      <th>Diet</th>\n",
       "      <th>Previous Heart Problems</th>\n",
       "      <th>Medication Use</th>\n",
       "      <th>Stress Level</th>\n",
       "      <th>Sedentary Hours Per Day</th>\n",
       "      <th>Income</th>\n",
       "      <th>BMI</th>\n",
       "      <th>Triglycerides</th>\n",
       "      <th>Physical Activity Days Per Week</th>\n",
       "      <th>Sleep Hours Per Day</th>\n",
       "      <th>Country</th>\n",
       "      <th>Continent</th>\n",
       "      <th>Hemisphere</th>\n",
       "      <th>Heart Attack Risk</th>\n",
       "      <th>Systolic Pressure</th>\n",
       "      <th>Diastolic Pressure</th>\n",
       "    </tr>\n",
       "  </thead>\n",
       "  <tbody>\n",
       "    <tr>\n",
       "      <th>0</th>\n",
       "      <td>BMW7812</td>\n",
       "      <td>67</td>\n",
       "      <td>1</td>\n",
       "      <td>208</td>\n",
       "      <td>72</td>\n",
       "      <td>0</td>\n",
       "      <td>0</td>\n",
       "      <td>1</td>\n",
       "      <td>0</td>\n",
       "      <td>0</td>\n",
       "      <td>4.17</td>\n",
       "      <td>Average</td>\n",
       "      <td>0</td>\n",
       "      <td>0</td>\n",
       "      <td>9</td>\n",
       "      <td>6.62</td>\n",
       "      <td>261404</td>\n",
       "      <td>31.25</td>\n",
       "      <td>286</td>\n",
       "      <td>0</td>\n",
       "      <td>6</td>\n",
       "      <td>Argentina</td>\n",
       "      <td>South America</td>\n",
       "      <td>1</td>\n",
       "      <td>0</td>\n",
       "      <td>158</td>\n",
       "      <td>88</td>\n",
       "    </tr>\n",
       "    <tr>\n",
       "      <th>1</th>\n",
       "      <td>CZE1114</td>\n",
       "      <td>21</td>\n",
       "      <td>1</td>\n",
       "      <td>389</td>\n",
       "      <td>98</td>\n",
       "      <td>1</td>\n",
       "      <td>1</td>\n",
       "      <td>1</td>\n",
       "      <td>1</td>\n",
       "      <td>1</td>\n",
       "      <td>1.81</td>\n",
       "      <td>Unhealthy</td>\n",
       "      <td>1</td>\n",
       "      <td>0</td>\n",
       "      <td>1</td>\n",
       "      <td>4.96</td>\n",
       "      <td>285768</td>\n",
       "      <td>27.19</td>\n",
       "      <td>235</td>\n",
       "      <td>1</td>\n",
       "      <td>7</td>\n",
       "      <td>Canada</td>\n",
       "      <td>North America</td>\n",
       "      <td>0</td>\n",
       "      <td>0</td>\n",
       "      <td>165</td>\n",
       "      <td>93</td>\n",
       "    </tr>\n",
       "    <tr>\n",
       "      <th>2</th>\n",
       "      <td>BNI9906</td>\n",
       "      <td>21</td>\n",
       "      <td>0</td>\n",
       "      <td>324</td>\n",
       "      <td>72</td>\n",
       "      <td>1</td>\n",
       "      <td>0</td>\n",
       "      <td>0</td>\n",
       "      <td>0</td>\n",
       "      <td>0</td>\n",
       "      <td>2.08</td>\n",
       "      <td>Healthy</td>\n",
       "      <td>1</td>\n",
       "      <td>1</td>\n",
       "      <td>9</td>\n",
       "      <td>9.46</td>\n",
       "      <td>235282</td>\n",
       "      <td>28.18</td>\n",
       "      <td>587</td>\n",
       "      <td>4</td>\n",
       "      <td>4</td>\n",
       "      <td>France</td>\n",
       "      <td>Europe</td>\n",
       "      <td>0</td>\n",
       "      <td>0</td>\n",
       "      <td>174</td>\n",
       "      <td>99</td>\n",
       "    </tr>\n",
       "    <tr>\n",
       "      <th>3</th>\n",
       "      <td>JLN3497</td>\n",
       "      <td>84</td>\n",
       "      <td>1</td>\n",
       "      <td>383</td>\n",
       "      <td>73</td>\n",
       "      <td>1</td>\n",
       "      <td>1</td>\n",
       "      <td>1</td>\n",
       "      <td>0</td>\n",
       "      <td>1</td>\n",
       "      <td>9.83</td>\n",
       "      <td>Average</td>\n",
       "      <td>1</td>\n",
       "      <td>0</td>\n",
       "      <td>9</td>\n",
       "      <td>7.65</td>\n",
       "      <td>125640</td>\n",
       "      <td>36.46</td>\n",
       "      <td>378</td>\n",
       "      <td>3</td>\n",
       "      <td>4</td>\n",
       "      <td>Canada</td>\n",
       "      <td>North America</td>\n",
       "      <td>0</td>\n",
       "      <td>0</td>\n",
       "      <td>163</td>\n",
       "      <td>100</td>\n",
       "    </tr>\n",
       "    <tr>\n",
       "      <th>4</th>\n",
       "      <td>GFO8847</td>\n",
       "      <td>66</td>\n",
       "      <td>1</td>\n",
       "      <td>318</td>\n",
       "      <td>93</td>\n",
       "      <td>1</td>\n",
       "      <td>1</td>\n",
       "      <td>1</td>\n",
       "      <td>1</td>\n",
       "      <td>0</td>\n",
       "      <td>5.80</td>\n",
       "      <td>Unhealthy</td>\n",
       "      <td>1</td>\n",
       "      <td>0</td>\n",
       "      <td>6</td>\n",
       "      <td>1.51</td>\n",
       "      <td>160555</td>\n",
       "      <td>21.81</td>\n",
       "      <td>231</td>\n",
       "      <td>1</td>\n",
       "      <td>5</td>\n",
       "      <td>Thailand</td>\n",
       "      <td>Asia</td>\n",
       "      <td>0</td>\n",
       "      <td>0</td>\n",
       "      <td>91</td>\n",
       "      <td>88</td>\n",
       "    </tr>\n",
       "  </tbody>\n",
       "</table>\n",
       "</div>"
      ],
      "text/plain": [
       "  Patient ID  Age  Sex  Cholesterol  Heart Rate  Diabetes  Family History  \\\n",
       "0    BMW7812   67    1          208          72         0               0   \n",
       "1    CZE1114   21    1          389          98         1               1   \n",
       "2    BNI9906   21    0          324          72         1               0   \n",
       "3    JLN3497   84    1          383          73         1               1   \n",
       "4    GFO8847   66    1          318          93         1               1   \n",
       "\n",
       "   Smoking  Obesity  Alcohol Consumption  Exercise Hours Per Week       Diet  \\\n",
       "0        1        0                    0                     4.17    Average   \n",
       "1        1        1                    1                     1.81  Unhealthy   \n",
       "2        0        0                    0                     2.08    Healthy   \n",
       "3        1        0                    1                     9.83    Average   \n",
       "4        1        1                    0                     5.80  Unhealthy   \n",
       "\n",
       "   Previous Heart Problems  Medication Use  Stress Level  \\\n",
       "0                        0               0             9   \n",
       "1                        1               0             1   \n",
       "2                        1               1             9   \n",
       "3                        1               0             9   \n",
       "4                        1               0             6   \n",
       "\n",
       "   Sedentary Hours Per Day  Income    BMI  Triglycerides  \\\n",
       "0                     6.62  261404  31.25            286   \n",
       "1                     4.96  285768  27.19            235   \n",
       "2                     9.46  235282  28.18            587   \n",
       "3                     7.65  125640  36.46            378   \n",
       "4                     1.51  160555  21.81            231   \n",
       "\n",
       "   Physical Activity Days Per Week  Sleep Hours Per Day    Country  \\\n",
       "0                                0                    6  Argentina   \n",
       "1                                1                    7     Canada   \n",
       "2                                4                    4     France   \n",
       "3                                3                    4     Canada   \n",
       "4                                1                    5   Thailand   \n",
       "\n",
       "       Continent  Hemisphere  Heart Attack Risk  Systolic Pressure  \\\n",
       "0  South America           1                  0                158   \n",
       "1  North America           0                  0                165   \n",
       "2         Europe           0                  0                174   \n",
       "3  North America           0                  0                163   \n",
       "4           Asia           0                  0                 91   \n",
       "\n",
       "   Diastolic Pressure  \n",
       "0                  88  \n",
       "1                  93  \n",
       "2                  99  \n",
       "3                 100  \n",
       "4                  88  "
      ]
     },
     "execution_count": 48,
     "metadata": {},
     "output_type": "execute_result"
    }
   ],
   "source": [
    "# Dictionary mapping values in the 'gender' column to new values\n",
    "mapping = {'Female':0,'Male':1,\n",
    "           'Northern Hemisphere':0, 'Southern Hemisphere':1}\n",
    "\n",
    "# Use the 'map' method to change the values in the 'gender' column\n",
    "pd_df['Sex'] = pd_df['Sex'].map(mapping)\n",
    "pd_df['Hemisphere'] = pd_df['Hemisphere'].map(mapping)\n",
    "\n",
    "# Show DataFrame\n",
    "pd_df[:5]"
   ]
  },
  {
   "cell_type": "code",
   "execution_count": 49,
   "id": "ce4e2012",
   "metadata": {
    "tags": []
   },
   "outputs": [
    {
     "data": {
      "text/html": [
       "<div>\n",
       "<style scoped>\n",
       "    .dataframe tbody tr th:only-of-type {\n",
       "        vertical-align: middle;\n",
       "    }\n",
       "\n",
       "    .dataframe tbody tr th {\n",
       "        vertical-align: top;\n",
       "    }\n",
       "\n",
       "    .dataframe thead th {\n",
       "        text-align: right;\n",
       "    }\n",
       "</style>\n",
       "<table border=\"1\" class=\"dataframe\">\n",
       "  <thead>\n",
       "    <tr style=\"text-align: right;\">\n",
       "      <th></th>\n",
       "      <th>Country_Argentina</th>\n",
       "      <th>Country_Australia</th>\n",
       "      <th>Country_Brazil</th>\n",
       "      <th>Country_Canada</th>\n",
       "      <th>Country_China</th>\n",
       "      <th>Country_Colombia</th>\n",
       "      <th>Country_France</th>\n",
       "      <th>Country_Germany</th>\n",
       "      <th>Country_India</th>\n",
       "      <th>Country_Italy</th>\n",
       "      <th>Country_Japan</th>\n",
       "      <th>Country_New Zealand</th>\n",
       "      <th>Country_Nigeria</th>\n",
       "      <th>Country_South Africa</th>\n",
       "      <th>Country_South Korea</th>\n",
       "      <th>Country_Spain</th>\n",
       "      <th>Country_Thailand</th>\n",
       "      <th>Country_United Kingdom</th>\n",
       "      <th>Country_United States</th>\n",
       "      <th>Country_Vietnam</th>\n",
       "      <th>Continent_Africa</th>\n",
       "      <th>Continent_Asia</th>\n",
       "      <th>Continent_Australia</th>\n",
       "      <th>Continent_Europe</th>\n",
       "      <th>Continent_North America</th>\n",
       "      <th>Continent_South America</th>\n",
       "      <th>Diet_Average</th>\n",
       "      <th>Diet_Healthy</th>\n",
       "      <th>Diet_Unhealthy</th>\n",
       "    </tr>\n",
       "  </thead>\n",
       "  <tbody>\n",
       "    <tr>\n",
       "      <th>0</th>\n",
       "      <td>1</td>\n",
       "      <td>0</td>\n",
       "      <td>0</td>\n",
       "      <td>0</td>\n",
       "      <td>0</td>\n",
       "      <td>0</td>\n",
       "      <td>0</td>\n",
       "      <td>0</td>\n",
       "      <td>0</td>\n",
       "      <td>0</td>\n",
       "      <td>0</td>\n",
       "      <td>0</td>\n",
       "      <td>0</td>\n",
       "      <td>0</td>\n",
       "      <td>0</td>\n",
       "      <td>0</td>\n",
       "      <td>0</td>\n",
       "      <td>0</td>\n",
       "      <td>0</td>\n",
       "      <td>0</td>\n",
       "      <td>0</td>\n",
       "      <td>0</td>\n",
       "      <td>0</td>\n",
       "      <td>0</td>\n",
       "      <td>0</td>\n",
       "      <td>1</td>\n",
       "      <td>1</td>\n",
       "      <td>0</td>\n",
       "      <td>0</td>\n",
       "    </tr>\n",
       "    <tr>\n",
       "      <th>1</th>\n",
       "      <td>0</td>\n",
       "      <td>0</td>\n",
       "      <td>0</td>\n",
       "      <td>1</td>\n",
       "      <td>0</td>\n",
       "      <td>0</td>\n",
       "      <td>0</td>\n",
       "      <td>0</td>\n",
       "      <td>0</td>\n",
       "      <td>0</td>\n",
       "      <td>0</td>\n",
       "      <td>0</td>\n",
       "      <td>0</td>\n",
       "      <td>0</td>\n",
       "      <td>0</td>\n",
       "      <td>0</td>\n",
       "      <td>0</td>\n",
       "      <td>0</td>\n",
       "      <td>0</td>\n",
       "      <td>0</td>\n",
       "      <td>0</td>\n",
       "      <td>0</td>\n",
       "      <td>0</td>\n",
       "      <td>0</td>\n",
       "      <td>1</td>\n",
       "      <td>0</td>\n",
       "      <td>0</td>\n",
       "      <td>0</td>\n",
       "      <td>1</td>\n",
       "    </tr>\n",
       "    <tr>\n",
       "      <th>2</th>\n",
       "      <td>0</td>\n",
       "      <td>0</td>\n",
       "      <td>0</td>\n",
       "      <td>0</td>\n",
       "      <td>0</td>\n",
       "      <td>0</td>\n",
       "      <td>1</td>\n",
       "      <td>0</td>\n",
       "      <td>0</td>\n",
       "      <td>0</td>\n",
       "      <td>0</td>\n",
       "      <td>0</td>\n",
       "      <td>0</td>\n",
       "      <td>0</td>\n",
       "      <td>0</td>\n",
       "      <td>0</td>\n",
       "      <td>0</td>\n",
       "      <td>0</td>\n",
       "      <td>0</td>\n",
       "      <td>0</td>\n",
       "      <td>0</td>\n",
       "      <td>0</td>\n",
       "      <td>0</td>\n",
       "      <td>1</td>\n",
       "      <td>0</td>\n",
       "      <td>0</td>\n",
       "      <td>0</td>\n",
       "      <td>1</td>\n",
       "      <td>0</td>\n",
       "    </tr>\n",
       "    <tr>\n",
       "      <th>3</th>\n",
       "      <td>0</td>\n",
       "      <td>0</td>\n",
       "      <td>0</td>\n",
       "      <td>1</td>\n",
       "      <td>0</td>\n",
       "      <td>0</td>\n",
       "      <td>0</td>\n",
       "      <td>0</td>\n",
       "      <td>0</td>\n",
       "      <td>0</td>\n",
       "      <td>0</td>\n",
       "      <td>0</td>\n",
       "      <td>0</td>\n",
       "      <td>0</td>\n",
       "      <td>0</td>\n",
       "      <td>0</td>\n",
       "      <td>0</td>\n",
       "      <td>0</td>\n",
       "      <td>0</td>\n",
       "      <td>0</td>\n",
       "      <td>0</td>\n",
       "      <td>0</td>\n",
       "      <td>0</td>\n",
       "      <td>0</td>\n",
       "      <td>1</td>\n",
       "      <td>0</td>\n",
       "      <td>1</td>\n",
       "      <td>0</td>\n",
       "      <td>0</td>\n",
       "    </tr>\n",
       "    <tr>\n",
       "      <th>4</th>\n",
       "      <td>0</td>\n",
       "      <td>0</td>\n",
       "      <td>0</td>\n",
       "      <td>0</td>\n",
       "      <td>0</td>\n",
       "      <td>0</td>\n",
       "      <td>0</td>\n",
       "      <td>0</td>\n",
       "      <td>0</td>\n",
       "      <td>0</td>\n",
       "      <td>0</td>\n",
       "      <td>0</td>\n",
       "      <td>0</td>\n",
       "      <td>0</td>\n",
       "      <td>0</td>\n",
       "      <td>0</td>\n",
       "      <td>1</td>\n",
       "      <td>0</td>\n",
       "      <td>0</td>\n",
       "      <td>0</td>\n",
       "      <td>0</td>\n",
       "      <td>1</td>\n",
       "      <td>0</td>\n",
       "      <td>0</td>\n",
       "      <td>0</td>\n",
       "      <td>0</td>\n",
       "      <td>0</td>\n",
       "      <td>0</td>\n",
       "      <td>1</td>\n",
       "    </tr>\n",
       "  </tbody>\n",
       "</table>\n",
       "</div>"
      ],
      "text/plain": [
       "   Country_Argentina  Country_Australia  Country_Brazil  Country_Canada  \\\n",
       "0                  1                  0               0               0   \n",
       "1                  0                  0               0               1   \n",
       "2                  0                  0               0               0   \n",
       "3                  0                  0               0               1   \n",
       "4                  0                  0               0               0   \n",
       "\n",
       "   Country_China  Country_Colombia  Country_France  Country_Germany  \\\n",
       "0              0                 0               0                0   \n",
       "1              0                 0               0                0   \n",
       "2              0                 0               1                0   \n",
       "3              0                 0               0                0   \n",
       "4              0                 0               0                0   \n",
       "\n",
       "   Country_India  Country_Italy  Country_Japan  Country_New Zealand  \\\n",
       "0              0              0              0                    0   \n",
       "1              0              0              0                    0   \n",
       "2              0              0              0                    0   \n",
       "3              0              0              0                    0   \n",
       "4              0              0              0                    0   \n",
       "\n",
       "   Country_Nigeria  Country_South Africa  Country_South Korea  Country_Spain  \\\n",
       "0                0                     0                    0              0   \n",
       "1                0                     0                    0              0   \n",
       "2                0                     0                    0              0   \n",
       "3                0                     0                    0              0   \n",
       "4                0                     0                    0              0   \n",
       "\n",
       "   Country_Thailand  Country_United Kingdom  Country_United States  \\\n",
       "0                 0                       0                      0   \n",
       "1                 0                       0                      0   \n",
       "2                 0                       0                      0   \n",
       "3                 0                       0                      0   \n",
       "4                 1                       0                      0   \n",
       "\n",
       "   Country_Vietnam  Continent_Africa  Continent_Asia  Continent_Australia  \\\n",
       "0                0                 0               0                    0   \n",
       "1                0                 0               0                    0   \n",
       "2                0                 0               0                    0   \n",
       "3                0                 0               0                    0   \n",
       "4                0                 0               1                    0   \n",
       "\n",
       "   Continent_Europe  Continent_North America  Continent_South America  \\\n",
       "0                 0                        0                        1   \n",
       "1                 0                        1                        0   \n",
       "2                 1                        0                        0   \n",
       "3                 0                        1                        0   \n",
       "4                 0                        0                        0   \n",
       "\n",
       "   Diet_Average  Diet_Healthy  Diet_Unhealthy  \n",
       "0             1             0               0  \n",
       "1             0             0               1  \n",
       "2             0             1               0  \n",
       "3             1             0               0  \n",
       "4             0             0               1  "
      ]
     },
     "execution_count": 49,
     "metadata": {},
     "output_type": "execute_result"
    }
   ],
   "source": [
    "# Define categorical features\n",
    "categorical_features = ['Country', 'Continent', 'Diet'] \n",
    "categorical_dummies = pd.get_dummies(pd_df[categorical_features])\n",
    "categorical_dummies[:5]"
   ]
  },
  {
   "cell_type": "code",
   "execution_count": 50,
   "id": "cb0cf07b",
   "metadata": {
    "tags": []
   },
   "outputs": [
    {
     "name": "stdout",
     "output_type": "stream",
     "text": [
      "Unique values for column 'Patient ID': ['BMW7812' 'CZE1114' 'BNI9906' ... 'XKA5925' 'EPE6801' 'ZWN9666']\n",
      "Unique values for column 'Age': [67 21 84 66 54 90 20 43 73 71 77 60 88 69 38 50 45 36 48 40 79 63 27 25\n",
      " 86 42 52 29 30 47 44 33 51 70 85 31 56 24 74 72 55 26 53 46 57 22 35 39\n",
      " 80 65 83 82 28 19 75 18 34 37 89 32 49 23 59 62 64 61 76 41 87 81 58 78\n",
      " 68]\n",
      "Unique values for column 'Sex': [1 0]\n",
      "Unique values for column 'Cholesterol': [208 389 324 383 318 297 358 220 145 248 373 374 228 259 122 379 166 303\n",
      " 340 294 359 202 133 159 271 273 328 154 135 197 321 375 360 263 201 347\n",
      " 129 229 251 121 190 185 279 336 192 180 203 368 222 243 218 120 285 377\n",
      " 369 311 139 266 153 339 329 333 398 124 183 163 362 390 200 396 255 209\n",
      " 247 250 227 246 223 330 195 194 178 155 240 237 216 276 224 326 198 301\n",
      " 314 304 334 213 254 230 316 277 388 206 384 205 261 308 338 382 291 168\n",
      " 171 378 253 245 226 281 123 173 231 234 268 306 186 293 161 380 239 149\n",
      " 320 219 335 265 126 307 270 225 193 148 296 136 364 353 252 232 387 299\n",
      " 357 214 370 345 351 344 152 150 131 272 302 337 170 356 274 188 125 138\n",
      " 376 181 184 275 394 128 217 399 283 289 284 327 262 212 350 385 162 141\n",
      " 361 244 295 287 144 354 363 352 140 196 172 319 325 331 392 147 187 346\n",
      " 286 151 300 165 343 366 317 386 158 157 242 241 365 257 348 175 298 269\n",
      " 267 397 310 341 204 127 290 280 132 322 179 199 143 312 288 395 189 156\n",
      " 238 381 391 355 210 400 260 235 167 256 249 207 130 134 137 305 236 315\n",
      " 292 323 146 258 332 372 142 309 177 367 371 211 282 342 264 176 160 233\n",
      " 313 164 349 221 191 174 393 278 215 169 182]\n",
      "Unique values for column 'Heart Rate': [ 72  98  73  93  48  84 107  68  55  97  70  85 102  40  56 104  71  69\n",
      "  66  81  52 105  96  74  49  45  50  46  44 106  83  86  65 101  51  43\n",
      "  79  90  94  78  92  54 109  61  64  82 110  42  63  41 100  76  75  58\n",
      "  53  60  77  47  59  57  87  67  88  99  80  95 108  89  62 103  91]\n",
      "Unique values for column 'Diabetes': [0 1]\n",
      "Unique values for column 'Family History': [0 1]\n",
      "Unique values for column 'Smoking': [1 0]\n",
      "Unique values for column 'Obesity': [0 1]\n",
      "Unique values for column 'Alcohol Consumption': [0 1]\n",
      "Unique values for column 'Exercise Hours Per Week': [ 4.16818884  1.81324162  2.07835299 ...  3.14843791  3.78994983\n",
      " 18.08174797]\n",
      "Unique values for column 'Diet': ['Average' 'Unhealthy' 'Healthy']\n",
      "Unique values for column 'Previous Heart Problems': [0 1]\n",
      "Unique values for column 'Medication Use': [0 1]\n",
      "Unique values for column 'Stress Level': [ 9  1  6  2  7  4  5  8 10  3]\n",
      "Unique values for column 'Sedentary Hours Per Day': [6.61500145 4.96345884 9.46342584 ... 2.37521373 0.02910426 9.00523438]\n",
      "Unique values for column 'Income': [261404 285768 235282 ...  36998 209943 247338]\n",
      "Unique values for column 'BMI': [31.25123273 27.19497335 28.17657068 ... 35.40614616 27.29402009\n",
      " 32.91415086]\n",
      "Unique values for column 'Triglycerides': [286 235 587 378 231 795 284 370 790 232 469 523 590 506 635 773  68 402\n",
      " 517 247 747 360 358 526 605 667 316 551 482 718 297 661 558 209 586 743\n",
      " 411 785 697 519 595 452 158 679 675 792 584 366 741 474  92 410 398 493\n",
      " 614 682 106 216 408 628 481  67  82 305 164 211 511 766 547 327 367 681\n",
      " 131  42 692 664 543 689 569 458 683 779 136 643 653  55 275 314 760 404\n",
      " 576 690 648 385 255 468 784 509 205 109 530 654 331 485 250 113 377 180\n",
      " 229 602 285 471 554 344 416 445 709 426 528 388 441 306 749 347 341 451\n",
      " 356 336 455 223 262 239 555 363 489 788 121 553 617 174 167 563 665  65\n",
      " 657 237 141 767 292 214 221 447 634 460 711  97 267 695 717 383 332 449\n",
      " 701 524 549  31 276 744 128  52 394  54 739 407 751 436 473 218 129 579\n",
      " 492 696 202 197 521 325  35 123 694 434 248 348 750 431 714 649 668 401\n",
      " 610 244 691  88 532 777 420 350 652 413 754 753 457 122 312 778 676 775\n",
      " 183 601 317 592 191  83  32 453 423 234 650 565 798 769 412  63 198  93\n",
      " 764 737  94 298 288 735 190 281 146 574 359 155 719 466 273 515 187 544\n",
      " 103 132 118 115  85  38 117 362 133 498 645 339 787 733 663 291 502  78\n",
      "  81 257 624  91 374 270 797 446 464 450 722 556 184 428 796 656 134 196\n",
      " 623 522 376 730 463  99 593  47 148 302  57 280 389 629 294 186 700 774\n",
      " 181 375 467 603 616 380 495 698 318 207 780  51  84 425 310 126  56 472\n",
      " 669 688 655  39 333 501 479 540 433 179 490 204 644 525 546 486 320 319\n",
      "  58 591 165 732 195 478 461 631 301  50 315 194 199 160 149 527 406 161\n",
      " 125 200 277 308  69 427 236  77 500 269  79 168 575 606 355 636  64 251\n",
      " 245 228 287 800 483 791 260 604 536 559 124 254 159  73 542 390 755  60\n",
      "  61 491  40 437 215 440 379 789 266 505 243 783 403 637 156 729 438 507\n",
      " 725 562 324  87 253 626 541 364 456  30 182 621 494 776 442 429 684 219\n",
      "  70  98 166  95 135 646 337 226 710 608 208 724 704 512 206 224 622 598\n",
      " 465 119 293 630 386 513  45 578 261 217 715 282 391 580 192 399 249 396\n",
      " 278 448 782 419 503 220  49 304 157 150 545 627 582 178 263  33 299 303\n",
      "  66 763 256 139 651 756 372 345  48  46 421  43 771 210 781  41 508 353\n",
      " 566 726 736 326 759 477 369 188 104 329 309 384 599 415 770 571 552 145\n",
      " 632 373  71 550 583 322 475 357 673 454 757 201 100 274 258 613 233 330\n",
      " 731 761 296 573 335 716 642 142 674 572 638 222 752 740 397 594 705 381\n",
      " 615 539 242 499 435 680 535 238 283  89 589 666 678  76 176 620  75 721\n",
      " 143 723 570  44 203 259 677 734 662 707 745 487 577 443 120 111 365 116\n",
      " 538 162 742 212 581 313  36 400 619 609 252 706 264 290 138 300 346 712\n",
      "  34 387 140 154 758 462 672 713  86 414 699 529 382 432 368 193  72 537\n",
      " 560 189 342 531 311 241 685 497 640 321 480 144 585 171 727 660 799 600\n",
      " 597 213 708 151 265 618 658 746 307  53 514 611 153 352 225 567 702 520\n",
      " 417 102 607 548 647 476 762 147 424 459 409  74 510  37 323 240 175 786\n",
      "  80 439 504 772 670  59 334 703 392  90 496 422 279 343 671 794 163 328\n",
      " 625 272 227 152 105 693  96 484 568 633 659 230 112 793 101 172 110 612\n",
      " 185 289 418 533 686 641 169 349 173 516  62 557 596 728 371 738 444 561\n",
      " 114 765 338 588 246 295 564 488 177 687 395 518 127 639 137 354 271 107\n",
      " 340 534 768 130 720 405 430 268 108 748 351 393 361 170 470]\n",
      "Unique values for column 'Physical Activity Days Per Week': [0 1 4 3 5 6 7 2]\n",
      "Unique values for column 'Sleep Hours Per Day': [ 6  7  4  5 10  8  9]\n",
      "Unique values for column 'Country': ['Argentina' 'Canada' 'France' 'Thailand' 'Germany' 'Japan' 'Brazil'\n",
      " 'South Africa' 'United States' 'Vietnam' 'China' 'Italy' 'Spain' 'India'\n",
      " 'Nigeria' 'New Zealand' 'South Korea' 'Australia' 'Colombia'\n",
      " 'United Kingdom']\n",
      "Unique values for column 'Continent': ['South America' 'North America' 'Europe' 'Asia' 'Africa' 'Australia']\n",
      "Unique values for column 'Hemisphere': [1 0]\n",
      "Unique values for column 'Heart Attack Risk': [0 1]\n",
      "Unique values for column 'Systolic Pressure': [158 165 174 163  91 172 102 131 144 160 107 101 169 112 114 173 120 180\n",
      " 130 175 161 140 148 113  99 178 111 103  94 127 134 115 124 104 149 106\n",
      " 168 159 100 118 152 151 109  92 179 132 177 110 116 139 164 122  95 155\n",
      " 108 105 146 166 117 145 170 125 135 137 121 126 142 128 143  96 153 156\n",
      " 162  98 150 133 157 154 123 171  90 176 167 141 138 119  97  93 147 129\n",
      " 136]\n",
      "Unique values for column 'Diastolic Pressure': [ 88  93  99 100  86  73  68 105  70  69  71  72  81  75  74  98 101  84\n",
      "  60 109  90  95  76  78  77  91  85 107  92  96 108  63 106  79  80  83\n",
      "  61  65  97  94  66 110 104  67  89 102  82  62  64  87 103]\n"
     ]
    }
   ],
   "source": [
    "# Check unique values for each column\n",
    "for col in pd_df.columns:\n",
    "    print(f\"Unique values for column '{col}': {pd_df[col].unique()}\")\n"
   ]
  },
  {
   "cell_type": "code",
   "execution_count": 51,
   "id": "54b26763",
   "metadata": {
    "tags": []
   },
   "outputs": [],
   "source": [
    "# Define numerical features\n",
    "numerical_features = [col for col in pd_df.columns if col not in ['Patient ID','Heart Attack Risk'] + categorical_features]"
   ]
  },
  {
   "cell_type": "code",
   "execution_count": 52,
   "id": "54639c22",
   "metadata": {
    "tags": []
   },
   "outputs": [
    {
     "data": {
      "text/html": [
       "<div>\n",
       "<style scoped>\n",
       "    .dataframe tbody tr th:only-of-type {\n",
       "        vertical-align: middle;\n",
       "    }\n",
       "\n",
       "    .dataframe tbody tr th {\n",
       "        vertical-align: top;\n",
       "    }\n",
       "\n",
       "    .dataframe thead th {\n",
       "        text-align: right;\n",
       "    }\n",
       "</style>\n",
       "<table border=\"1\" class=\"dataframe\">\n",
       "  <thead>\n",
       "    <tr style=\"text-align: right;\">\n",
       "      <th></th>\n",
       "      <th>Age</th>\n",
       "      <th>Sex</th>\n",
       "      <th>Cholesterol</th>\n",
       "      <th>Heart Rate</th>\n",
       "      <th>Diabetes</th>\n",
       "      <th>Family History</th>\n",
       "      <th>Smoking</th>\n",
       "      <th>Obesity</th>\n",
       "      <th>Alcohol Consumption</th>\n",
       "      <th>Exercise Hours Per Week</th>\n",
       "      <th>Previous Heart Problems</th>\n",
       "      <th>Medication Use</th>\n",
       "      <th>Stress Level</th>\n",
       "      <th>Sedentary Hours Per Day</th>\n",
       "      <th>Income</th>\n",
       "      <th>BMI</th>\n",
       "      <th>Triglycerides</th>\n",
       "      <th>Physical Activity Days Per Week</th>\n",
       "      <th>Sleep Hours Per Day</th>\n",
       "      <th>Hemisphere</th>\n",
       "      <th>Heart Attack Risk</th>\n",
       "      <th>Systolic Pressure</th>\n",
       "      <th>Diastolic Pressure</th>\n",
       "      <th>Country_Argentina</th>\n",
       "      <th>Country_Australia</th>\n",
       "      <th>Country_Brazil</th>\n",
       "      <th>Country_Canada</th>\n",
       "      <th>Country_China</th>\n",
       "      <th>Country_Colombia</th>\n",
       "      <th>Country_France</th>\n",
       "      <th>Country_Germany</th>\n",
       "      <th>Country_India</th>\n",
       "      <th>Country_Italy</th>\n",
       "      <th>Country_Japan</th>\n",
       "      <th>Country_New Zealand</th>\n",
       "      <th>Country_Nigeria</th>\n",
       "      <th>Country_South Africa</th>\n",
       "      <th>Country_South Korea</th>\n",
       "      <th>Country_Spain</th>\n",
       "      <th>Country_Thailand</th>\n",
       "      <th>Country_United Kingdom</th>\n",
       "      <th>Country_United States</th>\n",
       "      <th>Country_Vietnam</th>\n",
       "      <th>Continent_Africa</th>\n",
       "      <th>Continent_Asia</th>\n",
       "      <th>Continent_Australia</th>\n",
       "      <th>Continent_Europe</th>\n",
       "      <th>Continent_North America</th>\n",
       "      <th>Continent_South America</th>\n",
       "      <th>Diet_Average</th>\n",
       "      <th>Diet_Healthy</th>\n",
       "      <th>Diet_Unhealthy</th>\n",
       "    </tr>\n",
       "    <tr>\n",
       "      <th>Patient ID</th>\n",
       "      <th></th>\n",
       "      <th></th>\n",
       "      <th></th>\n",
       "      <th></th>\n",
       "      <th></th>\n",
       "      <th></th>\n",
       "      <th></th>\n",
       "      <th></th>\n",
       "      <th></th>\n",
       "      <th></th>\n",
       "      <th></th>\n",
       "      <th></th>\n",
       "      <th></th>\n",
       "      <th></th>\n",
       "      <th></th>\n",
       "      <th></th>\n",
       "      <th></th>\n",
       "      <th></th>\n",
       "      <th></th>\n",
       "      <th></th>\n",
       "      <th></th>\n",
       "      <th></th>\n",
       "      <th></th>\n",
       "      <th></th>\n",
       "      <th></th>\n",
       "      <th></th>\n",
       "      <th></th>\n",
       "      <th></th>\n",
       "      <th></th>\n",
       "      <th></th>\n",
       "      <th></th>\n",
       "      <th></th>\n",
       "      <th></th>\n",
       "      <th></th>\n",
       "      <th></th>\n",
       "      <th></th>\n",
       "      <th></th>\n",
       "      <th></th>\n",
       "      <th></th>\n",
       "      <th></th>\n",
       "      <th></th>\n",
       "      <th></th>\n",
       "      <th></th>\n",
       "      <th></th>\n",
       "      <th></th>\n",
       "      <th></th>\n",
       "      <th></th>\n",
       "      <th></th>\n",
       "      <th></th>\n",
       "      <th></th>\n",
       "      <th></th>\n",
       "      <th></th>\n",
       "    </tr>\n",
       "  </thead>\n",
       "  <tbody>\n",
       "    <tr>\n",
       "      <th>BMW7812</th>\n",
       "      <td>67</td>\n",
       "      <td>1</td>\n",
       "      <td>208</td>\n",
       "      <td>72</td>\n",
       "      <td>0</td>\n",
       "      <td>0</td>\n",
       "      <td>1</td>\n",
       "      <td>0</td>\n",
       "      <td>0</td>\n",
       "      <td>4.17</td>\n",
       "      <td>0</td>\n",
       "      <td>0</td>\n",
       "      <td>9</td>\n",
       "      <td>6.62</td>\n",
       "      <td>261404</td>\n",
       "      <td>31.25</td>\n",
       "      <td>286</td>\n",
       "      <td>0</td>\n",
       "      <td>6</td>\n",
       "      <td>1</td>\n",
       "      <td>0</td>\n",
       "      <td>158</td>\n",
       "      <td>88</td>\n",
       "      <td>1</td>\n",
       "      <td>0</td>\n",
       "      <td>0</td>\n",
       "      <td>0</td>\n",
       "      <td>0</td>\n",
       "      <td>0</td>\n",
       "      <td>0</td>\n",
       "      <td>0</td>\n",
       "      <td>0</td>\n",
       "      <td>0</td>\n",
       "      <td>0</td>\n",
       "      <td>0</td>\n",
       "      <td>0</td>\n",
       "      <td>0</td>\n",
       "      <td>0</td>\n",
       "      <td>0</td>\n",
       "      <td>0</td>\n",
       "      <td>0</td>\n",
       "      <td>0</td>\n",
       "      <td>0</td>\n",
       "      <td>0</td>\n",
       "      <td>0</td>\n",
       "      <td>0</td>\n",
       "      <td>0</td>\n",
       "      <td>0</td>\n",
       "      <td>1</td>\n",
       "      <td>1</td>\n",
       "      <td>0</td>\n",
       "      <td>0</td>\n",
       "    </tr>\n",
       "    <tr>\n",
       "      <th>CZE1114</th>\n",
       "      <td>21</td>\n",
       "      <td>1</td>\n",
       "      <td>389</td>\n",
       "      <td>98</td>\n",
       "      <td>1</td>\n",
       "      <td>1</td>\n",
       "      <td>1</td>\n",
       "      <td>1</td>\n",
       "      <td>1</td>\n",
       "      <td>1.81</td>\n",
       "      <td>1</td>\n",
       "      <td>0</td>\n",
       "      <td>1</td>\n",
       "      <td>4.96</td>\n",
       "      <td>285768</td>\n",
       "      <td>27.19</td>\n",
       "      <td>235</td>\n",
       "      <td>1</td>\n",
       "      <td>7</td>\n",
       "      <td>0</td>\n",
       "      <td>0</td>\n",
       "      <td>165</td>\n",
       "      <td>93</td>\n",
       "      <td>0</td>\n",
       "      <td>0</td>\n",
       "      <td>0</td>\n",
       "      <td>1</td>\n",
       "      <td>0</td>\n",
       "      <td>0</td>\n",
       "      <td>0</td>\n",
       "      <td>0</td>\n",
       "      <td>0</td>\n",
       "      <td>0</td>\n",
       "      <td>0</td>\n",
       "      <td>0</td>\n",
       "      <td>0</td>\n",
       "      <td>0</td>\n",
       "      <td>0</td>\n",
       "      <td>0</td>\n",
       "      <td>0</td>\n",
       "      <td>0</td>\n",
       "      <td>0</td>\n",
       "      <td>0</td>\n",
       "      <td>0</td>\n",
       "      <td>0</td>\n",
       "      <td>0</td>\n",
       "      <td>0</td>\n",
       "      <td>1</td>\n",
       "      <td>0</td>\n",
       "      <td>0</td>\n",
       "      <td>0</td>\n",
       "      <td>1</td>\n",
       "    </tr>\n",
       "    <tr>\n",
       "      <th>BNI9906</th>\n",
       "      <td>21</td>\n",
       "      <td>0</td>\n",
       "      <td>324</td>\n",
       "      <td>72</td>\n",
       "      <td>1</td>\n",
       "      <td>0</td>\n",
       "      <td>0</td>\n",
       "      <td>0</td>\n",
       "      <td>0</td>\n",
       "      <td>2.08</td>\n",
       "      <td>1</td>\n",
       "      <td>1</td>\n",
       "      <td>9</td>\n",
       "      <td>9.46</td>\n",
       "      <td>235282</td>\n",
       "      <td>28.18</td>\n",
       "      <td>587</td>\n",
       "      <td>4</td>\n",
       "      <td>4</td>\n",
       "      <td>0</td>\n",
       "      <td>0</td>\n",
       "      <td>174</td>\n",
       "      <td>99</td>\n",
       "      <td>0</td>\n",
       "      <td>0</td>\n",
       "      <td>0</td>\n",
       "      <td>0</td>\n",
       "      <td>0</td>\n",
       "      <td>0</td>\n",
       "      <td>1</td>\n",
       "      <td>0</td>\n",
       "      <td>0</td>\n",
       "      <td>0</td>\n",
       "      <td>0</td>\n",
       "      <td>0</td>\n",
       "      <td>0</td>\n",
       "      <td>0</td>\n",
       "      <td>0</td>\n",
       "      <td>0</td>\n",
       "      <td>0</td>\n",
       "      <td>0</td>\n",
       "      <td>0</td>\n",
       "      <td>0</td>\n",
       "      <td>0</td>\n",
       "      <td>0</td>\n",
       "      <td>0</td>\n",
       "      <td>1</td>\n",
       "      <td>0</td>\n",
       "      <td>0</td>\n",
       "      <td>0</td>\n",
       "      <td>1</td>\n",
       "      <td>0</td>\n",
       "    </tr>\n",
       "    <tr>\n",
       "      <th>JLN3497</th>\n",
       "      <td>84</td>\n",
       "      <td>1</td>\n",
       "      <td>383</td>\n",
       "      <td>73</td>\n",
       "      <td>1</td>\n",
       "      <td>1</td>\n",
       "      <td>1</td>\n",
       "      <td>0</td>\n",
       "      <td>1</td>\n",
       "      <td>9.83</td>\n",
       "      <td>1</td>\n",
       "      <td>0</td>\n",
       "      <td>9</td>\n",
       "      <td>7.65</td>\n",
       "      <td>125640</td>\n",
       "      <td>36.46</td>\n",
       "      <td>378</td>\n",
       "      <td>3</td>\n",
       "      <td>4</td>\n",
       "      <td>0</td>\n",
       "      <td>0</td>\n",
       "      <td>163</td>\n",
       "      <td>100</td>\n",
       "      <td>0</td>\n",
       "      <td>0</td>\n",
       "      <td>0</td>\n",
       "      <td>1</td>\n",
       "      <td>0</td>\n",
       "      <td>0</td>\n",
       "      <td>0</td>\n",
       "      <td>0</td>\n",
       "      <td>0</td>\n",
       "      <td>0</td>\n",
       "      <td>0</td>\n",
       "      <td>0</td>\n",
       "      <td>0</td>\n",
       "      <td>0</td>\n",
       "      <td>0</td>\n",
       "      <td>0</td>\n",
       "      <td>0</td>\n",
       "      <td>0</td>\n",
       "      <td>0</td>\n",
       "      <td>0</td>\n",
       "      <td>0</td>\n",
       "      <td>0</td>\n",
       "      <td>0</td>\n",
       "      <td>0</td>\n",
       "      <td>1</td>\n",
       "      <td>0</td>\n",
       "      <td>1</td>\n",
       "      <td>0</td>\n",
       "      <td>0</td>\n",
       "    </tr>\n",
       "    <tr>\n",
       "      <th>GFO8847</th>\n",
       "      <td>66</td>\n",
       "      <td>1</td>\n",
       "      <td>318</td>\n",
       "      <td>93</td>\n",
       "      <td>1</td>\n",
       "      <td>1</td>\n",
       "      <td>1</td>\n",
       "      <td>1</td>\n",
       "      <td>0</td>\n",
       "      <td>5.80</td>\n",
       "      <td>1</td>\n",
       "      <td>0</td>\n",
       "      <td>6</td>\n",
       "      <td>1.51</td>\n",
       "      <td>160555</td>\n",
       "      <td>21.81</td>\n",
       "      <td>231</td>\n",
       "      <td>1</td>\n",
       "      <td>5</td>\n",
       "      <td>0</td>\n",
       "      <td>0</td>\n",
       "      <td>91</td>\n",
       "      <td>88</td>\n",
       "      <td>0</td>\n",
       "      <td>0</td>\n",
       "      <td>0</td>\n",
       "      <td>0</td>\n",
       "      <td>0</td>\n",
       "      <td>0</td>\n",
       "      <td>0</td>\n",
       "      <td>0</td>\n",
       "      <td>0</td>\n",
       "      <td>0</td>\n",
       "      <td>0</td>\n",
       "      <td>0</td>\n",
       "      <td>0</td>\n",
       "      <td>0</td>\n",
       "      <td>0</td>\n",
       "      <td>0</td>\n",
       "      <td>1</td>\n",
       "      <td>0</td>\n",
       "      <td>0</td>\n",
       "      <td>0</td>\n",
       "      <td>0</td>\n",
       "      <td>1</td>\n",
       "      <td>0</td>\n",
       "      <td>0</td>\n",
       "      <td>0</td>\n",
       "      <td>0</td>\n",
       "      <td>0</td>\n",
       "      <td>0</td>\n",
       "      <td>1</td>\n",
       "    </tr>\n",
       "  </tbody>\n",
       "</table>\n",
       "</div>"
      ],
      "text/plain": [
       "            Age  Sex  Cholesterol  Heart Rate  Diabetes  Family History  \\\n",
       "Patient ID                                                                \n",
       "BMW7812      67    1          208          72         0               0   \n",
       "CZE1114      21    1          389          98         1               1   \n",
       "BNI9906      21    0          324          72         1               0   \n",
       "JLN3497      84    1          383          73         1               1   \n",
       "GFO8847      66    1          318          93         1               1   \n",
       "\n",
       "            Smoking  Obesity  Alcohol Consumption  Exercise Hours Per Week  \\\n",
       "Patient ID                                                                   \n",
       "BMW7812           1        0                    0                     4.17   \n",
       "CZE1114           1        1                    1                     1.81   \n",
       "BNI9906           0        0                    0                     2.08   \n",
       "JLN3497           1        0                    1                     9.83   \n",
       "GFO8847           1        1                    0                     5.80   \n",
       "\n",
       "            Previous Heart Problems  Medication Use  Stress Level  \\\n",
       "Patient ID                                                          \n",
       "BMW7812                           0               0             9   \n",
       "CZE1114                           1               0             1   \n",
       "BNI9906                           1               1             9   \n",
       "JLN3497                           1               0             9   \n",
       "GFO8847                           1               0             6   \n",
       "\n",
       "            Sedentary Hours Per Day  Income    BMI  Triglycerides  \\\n",
       "Patient ID                                                          \n",
       "BMW7812                        6.62  261404  31.25            286   \n",
       "CZE1114                        4.96  285768  27.19            235   \n",
       "BNI9906                        9.46  235282  28.18            587   \n",
       "JLN3497                        7.65  125640  36.46            378   \n",
       "GFO8847                        1.51  160555  21.81            231   \n",
       "\n",
       "            Physical Activity Days Per Week  Sleep Hours Per Day  Hemisphere  \\\n",
       "Patient ID                                                                     \n",
       "BMW7812                                   0                    6           1   \n",
       "CZE1114                                   1                    7           0   \n",
       "BNI9906                                   4                    4           0   \n",
       "JLN3497                                   3                    4           0   \n",
       "GFO8847                                   1                    5           0   \n",
       "\n",
       "            Heart Attack Risk  Systolic Pressure  Diastolic Pressure  \\\n",
       "Patient ID                                                             \n",
       "BMW7812                     0                158                  88   \n",
       "CZE1114                     0                165                  93   \n",
       "BNI9906                     0                174                  99   \n",
       "JLN3497                     0                163                 100   \n",
       "GFO8847                     0                 91                  88   \n",
       "\n",
       "            Country_Argentina  Country_Australia  Country_Brazil  \\\n",
       "Patient ID                                                         \n",
       "BMW7812                     1                  0               0   \n",
       "CZE1114                     0                  0               0   \n",
       "BNI9906                     0                  0               0   \n",
       "JLN3497                     0                  0               0   \n",
       "GFO8847                     0                  0               0   \n",
       "\n",
       "            Country_Canada  Country_China  Country_Colombia  Country_France  \\\n",
       "Patient ID                                                                    \n",
       "BMW7812                  0              0                 0               0   \n",
       "CZE1114                  1              0                 0               0   \n",
       "BNI9906                  0              0                 0               1   \n",
       "JLN3497                  1              0                 0               0   \n",
       "GFO8847                  0              0                 0               0   \n",
       "\n",
       "            Country_Germany  Country_India  Country_Italy  Country_Japan  \\\n",
       "Patient ID                                                                 \n",
       "BMW7812                   0              0              0              0   \n",
       "CZE1114                   0              0              0              0   \n",
       "BNI9906                   0              0              0              0   \n",
       "JLN3497                   0              0              0              0   \n",
       "GFO8847                   0              0              0              0   \n",
       "\n",
       "            Country_New Zealand  Country_Nigeria  Country_South Africa  \\\n",
       "Patient ID                                                               \n",
       "BMW7812                       0                0                     0   \n",
       "CZE1114                       0                0                     0   \n",
       "BNI9906                       0                0                     0   \n",
       "JLN3497                       0                0                     0   \n",
       "GFO8847                       0                0                     0   \n",
       "\n",
       "            Country_South Korea  Country_Spain  Country_Thailand  \\\n",
       "Patient ID                                                         \n",
       "BMW7812                       0              0                 0   \n",
       "CZE1114                       0              0                 0   \n",
       "BNI9906                       0              0                 0   \n",
       "JLN3497                       0              0                 0   \n",
       "GFO8847                       0              0                 1   \n",
       "\n",
       "            Country_United Kingdom  Country_United States  Country_Vietnam  \\\n",
       "Patient ID                                                                   \n",
       "BMW7812                          0                      0                0   \n",
       "CZE1114                          0                      0                0   \n",
       "BNI9906                          0                      0                0   \n",
       "JLN3497                          0                      0                0   \n",
       "GFO8847                          0                      0                0   \n",
       "\n",
       "            Continent_Africa  Continent_Asia  Continent_Australia  \\\n",
       "Patient ID                                                          \n",
       "BMW7812                    0               0                    0   \n",
       "CZE1114                    0               0                    0   \n",
       "BNI9906                    0               0                    0   \n",
       "JLN3497                    0               0                    0   \n",
       "GFO8847                    0               1                    0   \n",
       "\n",
       "            Continent_Europe  Continent_North America  \\\n",
       "Patient ID                                              \n",
       "BMW7812                    0                        0   \n",
       "CZE1114                    0                        1   \n",
       "BNI9906                    1                        0   \n",
       "JLN3497                    0                        1   \n",
       "GFO8847                    0                        0   \n",
       "\n",
       "            Continent_South America  Diet_Average  Diet_Healthy  \\\n",
       "Patient ID                                                        \n",
       "BMW7812                           1             1             0   \n",
       "CZE1114                           0             0             0   \n",
       "BNI9906                           0             0             1   \n",
       "JLN3497                           0             1             0   \n",
       "GFO8847                           0             0             0   \n",
       "\n",
       "            Diet_Unhealthy  \n",
       "Patient ID                  \n",
       "BMW7812                  0  \n",
       "CZE1114                  1  \n",
       "BNI9906                  0  \n",
       "JLN3497                  0  \n",
       "GFO8847                  1  "
      ]
     },
     "execution_count": 52,
     "metadata": {},
     "output_type": "execute_result"
    }
   ],
   "source": [
    "encoded_df = pd.concat([pd_df.drop(categorical_features, axis=1), categorical_dummies], axis=1)\n",
    "encoded_df['Patient ID'] = pd_df['Patient ID']\n",
    "encoded_df = encoded_df.set_index('Patient ID')\n",
    "encoded_df[:5]"
   ]
  },
  {
   "cell_type": "code",
   "execution_count": 53,
   "id": "e44e967b-44d0-4f56-9001-3a7b1d696bd1",
   "metadata": {},
   "outputs": [
    {
     "data": {
      "text/plain": [
       "(8763, 52)"
      ]
     },
     "execution_count": 53,
     "metadata": {},
     "output_type": "execute_result"
    }
   ],
   "source": [
    "encoded_df.shape"
   ]
  },
  {
   "cell_type": "code",
   "execution_count": 54,
   "id": "b81c45f6-6fec-4ff1-90ab-ff6a82e990e2",
   "metadata": {
    "tags": []
   },
   "outputs": [
    {
     "name": "stdout",
     "output_type": "stream",
     "text": [
      "<class 'pandas.core.frame.DataFrame'>\n",
      "Index: 8763 entries, BMW7812 to ZWN9666\n",
      "Data columns (total 52 columns):\n",
      " #   Column                           Non-Null Count  Dtype  \n",
      "---  ------                           --------------  -----  \n",
      " 0   Age                              8763 non-null   int64  \n",
      " 1   Sex                              8763 non-null   int64  \n",
      " 2   Cholesterol                      8763 non-null   int64  \n",
      " 3   Heart Rate                       8763 non-null   int64  \n",
      " 4   Diabetes                         8763 non-null   int64  \n",
      " 5   Family History                   8763 non-null   int64  \n",
      " 6   Smoking                          8763 non-null   int64  \n",
      " 7   Obesity                          8763 non-null   int64  \n",
      " 8   Alcohol Consumption              8763 non-null   int64  \n",
      " 9   Exercise Hours Per Week          8763 non-null   float64\n",
      " 10  Previous Heart Problems          8763 non-null   int64  \n",
      " 11  Medication Use                   8763 non-null   int64  \n",
      " 12  Stress Level                     8763 non-null   int64  \n",
      " 13  Sedentary Hours Per Day          8763 non-null   float64\n",
      " 14  Income                           8763 non-null   int64  \n",
      " 15  BMI                              8763 non-null   float64\n",
      " 16  Triglycerides                    8763 non-null   int64  \n",
      " 17  Physical Activity Days Per Week  8763 non-null   int64  \n",
      " 18  Sleep Hours Per Day              8763 non-null   int64  \n",
      " 19  Hemisphere                       8763 non-null   int64  \n",
      " 20  Heart Attack Risk                8763 non-null   int64  \n",
      " 21  Systolic Pressure                8763 non-null   int64  \n",
      " 22  Diastolic Pressure               8763 non-null   int64  \n",
      " 23  Country_Argentina                8763 non-null   uint8  \n",
      " 24  Country_Australia                8763 non-null   uint8  \n",
      " 25  Country_Brazil                   8763 non-null   uint8  \n",
      " 26  Country_Canada                   8763 non-null   uint8  \n",
      " 27  Country_China                    8763 non-null   uint8  \n",
      " 28  Country_Colombia                 8763 non-null   uint8  \n",
      " 29  Country_France                   8763 non-null   uint8  \n",
      " 30  Country_Germany                  8763 non-null   uint8  \n",
      " 31  Country_India                    8763 non-null   uint8  \n",
      " 32  Country_Italy                    8763 non-null   uint8  \n",
      " 33  Country_Japan                    8763 non-null   uint8  \n",
      " 34  Country_New Zealand              8763 non-null   uint8  \n",
      " 35  Country_Nigeria                  8763 non-null   uint8  \n",
      " 36  Country_South Africa             8763 non-null   uint8  \n",
      " 37  Country_South Korea              8763 non-null   uint8  \n",
      " 38  Country_Spain                    8763 non-null   uint8  \n",
      " 39  Country_Thailand                 8763 non-null   uint8  \n",
      " 40  Country_United Kingdom           8763 non-null   uint8  \n",
      " 41  Country_United States            8763 non-null   uint8  \n",
      " 42  Country_Vietnam                  8763 non-null   uint8  \n",
      " 43  Continent_Africa                 8763 non-null   uint8  \n",
      " 44  Continent_Asia                   8763 non-null   uint8  \n",
      " 45  Continent_Australia              8763 non-null   uint8  \n",
      " 46  Continent_Europe                 8763 non-null   uint8  \n",
      " 47  Continent_North America          8763 non-null   uint8  \n",
      " 48  Continent_South America          8763 non-null   uint8  \n",
      " 49  Diet_Average                     8763 non-null   uint8  \n",
      " 50  Diet_Healthy                     8763 non-null   uint8  \n",
      " 51  Diet_Unhealthy                   8763 non-null   uint8  \n",
      "dtypes: float64(3), int64(20), uint8(29)\n",
      "memory usage: 1.8+ MB\n"
     ]
    }
   ],
   "source": [
    "encoded_df.info()"
   ]
  },
  {
   "cell_type": "code",
   "execution_count": 55,
   "id": "1692c3a0-7df5-4643-a980-9b3e64e47d06",
   "metadata": {
    "tags": []
   },
   "outputs": [
    {
     "name": "stdout",
     "output_type": "stream",
     "text": [
      "Age                                  int64\n",
      "Sex                                  int64\n",
      "Cholesterol                          int64\n",
      "Heart Rate                           int64\n",
      "Diabetes                             int64\n",
      "Family History                       int64\n",
      "Smoking                              int64\n",
      "Obesity                              int64\n",
      "Alcohol Consumption                  int64\n",
      "Exercise Hours Per Week            float64\n",
      "Previous Heart Problems              int64\n",
      "Medication Use                       int64\n",
      "Stress Level                         int64\n",
      "Sedentary Hours Per Day            float64\n",
      "Income                               int64\n",
      "BMI                                float64\n",
      "Triglycerides                        int64\n",
      "Physical Activity Days Per Week      int64\n",
      "Sleep Hours Per Day                  int64\n",
      "Hemisphere                           int64\n",
      "Heart Attack Risk                    int64\n",
      "Systolic Pressure                    int64\n",
      "Diastolic Pressure                   int64\n",
      "Country_Argentina                    uint8\n",
      "Country_Australia                    uint8\n",
      "Country_Brazil                       uint8\n",
      "Country_Canada                       uint8\n",
      "Country_China                        uint8\n",
      "Country_Colombia                     uint8\n",
      "Country_France                       uint8\n",
      "Country_Germany                      uint8\n",
      "Country_India                        uint8\n",
      "Country_Italy                        uint8\n",
      "Country_Japan                        uint8\n",
      "Country_New Zealand                  uint8\n",
      "Country_Nigeria                      uint8\n",
      "Country_South Africa                 uint8\n",
      "Country_South Korea                  uint8\n",
      "Country_Spain                        uint8\n",
      "Country_Thailand                     uint8\n",
      "Country_United Kingdom               uint8\n",
      "Country_United States                uint8\n",
      "Country_Vietnam                      uint8\n",
      "Continent_Africa                     uint8\n",
      "Continent_Asia                       uint8\n",
      "Continent_Australia                  uint8\n",
      "Continent_Europe                     uint8\n",
      "Continent_North America              uint8\n",
      "Continent_South America              uint8\n",
      "Diet_Average                         uint8\n",
      "Diet_Healthy                         uint8\n",
      "Diet_Unhealthy                       uint8\n",
      "dtype: object\n"
     ]
    }
   ],
   "source": [
    "# Convert columns to appropriate data types\n",
    "encoded_df['Age'] = encoded_df['Age'].astype(int)\n",
    "encoded_df['Cholesterol'] = encoded_df['Cholesterol'].astype(int)\n",
    "encoded_df['Heart Rate'] = encoded_df['Heart Rate'].astype(int)\n",
    "encoded_df['Diabetes'] = encoded_df['Diabetes'].astype(int)\n",
    "encoded_df['Family History'] = encoded_df['Family History'].astype(int)\n",
    "encoded_df['Smoking'] = encoded_df['Smoking'].astype(int)\n",
    "encoded_df['Obesity'] = encoded_df['Obesity'].astype(int)\n",
    "encoded_df['Alcohol Consumption'] = encoded_df['Alcohol Consumption'].astype(int)\n",
    "encoded_df['Exercise Hours Per Week'] = encoded_df['Exercise Hours Per Week'].astype(float)\n",
    "encoded_df['Previous Heart Problems'] = encoded_df['Previous Heart Problems'].astype(int)\n",
    "encoded_df['Medication Use'] = encoded_df['Medication Use'].astype(int)\n",
    "encoded_df['Stress Level'] = encoded_df['Stress Level'].astype(int)\n",
    "encoded_df['Sedentary Hours Per Day'] = encoded_df['Sedentary Hours Per Day'].astype(float)\n",
    "encoded_df['Income'] = encoded_df['Income'].astype(int)\n",
    "encoded_df['BMI'] = encoded_df['BMI'].astype(float)\n",
    "encoded_df['Triglycerides'] = encoded_df['Triglycerides'].astype(int)\n",
    "encoded_df['Physical Activity Days Per Week'] = encoded_df['Physical Activity Days Per Week'].astype(int)\n",
    "encoded_df['Sleep Hours Per Day'] = encoded_df['Sleep Hours Per Day'].astype(int)\n",
    "encoded_df['Heart Attack Risk'] = encoded_df['Heart Attack Risk'].astype(int)\n",
    "\n",
    "# Print the data types of all columns\n",
    "print(encoded_df.dtypes)\n"
   ]
  },
  {
   "cell_type": "code",
   "execution_count": 56,
   "id": "e3ac66cf",
   "metadata": {},
   "outputs": [
    {
     "data": {
      "image/png": "[encoded data removed]",
      "text/plain": [
       "<Figure size 1200x1000 with 2 Axes>"
      ]
     },
     "metadata": {},
     "output_type": "display_data"
    }
   ],
   "source": [
    "# Compute the correlation matrix\n",
    "correlation_matrix = encoded_df.corr()\n",
    "\n",
    "import seaborn as sns\n",
    "import matplotlib.pyplot as plt\n",
    "\n",
    "# Visualize it using a heatmap\n",
    "plt.figure(figsize=(12, 10))\n",
    "sns.heatmap(correlation_matrix[['Heart Attack Risk']], annot=True, cmap='coolwarm', fmt=\".2f\")\n",
    "plt.title(\"Correlation with Heart Attack Risk\")\n",
    "plt.show()\n"
   ]
  },
  {
   "cell_type": "code",
   "execution_count": 57,
   "id": "42369b0d-8e64-4bb6-bd7e-4975bd0cb058",
   "metadata": {
    "tags": []
   },
   "outputs": [
    {
     "data": {
      "text/plain": [
       "Index(['Age', 'Sex', 'Cholesterol', 'Heart Rate', 'Diabetes', 'Family History',\n",
       "       'Smoking', 'Obesity', 'Alcohol Consumption', 'Exercise Hours Per Week',\n",
       "       'Previous Heart Problems', 'Medication Use', 'Stress Level',\n",
       "       'Sedentary Hours Per Day', 'Income', 'BMI', 'Triglycerides',\n",
       "       'Physical Activity Days Per Week', 'Sleep Hours Per Day', 'Hemisphere',\n",
       "       'Heart Attack Risk', 'Systolic Pressure', 'Diastolic Pressure',\n",
       "       'Country_Argentina', 'Country_Australia', 'Country_Brazil',\n",
       "       'Country_Canada', 'Country_China', 'Country_Colombia', 'Country_France',\n",
       "       'Country_Germany', 'Country_India', 'Country_Italy', 'Country_Japan',\n",
       "       'Country_New Zealand', 'Country_Nigeria', 'Country_South Africa',\n",
       "       'Country_South Korea', 'Country_Spain', 'Country_Thailand',\n",
       "       'Country_United Kingdom', 'Country_United States', 'Country_Vietnam',\n",
       "       'Continent_Africa', 'Continent_Asia', 'Continent_Australia',\n",
       "       'Continent_Europe', 'Continent_North America',\n",
       "       'Continent_South America', 'Diet_Average', 'Diet_Healthy',\n",
       "       'Diet_Unhealthy'],\n",
       "      dtype='object')"
      ]
     },
     "execution_count": 57,
     "metadata": {},
     "output_type": "execute_result"
    }
   ],
   "source": [
    "encoded_df.columns"
   ]
  },
  {
   "cell_type": "code",
   "execution_count": 58,
   "id": "674fc5a4-602d-4a7e-be3b-05cbe2fdc420",
   "metadata": {
    "tags": []
   },
   "outputs": [],
   "source": [
    "# Save encoded_df as a JSON file with records orientation\n",
    "encoded_df.to_json(\"https://aws-project-4.s3.ca-central-1.amazonaws.com/encoded_df.json\")"
   ]
  },
  {
   "cell_type": "markdown",
   "id": "0549cfcb",
   "metadata": {},
   "source": [
    "# Separate features and target variable"
   ]
  },
  {
   "cell_type": "code",
   "execution_count": 59,
   "id": "251b2255",
   "metadata": {
    "tags": []
   },
   "outputs": [],
   "source": [
    "X = encoded_df.drop(['Exercise Hours Per Week',\n",
    "     'Stress Level',\n",
    "       'Sedentary Hours Per Day', 'Income', \n",
    "       'Physical Activity Days Per Week', 'Sleep Hours Per Day', 'Hemisphere',\n",
    "       'Heart Attack Risk',\n",
    "       'Country_Argentina', 'Country_Australia', 'Country_Brazil',\n",
    "       'Country_Canada', 'Country_China', 'Country_Colombia', 'Country_France',\n",
    "       'Country_Germany', 'Country_India', 'Country_Italy', 'Country_Japan',\n",
    "       'Country_New Zealand', 'Country_Nigeria', 'Country_South Africa',\n",
    "       'Country_South Korea', 'Country_Spain', 'Country_Thailand',\n",
    "       'Country_United Kingdom', 'Country_United States', 'Country_Vietnam',\n",
    "       'Continent_Africa', 'Continent_Asia', 'Continent_Australia',\n",
    "       'Continent_Europe', 'Continent_North America',\n",
    "       'Continent_South America', 'Diet_Average', 'Diet_Healthy',\n",
    "       'Diet_Unhealthy'], axis=1)\n",
    "y = encoded_df['Heart Attack Risk']"
   ]
  },
  {
   "cell_type": "markdown",
   "id": "8060bdfa",
   "metadata": {},
   "source": [
    "# Split the data into training and testing sets"
   ]
  },
  {
   "cell_type": "code",
   "execution_count": 60,
   "id": "2b8a87ce",
   "metadata": {
    "tags": []
   },
   "outputs": [],
   "source": [
    "X_train, X_test, y_train, y_test = train_test_split(X, y, test_size=0.2, random_state=42)"
   ]
  },
  {
   "cell_type": "code",
   "execution_count": 61,
   "id": "193ed101",
   "metadata": {},
   "outputs": [],
   "source": [
    "# Creating StandardScaler instance\n",
    "scaler = StandardScaler()"
   ]
  },
  {
   "cell_type": "code",
   "execution_count": 62,
   "id": "607960e8",
   "metadata": {},
   "outputs": [],
   "source": [
    "# Fitting Standard Scaller\n",
    "X_scaler = scaler.fit(X_train)"
   ]
  },
  {
   "cell_type": "code",
   "execution_count": 63,
   "id": "b670e0b1",
   "metadata": {},
   "outputs": [],
   "source": [
    "# Scaling data\n",
    "X_train_scaled = X_scaler.transform(X_train)\n",
    "X_test_scaled = X_scaler.transform(X_test)"
   ]
  },
  {
   "cell_type": "code",
   "execution_count": 64,
   "id": "f61c8d53-9d32-4c52-b5d2-3e466adb6a44",
   "metadata": {},
   "outputs": [],
   "source": [
    "# Create a random forest classifier\n",
    "rf_model = RandomForestClassifier(n_estimators=300, random_state=78)"
   ]
  },
  {
   "cell_type": "code",
   "execution_count": 65,
   "id": "6e31f49b",
   "metadata": {},
   "outputs": [],
   "source": [
    "# Fit the model and use .ravel()on the \"y_train\" data. \n",
    "rf_model = rf_model.fit(X_train_scaled, y_train)"
   ]
  },
  {
   "cell_type": "code",
   "execution_count": 66,
   "id": "bac213f1-5c3b-46f0-8012-b07170849d24",
   "metadata": {},
   "outputs": [],
   "source": [
    "# Making predictions using the testing data\n",
    "rf_predictions = rf_model.predict(X_test_scaled)"
   ]
  },
  {
   "cell_type": "code",
   "execution_count": 67,
   "id": "af3ead17-d1bd-4ff0-8d40-9d9b5031539a",
   "metadata": {
    "tags": []
   },
   "outputs": [
    {
     "name": "stdout",
     "output_type": "stream",
     "text": [
      "Training Data Score: 1.0\n",
      "Testing Data Score: 0.6280661722760981\n"
     ]
    }
   ],
   "source": [
    "print(f\"Training Data Score: {rf_model.score(X_train_scaled, y_train)}\")\n",
    "print(f\"Testing Data Score: {rf_model.score(X_test_scaled, y_test)}\")"
   ]
  },
  {
   "cell_type": "code",
   "execution_count": 68,
   "id": "db9108fc-5ea1-4377-9f75-95da6c31e40c",
   "metadata": {},
   "outputs": [],
   "source": [
    "# Calculating the confusion matrix\n",
    "cm = confusion_matrix(y_test, rf_predictions)\n",
    "cm_df = pd.DataFrame(\n",
    "    cm, index=[\"Actual 0\", \"Actual 1\"], columns=[\"Predicted 0\", \"Predicted 1\"]\n",
    ")\n",
    "\n",
    "# Calculating the accuracy score\n",
    "acc_score = accuracy_score(y_test, rf_predictions)"
   ]
  },
  {
   "cell_type": "code",
   "execution_count": 69,
   "id": "d5921f81-4cae-44d7-97d7-48366409471e",
   "metadata": {
    "tags": []
   },
   "outputs": [
    {
     "name": "stdout",
     "output_type": "stream",
     "text": [
      "Confusion Matrix\n"
     ]
    },
    {
     "data": {
      "text/html": [
       "<div>\n",
       "<style scoped>\n",
       "    .dataframe tbody tr th:only-of-type {\n",
       "        vertical-align: middle;\n",
       "    }\n",
       "\n",
       "    .dataframe tbody tr th {\n",
       "        vertical-align: top;\n",
       "    }\n",
       "\n",
       "    .dataframe thead th {\n",
       "        text-align: right;\n",
       "    }\n",
       "</style>\n",
       "<table border=\"1\" class=\"dataframe\">\n",
       "  <thead>\n",
       "    <tr style=\"text-align: right;\">\n",
       "      <th></th>\n",
       "      <th>Predicted 0</th>\n",
       "      <th>Predicted 1</th>\n",
       "    </tr>\n",
       "  </thead>\n",
       "  <tbody>\n",
       "    <tr>\n",
       "      <th>Actual 0</th>\n",
       "      <td>1090</td>\n",
       "      <td>35</td>\n",
       "    </tr>\n",
       "    <tr>\n",
       "      <th>Actual 1</th>\n",
       "      <td>617</td>\n",
       "      <td>11</td>\n",
       "    </tr>\n",
       "  </tbody>\n",
       "</table>\n",
       "</div>"
      ],
      "text/plain": [
       "          Predicted 0  Predicted 1\n",
       "Actual 0         1090           35\n",
       "Actual 1          617           11"
      ]
     },
     "metadata": {},
     "output_type": "display_data"
    },
    {
     "name": "stdout",
     "output_type": "stream",
     "text": [
      "Accuracy Score : 0.6280661722760981\n",
      "Classification Report\n",
      "              precision    recall  f1-score   support\n",
      "\n",
      "           0       0.64      0.97      0.77      1125\n",
      "           1       0.24      0.02      0.03       628\n",
      "\n",
      "    accuracy                           0.63      1753\n",
      "   macro avg       0.44      0.49      0.40      1753\n",
      "weighted avg       0.50      0.63      0.51      1753\n",
      "\n"
     ]
    }
   ],
   "source": [
    "# Displaying results\n",
    "print(\"Confusion Matrix\")\n",
    "display(cm_df)\n",
    "print(f\"Accuracy Score : {acc_score}\")\n",
    "print(\"Classification Report\")\n",
    "print(classification_report(y_test, rf_predictions))"
   ]
  },
  {
   "cell_type": "code",
   "execution_count": 70,
   "id": "3e06dd6f",
   "metadata": {
    "tags": []
   },
   "outputs": [
    {
     "name": "stdout",
     "output_type": "stream",
     "text": [
      "Top 10 most important features:\n",
      "[(0.13664973096325633, 'BMI'),\n",
      " (0.1321089192820995, 'Triglycerides'),\n",
      " (0.1296970617175235, 'Cholesterol'),\n",
      " (0.12088277645102209, 'Systolic Pressure'),\n",
      " (0.11658911091247082, 'Age'),\n",
      " (0.11602031049161496, 'Heart Rate'),\n",
      " (0.11052030388867727, 'Diastolic Pressure'),\n",
      " (0.020187810862671837, 'Previous Heart Problems'),\n",
      " (0.02002846328353375, 'Medication Use'),\n",
      " (0.01963319871353625, 'Alcohol Consumption')]\n"
     ]
    }
   ],
   "source": [
    "# Get the feature importance array\n",
    "importances = rf_model.feature_importances_\n",
    "\n",
    "# List the top 10 most important features\n",
    "importances_top_10 = sorted(zip(importances, X.columns), reverse=True)[:10]\n",
    "print(\"Top 10 most important features:\")\n",
    "pprint(importances_top_10)"
   ]
  },
  {
   "cell_type": "markdown",
   "id": "84f2426b",
   "metadata": {},
   "source": [
    "# KNN model"
   ]
  },
  {
   "cell_type": "code",
   "execution_count": 71,
   "id": "fc6ed925-afaf-485f-9d40-cc0c41f9fccf",
   "metadata": {},
   "outputs": [],
   "source": [
    "X = encoded_df.drop(['Exercise Hours Per Week',\n",
    "     'Stress Level',\n",
    "       'Sedentary Hours Per Day', 'Income', \n",
    "       'Physical Activity Days Per Week', 'Sleep Hours Per Day', 'Hemisphere',\n",
    "       'Heart Attack Risk',\n",
    "       'Country_Argentina', 'Country_Australia', 'Country_Brazil',\n",
    "       'Country_Canada', 'Country_China', 'Country_Colombia', 'Country_France',\n",
    "       'Country_Germany', 'Country_India', 'Country_Italy', 'Country_Japan',\n",
    "       'Country_New Zealand', 'Country_Nigeria', 'Country_South Africa',\n",
    "       'Country_South Korea', 'Country_Spain', 'Country_Thailand',\n",
    "       'Country_United Kingdom', 'Country_United States', 'Country_Vietnam',\n",
    "       'Continent_Africa', 'Continent_Asia', 'Continent_Australia',\n",
    "       'Continent_Europe', 'Continent_North America',\n",
    "       'Continent_South America', 'Diet_Average', 'Diet_Healthy',\n",
    "       'Diet_Unhealthy'], axis=1)\n",
    "y = encoded_df['Heart Attack Risk']"
   ]
  },
  {
   "cell_type": "code",
   "execution_count": 72,
   "id": "8922d210-1461-4d5c-8998-3684ae9efab6",
   "metadata": {},
   "outputs": [],
   "source": [
    "X_train, X_test, y_train, y_test = train_test_split(X, y, test_size=0.2, random_state=42)"
   ]
  },
  {
   "cell_type": "code",
   "execution_count": 73,
   "id": "066e7069-e70e-45c3-a1b5-95453cf28c7b",
   "metadata": {},
   "outputs": [],
   "source": [
    "# Creating StandardScaler instance\n",
    "scaler = StandardScaler()"
   ]
  },
  {
   "cell_type": "code",
   "execution_count": 74,
   "id": "9a6bcb7e-1ad7-458d-b204-77e6752e2ce3",
   "metadata": {},
   "outputs": [],
   "source": [
    "# Fitting Standard Scaller\n",
    "X_scaler = scaler.fit(X_train)"
   ]
  },
  {
   "cell_type": "code",
   "execution_count": 75,
   "id": "9038f4fa-0afe-49af-8a10-66c60509003d",
   "metadata": {},
   "outputs": [],
   "source": [
    "# Scaling data\n",
    "X_train_scaled = X_scaler.transform(X_train)\n",
    "X_test_scaled = X_scaler.transform(X_test)"
   ]
  },
  {
   "cell_type": "code",
   "execution_count": 76,
   "id": "11c75153-328b-4b6e-bcdf-d2a54f76c121",
   "metadata": {},
   "outputs": [],
   "source": [
    "from sklearn.neighbors import KNeighborsClassifier\n",
    "# Instantiate the model with k = 3 neighbors\n",
    "knn_model = KNeighborsClassifier(n_neighbors=50)\n",
    "\n",
    "# Train the model\n",
    "knn_model.fit(X_train_scaled, y_train)\n",
    "# Create predictions\n",
    "knn_y_pred = knn_model.predict(X_test_scaled)"
   ]
  },
  {
   "cell_type": "code",
   "execution_count": 77,
   "id": "0fe5cd83-b400-484a-8611-02ffa980e651",
   "metadata": {
    "tags": []
   },
   "outputs": [
    {
     "name": "stdout",
     "output_type": "stream",
     "text": [
      "Training Data Score: 0.6412268188302425\n",
      "Testing Data Score: 0.6400456360524814\n"
     ]
    }
   ],
   "source": [
    "print(f\"Training Data Score: {knn_model.score(X_train_scaled, y_train)}\")\n",
    "print(f\"Testing Data Score: {knn_model.score(X_test_scaled, y_test)}\")"
   ]
  },
  {
   "cell_type": "code",
   "execution_count": 78,
   "id": "c2f66349-3899-4a32-b23b-e1a3334378a7",
   "metadata": {},
   "outputs": [],
   "source": [
    "# Calculating the confusion matrix\n",
    "cm = confusion_matrix(y_test, knn_y_pred)\n",
    "cm_df = pd.DataFrame(\n",
    "    cm, index=[\"Actual 0\", \"Actual 1\"], columns=[\"Predicted 0\", \"Predicted 1\"]\n",
    ")\n",
    "\n",
    "# Calculating the accuracy score\n",
    "acc_score = accuracy_score(y_test, knn_y_pred)"
   ]
  },
  {
   "cell_type": "code",
   "execution_count": 79,
   "id": "77ce282e-18bf-4b04-b055-f60e943f161e",
   "metadata": {},
   "outputs": [
    {
     "name": "stdout",
     "output_type": "stream",
     "text": [
      "Confusion Matrix\n"
     ]
    },
    {
     "data": {
      "text/html": [
       "<div>\n",
       "<style scoped>\n",
       "    .dataframe tbody tr th:only-of-type {\n",
       "        vertical-align: middle;\n",
       "    }\n",
       "\n",
       "    .dataframe tbody tr th {\n",
       "        vertical-align: top;\n",
       "    }\n",
       "\n",
       "    .dataframe thead th {\n",
       "        text-align: right;\n",
       "    }\n",
       "</style>\n",
       "<table border=\"1\" class=\"dataframe\">\n",
       "  <thead>\n",
       "    <tr style=\"text-align: right;\">\n",
       "      <th></th>\n",
       "      <th>Predicted 0</th>\n",
       "      <th>Predicted 1</th>\n",
       "    </tr>\n",
       "  </thead>\n",
       "  <tbody>\n",
       "    <tr>\n",
       "      <th>Actual 0</th>\n",
       "      <td>1116</td>\n",
       "      <td>9</td>\n",
       "    </tr>\n",
       "    <tr>\n",
       "      <th>Actual 1</th>\n",
       "      <td>622</td>\n",
       "      <td>6</td>\n",
       "    </tr>\n",
       "  </tbody>\n",
       "</table>\n",
       "</div>"
      ],
      "text/plain": [
       "          Predicted 0  Predicted 1\n",
       "Actual 0         1116            9\n",
       "Actual 1          622            6"
      ]
     },
     "metadata": {},
     "output_type": "display_data"
    },
    {
     "name": "stdout",
     "output_type": "stream",
     "text": [
      "Accuracy Score : 0.6400456360524814\n",
      "Classification Report\n",
      "              precision    recall  f1-score   support\n",
      "\n",
      "           0       0.64      0.99      0.78      1125\n",
      "           1       0.40      0.01      0.02       628\n",
      "\n",
      "    accuracy                           0.64      1753\n",
      "   macro avg       0.52      0.50      0.40      1753\n",
      "weighted avg       0.56      0.64      0.51      1753\n",
      "\n"
     ]
    }
   ],
   "source": [
    "# Displaying results\n",
    "print(\"Confusion Matrix\")\n",
    "display(cm_df)\n",
    "print(f\"Accuracy Score : {acc_score}\")\n",
    "print(\"Classification Report\")\n",
    "print(classification_report(y_test,  knn_y_pred))"
   ]
  },
  {
   "cell_type": "markdown",
   "id": "380964dc",
   "metadata": {},
   "source": [
    "# SVC model"
   ]
  },
  {
   "cell_type": "code",
   "execution_count": 80,
   "id": "579ca19e-4f2b-4940-bdc8-df826699fedb",
   "metadata": {},
   "outputs": [],
   "source": [
    "X = encoded_df.drop(['Exercise Hours Per Week',\n",
    "     'Stress Level',\n",
    "       'Sedentary Hours Per Day', 'Income', \n",
    "       'Physical Activity Days Per Week', 'Sleep Hours Per Day', 'Hemisphere',\n",
    "       'Heart Attack Risk',\n",
    "       'Country_Argentina', 'Country_Australia', 'Country_Brazil',\n",
    "       'Country_Canada', 'Country_China', 'Country_Colombia', 'Country_France',\n",
    "       'Country_Germany', 'Country_India', 'Country_Italy', 'Country_Japan',\n",
    "       'Country_New Zealand', 'Country_Nigeria', 'Country_South Africa',\n",
    "       'Country_South Korea', 'Country_Spain', 'Country_Thailand',\n",
    "       'Country_United Kingdom', 'Country_United States', 'Country_Vietnam',\n",
    "       'Continent_Africa', 'Continent_Asia', 'Continent_Australia',\n",
    "       'Continent_Europe', 'Continent_North America',\n",
    "       'Continent_South America', 'Diet_Average', 'Diet_Healthy',\n",
    "       'Diet_Unhealthy'], axis=1)\n",
    "y = encoded_df['Heart Attack Risk']"
   ]
  },
  {
   "cell_type": "code",
   "execution_count": 81,
   "id": "8e9a8ded-b84f-4535-8e2e-e02b2eca176d",
   "metadata": {},
   "outputs": [],
   "source": [
    "X_train, X_test, y_train, y_test = train_test_split(X, y, test_size=0.2, random_state=42)"
   ]
  },
  {
   "cell_type": "code",
   "execution_count": 82,
   "id": "58462cc6-8d3e-457b-bb3b-6f003bf9bebe",
   "metadata": {},
   "outputs": [
    {
     "data": {
      "text/html": [
       "<style>#sk-container-id-1 {color: black;}#sk-container-id-1 pre{padding: 0;}#sk-container-id-1 div.sk-toggleable {background-color: white;}#sk-container-id-1 label.sk-toggleable__label {cursor: pointer;display: block;width: 100%;margin-bottom: 0;padding: 0.3em;box-sizing: border-box;text-align: center;}#sk-container-id-1 label.sk-toggleable__label-arrow:before {content: \"▸\";float: left;margin-right: 0.25em;color: #696969;}#sk-container-id-1 label.sk-toggleable__label-arrow:hover:before {color: black;}#sk-container-id-1 div.sk-estimator:hover label.sk-toggleable__label-arrow:before {color: black;}#sk-container-id-1 div.sk-toggleable__content {max-height: 0;max-width: 0;overflow: hidden;text-align: left;background-color: #f0f8ff;}#sk-container-id-1 div.sk-toggleable__content pre {margin: 0.2em;color: black;border-radius: 0.25em;background-color: #f0f8ff;}#sk-container-id-1 input.sk-toggleable__control:checked~div.sk-toggleable__content {max-height: 200px;max-width: 100%;overflow: auto;}#sk-container-id-1 input.sk-toggleable__control:checked~label.sk-toggleable__label-arrow:before {content: \"▾\";}#sk-container-id-1 div.sk-estimator input.sk-toggleable__control:checked~label.sk-toggleable__label {background-color: #d4ebff;}#sk-container-id-1 div.sk-label input.sk-toggleable__control:checked~label.sk-toggleable__label {background-color: #d4ebff;}#sk-container-id-1 input.sk-hidden--visually {border: 0;clip: rect(1px 1px 1px 1px);clip: rect(1px, 1px, 1px, 1px);height: 1px;margin: -1px;overflow: hidden;padding: 0;position: absolute;width: 1px;}#sk-container-id-1 div.sk-estimator {font-family: monospace;background-color: #f0f8ff;border: 1px dotted black;border-radius: 0.25em;box-sizing: border-box;margin-bottom: 0.5em;}#sk-container-id-1 div.sk-estimator:hover {background-color: #d4ebff;}#sk-container-id-1 div.sk-parallel-item::after {content: \"\";width: 100%;border-bottom: 1px solid gray;flex-grow: 1;}#sk-container-id-1 div.sk-label:hover label.sk-toggleable__label {background-color: #d4ebff;}#sk-container-id-1 div.sk-serial::before {content: \"\";position: absolute;border-left: 1px solid gray;box-sizing: border-box;top: 0;bottom: 0;left: 50%;z-index: 0;}#sk-container-id-1 div.sk-serial {display: flex;flex-direction: column;align-items: center;background-color: white;padding-right: 0.2em;padding-left: 0.2em;position: relative;}#sk-container-id-1 div.sk-item {position: relative;z-index: 1;}#sk-container-id-1 div.sk-parallel {display: flex;align-items: stretch;justify-content: center;background-color: white;position: relative;}#sk-container-id-1 div.sk-item::before, #sk-container-id-1 div.sk-parallel-item::before {content: \"\";position: absolute;border-left: 1px solid gray;box-sizing: border-box;top: 0;bottom: 0;left: 50%;z-index: -1;}#sk-container-id-1 div.sk-parallel-item {display: flex;flex-direction: column;z-index: 1;position: relative;background-color: white;}#sk-container-id-1 div.sk-parallel-item:first-child::after {align-self: flex-end;width: 50%;}#sk-container-id-1 div.sk-parallel-item:last-child::after {align-self: flex-start;width: 50%;}#sk-container-id-1 div.sk-parallel-item:only-child::after {width: 0;}#sk-container-id-1 div.sk-dashed-wrapped {border: 1px dashed gray;margin: 0 0.4em 0.5em 0.4em;box-sizing: border-box;padding-bottom: 0.4em;background-color: white;}#sk-container-id-1 div.sk-label label {font-family: monospace;font-weight: bold;display: inline-block;line-height: 1.2em;}#sk-container-id-1 div.sk-label-container {text-align: center;}#sk-container-id-1 div.sk-container {/* jupyter's `normalize.less` sets `[hidden] { display: none; }` but bootstrap.min.css set `[hidden] { display: none !important; }` so we also need the `!important` here to be able to override the default hidden behavior on the sphinx rendered scikit-learn.org. See: https://github.com/scikit-learn/scikit-learn/issues/21755 */display: inline-block !important;position: relative;}#sk-container-id-1 div.sk-text-repr-fallback {display: none;}</style><div id=\"sk-container-id-1\" class=\"sk-top-container\"><div class=\"sk-text-repr-fallback\"><pre>SVC(kernel=&#x27;linear&#x27;)</pre><b>In a Jupyter environment, please rerun this cell to show the HTML representation or trust the notebook. <br />On GitHub, the HTML representation is unable to render, please try loading this page with nbviewer.org.</b></div><div class=\"sk-container\" hidden><div class=\"sk-item\"><div class=\"sk-estimator sk-toggleable\"><input class=\"sk-toggleable__control sk-hidden--visually\" id=\"sk-estimator-id-1\" type=\"checkbox\" checked><label for=\"sk-estimator-id-1\" class=\"sk-toggleable__label sk-toggleable__label-arrow\">SVC</label><div class=\"sk-toggleable__content\"><pre>SVC(kernel=&#x27;linear&#x27;)</pre></div></div></div></div></div>"
      ],
      "text/plain": [
       "SVC(kernel='linear')"
      ]
     },
     "execution_count": 82,
     "metadata": {},
     "output_type": "execute_result"
    }
   ],
   "source": [
    "from sklearn.svm import SVC \n",
    "SVC_model = SVC(kernel='linear')\n",
    "SVC_model.fit(X_train, y_train)"
   ]
  },
  {
   "cell_type": "code",
   "execution_count": 83,
   "id": "5307e569-a7e0-4011-ace5-c710a0b8a1d3",
   "metadata": {
    "tags": []
   },
   "outputs": [],
   "source": [
    "SVC_predictions = SVC_model.predict(X_test)"
   ]
  },
  {
   "cell_type": "code",
   "execution_count": 84,
   "id": "dd492c4c-9394-4d8a-b59f-dbf9801629a3",
   "metadata": {
    "tags": []
   },
   "outputs": [
    {
     "name": "stdout",
     "output_type": "stream",
     "text": [
      "Training Data Score: 0.6417974322396577\n",
      "Testing Data Score: 0.6417569880205363\n"
     ]
    }
   ],
   "source": [
    "print(f\"Training Data Score: {SVC_model.score(X_train, y_train)}\")\n",
    "print(f\"Testing Data Score: {SVC_model.score(X_test, y_test)}\")"
   ]
  },
  {
   "cell_type": "code",
   "execution_count": 85,
   "id": "90e2f0e2-8888-40ce-9704-3ae4aa184ec8",
   "metadata": {
    "tags": []
   },
   "outputs": [],
   "source": [
    "# Calculating the confusion matrix\n",
    "cm = confusion_matrix(y_test, SVC_predictions)\n",
    "cm_df = pd.DataFrame(\n",
    "    cm, index=[\"Actual 0\", \"Actual 1\"], columns=[\"Predicted 0\", \"Predicted 1\"]\n",
    ")\n",
    "\n",
    "# Calculating the accuracy score\n",
    "acc_score = accuracy_score(y_test, SVC_predictions)"
   ]
  },
  {
   "cell_type": "code",
   "execution_count": 86,
   "id": "c5f00ef2-3342-4910-951a-25703b36d7f5",
   "metadata": {
    "tags": []
   },
   "outputs": [
    {
     "name": "stdout",
     "output_type": "stream",
     "text": [
      "Confusion Matrix\n"
     ]
    },
    {
     "data": {
      "text/html": [
       "<div>\n",
       "<style scoped>\n",
       "    .dataframe tbody tr th:only-of-type {\n",
       "        vertical-align: middle;\n",
       "    }\n",
       "\n",
       "    .dataframe tbody tr th {\n",
       "        vertical-align: top;\n",
       "    }\n",
       "\n",
       "    .dataframe thead th {\n",
       "        text-align: right;\n",
       "    }\n",
       "</style>\n",
       "<table border=\"1\" class=\"dataframe\">\n",
       "  <thead>\n",
       "    <tr style=\"text-align: right;\">\n",
       "      <th></th>\n",
       "      <th>Predicted 0</th>\n",
       "      <th>Predicted 1</th>\n",
       "    </tr>\n",
       "  </thead>\n",
       "  <tbody>\n",
       "    <tr>\n",
       "      <th>Actual 0</th>\n",
       "      <td>1125</td>\n",
       "      <td>0</td>\n",
       "    </tr>\n",
       "    <tr>\n",
       "      <th>Actual 1</th>\n",
       "      <td>628</td>\n",
       "      <td>0</td>\n",
       "    </tr>\n",
       "  </tbody>\n",
       "</table>\n",
       "</div>"
      ],
      "text/plain": [
       "          Predicted 0  Predicted 1\n",
       "Actual 0         1125            0\n",
       "Actual 1          628            0"
      ]
     },
     "metadata": {},
     "output_type": "display_data"
    },
    {
     "name": "stdout",
     "output_type": "stream",
     "text": [
      "Accuracy Score : 0.6417569880205363\n",
      "Classification Report\n",
      "              precision    recall  f1-score   support\n",
      "\n",
      "           0       0.64      1.00      0.78      1125\n",
      "           1       0.00      0.00      0.00       628\n",
      "\n",
      "    accuracy                           0.64      1753\n",
      "   macro avg       0.32      0.50      0.39      1753\n",
      "weighted avg       0.41      0.64      0.50      1753\n",
      "\n"
     ]
    },
    {
     "name": "stderr",
     "output_type": "stream",
     "text": [
      "/home/ec2-user/anaconda3/envs/tensorflow2_p310/lib/python3.10/site-packages/sklearn/metrics/_classification.py:1471: UndefinedMetricWarning: Precision and F-score are ill-defined and being set to 0.0 in labels with no predicted samples. Use `zero_division` parameter to control this behavior.\n",
      "  _warn_prf(average, modifier, msg_start, len(result))\n",
      "/home/ec2-user/anaconda3/envs/tensorflow2_p310/lib/python3.10/site-packages/sklearn/metrics/_classification.py:1471: UndefinedMetricWarning: Precision and F-score are ill-defined and being set to 0.0 in labels with no predicted samples. Use `zero_division` parameter to control this behavior.\n",
      "  _warn_prf(average, modifier, msg_start, len(result))\n",
      "/home/ec2-user/anaconda3/envs/tensorflow2_p310/lib/python3.10/site-packages/sklearn/metrics/_classification.py:1471: UndefinedMetricWarning: Precision and F-score are ill-defined and being set to 0.0 in labels with no predicted samples. Use `zero_division` parameter to control this behavior.\n",
      "  _warn_prf(average, modifier, msg_start, len(result))\n"
     ]
    }
   ],
   "source": [
    "# Displaying results\n",
    "print(\"Confusion Matrix\")\n",
    "display(cm_df)\n",
    "print(f\"Accuracy Score : {acc_score}\")\n",
    "print(\"Classification Report\")\n",
    "print(classification_report(y_test,  SVC_predictions))\n"
   ]
  },
  {
   "cell_type": "markdown",
   "id": "0bfb29ad",
   "metadata": {},
   "source": [
    "# LogisticRegression"
   ]
  },
  {
   "cell_type": "code",
   "execution_count": 87,
   "id": "2cb4668e-43d0-4140-93c5-1a71e277ffc6",
   "metadata": {
    "tags": []
   },
   "outputs": [],
   "source": [
    "y = encoded_df['Heart Attack Risk']\n",
    "X = encoded_df.drop(['Exercise Hours Per Week',\n",
    "     'Stress Level',\n",
    "       'Sedentary Hours Per Day', 'Income', \n",
    "       'Physical Activity Days Per Week', 'Sleep Hours Per Day', 'Hemisphere',\n",
    "       'Heart Attack Risk',\n",
    "       'Country_Argentina', 'Country_Australia', 'Country_Brazil',\n",
    "       'Country_Canada', 'Country_China', 'Country_Colombia', 'Country_France',\n",
    "       'Country_Germany', 'Country_India', 'Country_Italy', 'Country_Japan',\n",
    "       'Country_New Zealand', 'Country_Nigeria', 'Country_South Africa',\n",
    "       'Country_South Korea', 'Country_Spain', 'Country_Thailand',\n",
    "       'Country_United Kingdom', 'Country_United States', 'Country_Vietnam',\n",
    "       'Continent_Africa', 'Continent_Asia', 'Continent_Australia',\n",
    "       'Continent_Europe', 'Continent_North America',\n",
    "       'Continent_South America', 'Diet_Average', 'Diet_Healthy',\n",
    "       'Diet_Unhealthy'], axis=1)"
   ]
  },
  {
   "cell_type": "code",
   "execution_count": 88,
   "id": "be526ad9-4f90-437c-953c-1ec906ee113f",
   "metadata": {
    "tags": []
   },
   "outputs": [
    {
     "data": {
      "text/plain": [
       "0    5624\n",
       "1    3139\n",
       "Name: Heart Attack Risk, dtype: int64"
      ]
     },
     "execution_count": 88,
     "metadata": {},
     "output_type": "execute_result"
    }
   ],
   "source": [
    "#balance labels y\n",
    "balance_labels = y.value_counts()\n",
    "balance_labels"
   ]
  },
  {
   "cell_type": "markdown",
   "id": "2f0e68a3",
   "metadata": {},
   "source": [
    "There seems to be a bit of imbalance, with more instances of \n",
    "class 0 compared to class 1. Depending on our model's sensitivity to class \n",
    "imbalances, we may want to consider techniques like (1) oversampling, \n",
    "(2) undersampling, or (3) using class weights during model training to handle this imbalance."
   ]
  },
  {
   "cell_type": "code",
   "execution_count": 89,
   "id": "ae4320ec-fdee-48cc-8293-e8eba881b081",
   "metadata": {
    "tags": []
   },
   "outputs": [
    {
     "data": {
      "text/plain": [
       "(7010, 15)"
      ]
     },
     "execution_count": 89,
     "metadata": {},
     "output_type": "execute_result"
    }
   ],
   "source": [
    "# Split the data using train_test_split\n",
    "# Assign a random_state of 1 to the function\n",
    "\n",
    "X_train, X_test, y_train, y_test = train_test_split(X, y, test_size=0.2, random_state=1)\n",
    "X_train.shape"
   ]
  },
  {
   "cell_type": "markdown",
   "id": "927a7c01",
   "metadata": {},
   "source": [
    "7010: This is the number of samples or instances in your training set. Each row represents a separate observation or data point in your dataset.\n",
    "\n",
    "26: This is the number of features or variables in your dataset. Each column in your dataset corresponds to a different feature or attribute that is used for training your machine learning model.\n",
    "\n",
    "So, in summary, you have 7010 training samples, and each sample has 26 features. This information is crucial for understanding the dimensions of your training data, especially when you're working with machine learning models that require input of specific shapes."
   ]
  },
  {
   "cell_type": "code",
   "execution_count": 90,
   "id": "e7f2f6e9-034f-4651-a960-efc591a70af5",
   "metadata": {
    "tags": []
   },
   "outputs": [],
   "source": [
    "# Import the LogisticRegression module from SKLearn\n",
    "from sklearn.linear_model import LogisticRegression\n",
    "\n",
    "# Instantiate the Logistic Regression model\n",
    "# Assign a random_state parameter of 1 to the model\n",
    "logistic_model = LogisticRegression(solver=\"lbfgs\",max_iter=200, random_state=1)"
   ]
  },
  {
   "cell_type": "code",
   "execution_count": 91,
   "id": "42c7f30e-6ca0-47c9-9350-0d7d3f49452e",
   "metadata": {
    "tags": []
   },
   "outputs": [
    {
     "name": "stderr",
     "output_type": "stream",
     "text": [
      "/home/ec2-user/anaconda3/envs/tensorflow2_p310/lib/python3.10/site-packages/sklearn/linear_model/_logistic.py:460: ConvergenceWarning: lbfgs failed to converge (status=1):\n",
      "STOP: TOTAL NO. of ITERATIONS REACHED LIMIT.\n",
      "\n",
      "Increase the number of iterations (max_iter) or scale the data as shown in:\n",
      "    https://scikit-learn.org/stable/modules/preprocessing.html\n",
      "Please also refer to the documentation for alternative solver options:\n",
      "    https://scikit-learn.org/stable/modules/linear_model.html#logistic-regression\n",
      "  n_iter_i = _check_optimize_result(\n"
     ]
    },
    {
     "data": {
      "text/html": [
       "<style>#sk-container-id-2 {color: black;}#sk-container-id-2 pre{padding: 0;}#sk-container-id-2 div.sk-toggleable {background-color: white;}#sk-container-id-2 label.sk-toggleable__label {cursor: pointer;display: block;width: 100%;margin-bottom: 0;padding: 0.3em;box-sizing: border-box;text-align: center;}#sk-container-id-2 label.sk-toggleable__label-arrow:before {content: \"▸\";float: left;margin-right: 0.25em;color: #696969;}#sk-container-id-2 label.sk-toggleable__label-arrow:hover:before {color: black;}#sk-container-id-2 div.sk-estimator:hover label.sk-toggleable__label-arrow:before {color: black;}#sk-container-id-2 div.sk-toggleable__content {max-height: 0;max-width: 0;overflow: hidden;text-align: left;background-color: #f0f8ff;}#sk-container-id-2 div.sk-toggleable__content pre {margin: 0.2em;color: black;border-radius: 0.25em;background-color: #f0f8ff;}#sk-container-id-2 input.sk-toggleable__control:checked~div.sk-toggleable__content {max-height: 200px;max-width: 100%;overflow: auto;}#sk-container-id-2 input.sk-toggleable__control:checked~label.sk-toggleable__label-arrow:before {content: \"▾\";}#sk-container-id-2 div.sk-estimator input.sk-toggleable__control:checked~label.sk-toggleable__label {background-color: #d4ebff;}#sk-container-id-2 div.sk-label input.sk-toggleable__control:checked~label.sk-toggleable__label {background-color: #d4ebff;}#sk-container-id-2 input.sk-hidden--visually {border: 0;clip: rect(1px 1px 1px 1px);clip: rect(1px, 1px, 1px, 1px);height: 1px;margin: -1px;overflow: hidden;padding: 0;position: absolute;width: 1px;}#sk-container-id-2 div.sk-estimator {font-family: monospace;background-color: #f0f8ff;border: 1px dotted black;border-radius: 0.25em;box-sizing: border-box;margin-bottom: 0.5em;}#sk-container-id-2 div.sk-estimator:hover {background-color: #d4ebff;}#sk-container-id-2 div.sk-parallel-item::after {content: \"\";width: 100%;border-bottom: 1px solid gray;flex-grow: 1;}#sk-container-id-2 div.sk-label:hover label.sk-toggleable__label {background-color: #d4ebff;}#sk-container-id-2 div.sk-serial::before {content: \"\";position: absolute;border-left: 1px solid gray;box-sizing: border-box;top: 0;bottom: 0;left: 50%;z-index: 0;}#sk-container-id-2 div.sk-serial {display: flex;flex-direction: column;align-items: center;background-color: white;padding-right: 0.2em;padding-left: 0.2em;position: relative;}#sk-container-id-2 div.sk-item {position: relative;z-index: 1;}#sk-container-id-2 div.sk-parallel {display: flex;align-items: stretch;justify-content: center;background-color: white;position: relative;}#sk-container-id-2 div.sk-item::before, #sk-container-id-2 div.sk-parallel-item::before {content: \"\";position: absolute;border-left: 1px solid gray;box-sizing: border-box;top: 0;bottom: 0;left: 50%;z-index: -1;}#sk-container-id-2 div.sk-parallel-item {display: flex;flex-direction: column;z-index: 1;position: relative;background-color: white;}#sk-container-id-2 div.sk-parallel-item:first-child::after {align-self: flex-end;width: 50%;}#sk-container-id-2 div.sk-parallel-item:last-child::after {align-self: flex-start;width: 50%;}#sk-container-id-2 div.sk-parallel-item:only-child::after {width: 0;}#sk-container-id-2 div.sk-dashed-wrapped {border: 1px dashed gray;margin: 0 0.4em 0.5em 0.4em;box-sizing: border-box;padding-bottom: 0.4em;background-color: white;}#sk-container-id-2 div.sk-label label {font-family: monospace;font-weight: bold;display: inline-block;line-height: 1.2em;}#sk-container-id-2 div.sk-label-container {text-align: center;}#sk-container-id-2 div.sk-container {/* jupyter's `normalize.less` sets `[hidden] { display: none; }` but bootstrap.min.css set `[hidden] { display: none !important; }` so we also need the `!important` here to be able to override the default hidden behavior on the sphinx rendered scikit-learn.org. See: https://github.com/scikit-learn/scikit-learn/issues/21755 */display: inline-block !important;position: relative;}#sk-container-id-2 div.sk-text-repr-fallback {display: none;}</style><div id=\"sk-container-id-2\" class=\"sk-top-container\"><div class=\"sk-text-repr-fallback\"><pre>LogisticRegression(max_iter=200, random_state=1)</pre><b>In a Jupyter environment, please rerun this cell to show the HTML representation or trust the notebook. <br />On GitHub, the HTML representation is unable to render, please try loading this page with nbviewer.org.</b></div><div class=\"sk-container\" hidden><div class=\"sk-item\"><div class=\"sk-estimator sk-toggleable\"><input class=\"sk-toggleable__control sk-hidden--visually\" id=\"sk-estimator-id-2\" type=\"checkbox\" checked><label for=\"sk-estimator-id-2\" class=\"sk-toggleable__label sk-toggleable__label-arrow\">LogisticRegression</label><div class=\"sk-toggleable__content\"><pre>LogisticRegression(max_iter=200, random_state=1)</pre></div></div></div></div></div>"
      ],
      "text/plain": [
       "LogisticRegression(max_iter=200, random_state=1)"
      ]
     },
     "execution_count": 91,
     "metadata": {},
     "output_type": "execute_result"
    }
   ],
   "source": [
    "# Fit the model using training data\n",
    "logistic_model.fit(X_train, y_train)"
   ]
  },
  {
   "cell_type": "code",
   "execution_count": 92,
   "id": "3f4b2632-88b1-4339-88c8-bbd11221e964",
   "metadata": {
    "tags": []
   },
   "outputs": [
    {
     "name": "stdout",
     "output_type": "stream",
     "text": [
      "Training Data Score: 0.6393723252496434\n",
      "Testing Data Score: 0.6514546491728466\n"
     ]
    }
   ],
   "source": [
    "print(f\"Training Data Score: {logistic_model.score(X_train, y_train)}\")\n",
    "print(f\"Testing Data Score: {logistic_model.score(X_test, y_test)}\")"
   ]
  },
  {
   "cell_type": "code",
   "execution_count": 93,
   "id": "6bf8de43-6a9e-4a2e-804c-3ba720d6cf4d",
   "metadata": {
    "tags": []
   },
   "outputs": [
    {
     "data": {
      "text/html": [
       "<div>\n",
       "<style scoped>\n",
       "    .dataframe tbody tr th:only-of-type {\n",
       "        vertical-align: middle;\n",
       "    }\n",
       "\n",
       "    .dataframe tbody tr th {\n",
       "        vertical-align: top;\n",
       "    }\n",
       "\n",
       "    .dataframe thead th {\n",
       "        text-align: right;\n",
       "    }\n",
       "</style>\n",
       "<table border=\"1\" class=\"dataframe\">\n",
       "  <thead>\n",
       "    <tr style=\"text-align: right;\">\n",
       "      <th></th>\n",
       "      <th>Prediction</th>\n",
       "      <th>Actual</th>\n",
       "    </tr>\n",
       "  </thead>\n",
       "  <tbody>\n",
       "    <tr>\n",
       "      <th>0</th>\n",
       "      <td>0</td>\n",
       "      <td>1</td>\n",
       "    </tr>\n",
       "    <tr>\n",
       "      <th>1</th>\n",
       "      <td>0</td>\n",
       "      <td>0</td>\n",
       "    </tr>\n",
       "    <tr>\n",
       "      <th>2</th>\n",
       "      <td>0</td>\n",
       "      <td>0</td>\n",
       "    </tr>\n",
       "    <tr>\n",
       "      <th>3</th>\n",
       "      <td>0</td>\n",
       "      <td>1</td>\n",
       "    </tr>\n",
       "    <tr>\n",
       "      <th>4</th>\n",
       "      <td>0</td>\n",
       "      <td>1</td>\n",
       "    </tr>\n",
       "    <tr>\n",
       "      <th>5</th>\n",
       "      <td>0</td>\n",
       "      <td>0</td>\n",
       "    </tr>\n",
       "    <tr>\n",
       "      <th>6</th>\n",
       "      <td>0</td>\n",
       "      <td>1</td>\n",
       "    </tr>\n",
       "    <tr>\n",
       "      <th>7</th>\n",
       "      <td>0</td>\n",
       "      <td>0</td>\n",
       "    </tr>\n",
       "    <tr>\n",
       "      <th>8</th>\n",
       "      <td>0</td>\n",
       "      <td>1</td>\n",
       "    </tr>\n",
       "    <tr>\n",
       "      <th>9</th>\n",
       "      <td>0</td>\n",
       "      <td>1</td>\n",
       "    </tr>\n",
       "  </tbody>\n",
       "</table>\n",
       "</div>"
      ],
      "text/plain": [
       "   Prediction  Actual\n",
       "0           0       1\n",
       "1           0       0\n",
       "2           0       0\n",
       "3           0       1\n",
       "4           0       1\n",
       "5           0       0\n",
       "6           0       1\n",
       "7           0       0\n",
       "8           0       1\n",
       "9           0       1"
      ]
     },
     "execution_count": 93,
     "metadata": {},
     "output_type": "execute_result"
    }
   ],
   "source": [
    "# Make a prediction using the testing data\n",
    "lr_predictions = logistic_model.predict(X_test)\n",
    "results = pd.DataFrame({\"Prediction\": lr_predictions, \"Actual\": y_test}).reset_index(drop = True)\n",
    "results.head(10)"
   ]
  },
  {
   "cell_type": "code",
   "execution_count": 94,
   "id": "4a3c3c10-8535-4671-a7c7-602cbc5810f4",
   "metadata": {
    "tags": []
   },
   "outputs": [
    {
     "data": {
      "text/plain": [
       "0.6514546491728466"
      ]
     },
     "execution_count": 94,
     "metadata": {},
     "output_type": "execute_result"
    }
   ],
   "source": [
    "accuracy_score(y_test, lr_predictions)"
   ]
  },
  {
   "cell_type": "markdown",
   "id": "a6385081",
   "metadata": {},
   "source": [
    "### Evaluation of the model’s performance by doing the following:\n",
    "\n",
    "* Calculate the accuracy score of the model.\n",
    "\n",
    "* Generate a confusion matrix.\n",
    "\n",
    "* Print the classification report."
   ]
  },
  {
   "cell_type": "code",
   "execution_count": 95,
   "id": "ddfbec0d-ab01-445a-8113-846d2e425f66",
   "metadata": {
    "tags": []
   },
   "outputs": [
    {
     "data": {
      "text/plain": [
       "0.6514546491728466"
      ]
     },
     "execution_count": 95,
     "metadata": {},
     "output_type": "execute_result"
    }
   ],
   "source": [
    "balanced_accuracy = accuracy_score(y_test, lr_predictions)\n",
    "balanced_accuracy"
   ]
  },
  {
   "cell_type": "code",
   "execution_count": 96,
   "id": "590f9ea5-c74c-4570-8a8f-ae7dc08399d5",
   "metadata": {
    "tags": []
   },
   "outputs": [],
   "source": [
    "# Calculating the confusion matrix\n",
    "cm = confusion_matrix(y_test, lr_predictions)\n",
    "cm_df = pd.DataFrame(\n",
    "    cm, index=[\"Actual 0\", \"Actual 1\"], columns=[\"Predicted 0\", \"Predicted 1\"]\n",
    ")\n",
    "\n",
    "# Calculating the accuracy score\n",
    "acc_score = accuracy_score(y_test, lr_predictions)"
   ]
  },
  {
   "cell_type": "code",
   "execution_count": 97,
   "id": "53194246-e912-419f-b851-4146fab81722",
   "metadata": {
    "tags": []
   },
   "outputs": [
    {
     "name": "stdout",
     "output_type": "stream",
     "text": [
      "Confusion Matrix\n"
     ]
    },
    {
     "data": {
      "text/html": [
       "<div>\n",
       "<style scoped>\n",
       "    .dataframe tbody tr th:only-of-type {\n",
       "        vertical-align: middle;\n",
       "    }\n",
       "\n",
       "    .dataframe tbody tr th {\n",
       "        vertical-align: top;\n",
       "    }\n",
       "\n",
       "    .dataframe thead th {\n",
       "        text-align: right;\n",
       "    }\n",
       "</style>\n",
       "<table border=\"1\" class=\"dataframe\">\n",
       "  <thead>\n",
       "    <tr style=\"text-align: right;\">\n",
       "      <th></th>\n",
       "      <th>Predicted 0</th>\n",
       "      <th>Predicted 1</th>\n",
       "    </tr>\n",
       "  </thead>\n",
       "  <tbody>\n",
       "    <tr>\n",
       "      <th>Actual 0</th>\n",
       "      <td>1142</td>\n",
       "      <td>0</td>\n",
       "    </tr>\n",
       "    <tr>\n",
       "      <th>Actual 1</th>\n",
       "      <td>611</td>\n",
       "      <td>0</td>\n",
       "    </tr>\n",
       "  </tbody>\n",
       "</table>\n",
       "</div>"
      ],
      "text/plain": [
       "          Predicted 0  Predicted 1\n",
       "Actual 0         1142            0\n",
       "Actual 1          611            0"
      ]
     },
     "metadata": {},
     "output_type": "display_data"
    },
    {
     "name": "stdout",
     "output_type": "stream",
     "text": [
      "Accuracy Score : 0.6514546491728466\n",
      "Classification Report\n",
      "              precision    recall  f1-score   support\n",
      "\n",
      "           0       0.65      1.00      0.79      1142\n",
      "           1       0.00      0.00      0.00       611\n",
      "\n",
      "    accuracy                           0.65      1753\n",
      "   macro avg       0.33      0.50      0.39      1753\n",
      "weighted avg       0.42      0.65      0.51      1753\n",
      "\n"
     ]
    },
    {
     "name": "stderr",
     "output_type": "stream",
     "text": [
      "/home/ec2-user/anaconda3/envs/tensorflow2_p310/lib/python3.10/site-packages/sklearn/metrics/_classification.py:1471: UndefinedMetricWarning: Precision and F-score are ill-defined and being set to 0.0 in labels with no predicted samples. Use `zero_division` parameter to control this behavior.\n",
      "  _warn_prf(average, modifier, msg_start, len(result))\n",
      "/home/ec2-user/anaconda3/envs/tensorflow2_p310/lib/python3.10/site-packages/sklearn/metrics/_classification.py:1471: UndefinedMetricWarning: Precision and F-score are ill-defined and being set to 0.0 in labels with no predicted samples. Use `zero_division` parameter to control this behavior.\n",
      "  _warn_prf(average, modifier, msg_start, len(result))\n",
      "/home/ec2-user/anaconda3/envs/tensorflow2_p310/lib/python3.10/site-packages/sklearn/metrics/_classification.py:1471: UndefinedMetricWarning: Precision and F-score are ill-defined and being set to 0.0 in labels with no predicted samples. Use `zero_division` parameter to control this behavior.\n",
      "  _warn_prf(average, modifier, msg_start, len(result))\n"
     ]
    }
   ],
   "source": [
    "# Displaying results\n",
    "print(\"Confusion Matrix\")\n",
    "display(cm_df)\n",
    "print(f\"Accuracy Score : {acc_score}\")\n",
    "print(\"Classification Report\")\n",
    "print(classification_report(y_test,  lr_predictions))"
   ]
  },
  {
   "cell_type": "markdown",
   "id": "80476d19",
   "metadata": {},
   "source": [
    "Let's break down what each of these means:\n",
    "\n",
    "True Negative (TN): 18673 instances were correctly predicted as class 0 (negative class).\n",
    "\n",
    "False Positive (FP): 86 instances were incorrectly predicted as class 1 (positive class) when they were actually class 0.\n",
    "\n",
    "False Negative (FN): 32 instances were incorrectly predicted as class 0 when they were actually class 1.\n",
    "\n",
    "True Positive (TP): 593 instances were correctly predicted as class 1."
   ]
  },
  {
   "cell_type": "markdown",
   "id": "d2508e42",
   "metadata": {},
   "source": [
    "Precision: Precision is the ratio of correctly predicted positive observations to the total predicted positives. In your case:\n",
    "\n",
    "Precision for class 0: 0.65 (65% of instances predicted as class 0 were actually class 0)\n",
    "Precision for class 1: 0.00 (None of the instances predicted as class 1 were actually class 1)\n",
    "Recall (Sensitivity): Recall is the ratio of correctly predicted positive observations to the all observations in actual class. In your case:\n",
    "\n",
    "Recall for class 0: 1.00 (All instances of class 0 were correctly predicted)\n",
    "Recall for class 1: 0.00 (None of the instances of class 1 were correctly predicted)\n",
    "F1-Score: F1-Score is the weighted average of Precision and Recall. It is a balance between precision and recall. In your case:\n",
    "\n",
    "F1-Score for class 0: 0.79 (Weighted average of precision and recall for class 0)\n",
    "F1-Score for class 1: 0.00 (Weighted average of precision and recall for class 1)\n",
    "Support: The number of actual occurrences of each class in the specified dataset. In your case:\n",
    "\n",
    "Support for class 0: 1142 instances\n",
    "Support for class 1: 611 instances\n",
    "Accuracy: Overall accuracy of the model on the testing data. In your case: 0.65 (65%)\n",
    "\n",
    "Macro Average: The average of precision, recall, and F1-Score for both classes, without considering class imbalance. In your case:\n",
    "\n",
    "Macro Average Precision: 0.33\n",
    "Macro Average Recall: 0.50\n",
    "Macro Average F1-Score: 0.39\n",
    "Weighted Average: The average of precision, recall, and F1-Score, weighted by the number of samples in each class. In your case:\n",
    "\n",
    "Weighted Average Precision: 0.42\n",
    "Weighted Average Recall: 0.65\n",
    "Weighted Average F1-Score: 0.51\n",
    "These metrics provide a more nuanced understanding of your model's performance for each class and overall. In this case, it seems that the model is performing well in predicting class 0 but struggling to predict class 1, as indicated by the low recall and F1-Score for class 1. Depending on the specific goals of your model, you may need to adjust the model or data preprocessing to improve its performance."
   ]
  },
  {
   "cell_type": "code",
   "execution_count": 98,
   "id": "f7d2040e-7598-4759-910a-c44c1fed2dbc",
   "metadata": {
    "tags": []
   },
   "outputs": [],
   "source": [
    "#Handling Imbalanced Data:\n",
    "\n",
    "logistic_model = LogisticRegression(class_weight='balanced', random_state=1)"
   ]
  },
  {
   "cell_type": "code",
   "execution_count": 99,
   "id": "39d5255f-22b1-4be0-8300-a5a368e6b0a0",
   "metadata": {
    "tags": []
   },
   "outputs": [
    {
     "name": "stdout",
     "output_type": "stream",
     "text": [
      "Collecting imbalanced-learn\n",
      "  Downloading imbalanced_learn-0.12.0-py3-none-any.whl.metadata (8.2 kB)\n",
      "Requirement already satisfied: numpy>=1.17.3 in /home/ec2-user/anaconda3/envs/tensorflow2_p310/lib/python3.10/site-packages (from imbalanced-learn) (1.26.1)\n",
      "Requirement already satisfied: scipy>=1.5.0 in /home/ec2-user/anaconda3/envs/tensorflow2_p310/lib/python3.10/site-packages (from imbalanced-learn) (1.11.3)\n",
      "Requirement already satisfied: scikit-learn>=1.0.2 in /home/ec2-user/anaconda3/envs/tensorflow2_p310/lib/python3.10/site-packages (from imbalanced-learn) (1.3.2)\n",
      "Requirement already satisfied: joblib>=1.1.1 in /home/ec2-user/anaconda3/envs/tensorflow2_p310/lib/python3.10/site-packages (from imbalanced-learn) (1.3.2)\n",
      "Requirement already satisfied: threadpoolctl>=2.0.0 in /home/ec2-user/anaconda3/envs/tensorflow2_p310/lib/python3.10/site-packages (from imbalanced-learn) (3.2.0)\n",
      "Downloading imbalanced_learn-0.12.0-py3-none-any.whl (257 kB)\n",
      "\u001b[2K   \u001b[90m━━━━━━━━━━━━━━━━━━━━━━━━━━━━━━━━━━━━━━━━\u001b[0m \u001b[32m257.7/257.7 kB\u001b[0m \u001b[31m2.5 MB/s\u001b[0m eta \u001b[36m0:00:00\u001b[0ma \u001b[36m0:00:01\u001b[0m\n",
      "\u001b[?25hInstalling collected packages: imbalanced-learn\n",
      "Successfully installed imbalanced-learn-0.12.0\n"
     ]
    }
   ],
   "source": [
    "!pip install imbalanced-learn"
   ]
  },
  {
   "cell_type": "code",
   "execution_count": 100,
   "id": "f70133b2-80d2-4e58-bd3d-0bcb86df37c7",
   "metadata": {
    "tags": []
   },
   "outputs": [],
   "source": [
    "from imblearn.over_sampling import SMOTE\n",
    "\n",
    "smote = SMOTE(random_state=1)\n",
    "X_resampled, y_resampled = smote.fit_resample(X_train, y_train)"
   ]
  },
  {
   "cell_type": "code",
   "execution_count": 101,
   "id": "1e9e5f31-3d83-4bef-bf38-de3f0141e096",
   "metadata": {
    "tags": []
   },
   "outputs": [
    {
     "name": "stderr",
     "output_type": "stream",
     "text": [
      "/home/ec2-user/anaconda3/envs/tensorflow2_p310/lib/python3.10/site-packages/sklearn/linear_model/_logistic.py:460: ConvergenceWarning: lbfgs failed to converge (status=1):\n",
      "STOP: TOTAL NO. of ITERATIONS REACHED LIMIT.\n",
      "\n",
      "Increase the number of iterations (max_iter) or scale the data as shown in:\n",
      "    https://scikit-learn.org/stable/modules/preprocessing.html\n",
      "Please also refer to the documentation for alternative solver options:\n",
      "    https://scikit-learn.org/stable/modules/linear_model.html#logistic-regression\n",
      "  n_iter_i = _check_optimize_result(\n"
     ]
    }
   ],
   "source": [
    "# Instantiate a new logistic regression model\n",
    "logistic_model_resampled = LogisticRegression(random_state=1)\n",
    "\n",
    "# Fit the model with the resampled data\n",
    "logistic_model_resampled.fit(X_resampled, y_resampled)\n",
    "\n",
    "# Make predictions on the testing data\n",
    "predictions_resampled = logistic_model_resampled.predict(X_test)"
   ]
  },
  {
   "cell_type": "code",
   "execution_count": 102,
   "id": "744f6d55-74d6-4a08-a3ca-e55370ce87aa",
   "metadata": {
    "tags": []
   },
   "outputs": [
    {
     "name": "stdout",
     "output_type": "stream",
     "text": [
      "Accuracy (Resampled): 0.5339418140330862\n",
      "Classification Report (Resampled):\n",
      "               precision    recall  f1-score   support\n",
      "\n",
      "           0       0.65      0.61      0.63      1142\n",
      "           1       0.35      0.38      0.37       611\n",
      "\n",
      "    accuracy                           0.53      1753\n",
      "   macro avg       0.50      0.50      0.50      1753\n",
      "weighted avg       0.55      0.53      0.54      1753\n",
      "\n",
      "Confusion Matrix (Resampled):\n",
      " [[701 441]\n",
      " [376 235]]\n"
     ]
    }
   ],
   "source": [
    "#Evaluate the performance\n",
    "accuracy_resampled = accuracy_score(y_test, predictions_resampled)\n",
    "classification_report_resampled = classification_report(y_test, predictions_resampled)\n",
    "confusion_matrix_resampled = confusion_matrix(y_test, predictions_resampled)\n",
    "\n",
    "print(\"Accuracy (Resampled):\", accuracy_resampled)\n",
    "print(\"Classification Report (Resampled):\\n\", classification_report_resampled)\n",
    "print(\"Confusion Matrix (Resampled):\\n\", confusion_matrix_resampled)"
   ]
  },
  {
   "cell_type": "markdown",
   "id": "cfd0adc4",
   "metadata": {},
   "source": [
    "# GridSearchCV"
   ]
  },
  {
   "cell_type": "code",
   "execution_count": 103,
   "id": "2414b082-2baf-462f-ae90-b1c3181a6919",
   "metadata": {
    "tags": []
   },
   "outputs": [],
   "source": [
    "y = encoded_df['Heart Attack Risk']\n",
    "X = encoded_df.drop(['Heart Attack Risk'], axis=1)"
   ]
  },
  {
   "cell_type": "code",
   "execution_count": 111,
   "id": "6926c402-e821-4918-96da-5e6b6be20d22",
   "metadata": {
    "tags": []
   },
   "outputs": [
    {
     "name": "stdout",
     "output_type": "stream",
     "text": [
      "Best Parameters: {'knn__leaf_size': 15, 'knn__n_neighbors': 9, 'knn__weights': 'distance'}\n",
      "Best Model Score on Training Data: 1.0\n",
      "Training Data Score: 1.0\n",
      "Testing Data Score: 0.5966913861950941\n"
     ]
    }
   ],
   "source": [
    "from sklearn.model_selection import GridSearchCV\n",
    "from sklearn.neighbors import KNeighborsClassifier\n",
    "from sklearn.pipeline import Pipeline\n",
    "from sklearn.preprocessing import MinMaxScaler\n",
    "from sklearn.model_selection import train_test_split\n",
    "\n",
    "# Assuming you already have X and y defined\n",
    "\n",
    "# Splitting the data into training and testing sets\n",
    "X_train, X_test, y_train, y_test = train_test_split(X, y, test_size=0.2, random_state=42)\n",
    "\n",
    "# Creating StandardScaler instance\n",
    "scaler = MinMaxScaler()\n",
    "\n",
    "# Fitting StandardScaler\n",
    "X_train_scaled = scaler.fit_transform(X_train)\n",
    "X_test_scaled = scaler.transform(X_test)\n",
    "\n",
    "# Define the pipeline including MinMaxScaler and KNeighborsClassifier\n",
    "knn_pipe = Pipeline([\n",
    "    ('mms', MinMaxScaler()),\n",
    "    ('knn', KNeighborsClassifier())\n",
    "])\n",
    "\n",
    "# Define the parameters grid for GridSearchCV\n",
    "params = [{\n",
    "    'knn__n_neighbors': [3, 5, 7, 9],\n",
    "    'knn__weights': ['uniform', 'distance'],\n",
    "    'knn__leaf_size': [15, 20]\n",
    "}]\n",
    "\n",
    "# Initialize GridSearchCV with the pipeline, parameters, scoring, and cross-validation\n",
    "gs_knn = GridSearchCV(\n",
    "    knn_pipe,\n",
    "    param_grid=params,\n",
    "    scoring='accuracy',\n",
    "    cv=5\n",
    ")\n",
    "\n",
    "# Fit GridSearchCV on the training data\n",
    "gs_knn.fit(X_train_scaled, y_train)\n",
    "\n",
    "# Print the best parameters found by GridSearchCV\n",
    "print(\"Best Parameters:\", gs_knn.best_params_)\n",
    "\n",
    "# Find the score of the best model on the training data\n",
    "print(\"Best Model Score on Training Data:\", gs_knn.score(X_train_scaled, y_train))\n",
    "print(f\"Training Data Score: {gs_knn.score(X_train_scaled, y_train)}\")\n",
    "print(f\"Testing Data Score: {gs_knn.score(X_test_scaled, y_test)}\")"
   ]
  },
  {
   "cell_type": "code",
   "execution_count": 113,
   "id": "43815a96-a8c4-4bfa-9df6-08cf4807b3c6",
   "metadata": {
    "tags": []
   },
   "outputs": [],
   "source": [
    "gs_knn_y_pred = gs_knn.predict(X_test_scaled)"
   ]
  },
  {
   "cell_type": "code",
   "execution_count": 114,
   "id": "0d63452b-1565-40f2-a084-f0ed06e65438",
   "metadata": {
    "tags": []
   },
   "outputs": [],
   "source": [
    "# Calculating the confusion matrix\n",
    "cm = confusion_matrix(y_test, gs_knn_y_pred)\n",
    "cm_df = pd.DataFrame(\n",
    "    cm, index=[\"Actual 0\", \"Actual 1\"], columns=[\"Predicted 0\", \"Predicted 1\"]\n",
    ")\n",
    "\n",
    "# Calculating the accuracy score\n",
    "acc_score = accuracy_score(y_test, gs_knn_y_pred)"
   ]
  },
  {
   "cell_type": "code",
   "execution_count": 115,
   "id": "ef016bde-79dd-43c2-9a6c-50cf827f16c3",
   "metadata": {
    "tags": []
   },
   "outputs": [
    {
     "name": "stdout",
     "output_type": "stream",
     "text": [
      "Confusion Matrix\n"
     ]
    },
    {
     "data": {
      "text/html": [
       "<div>\n",
       "<style scoped>\n",
       "    .dataframe tbody tr th:only-of-type {\n",
       "        vertical-align: middle;\n",
       "    }\n",
       "\n",
       "    .dataframe tbody tr th {\n",
       "        vertical-align: top;\n",
       "    }\n",
       "\n",
       "    .dataframe thead th {\n",
       "        text-align: right;\n",
       "    }\n",
       "</style>\n",
       "<table border=\"1\" class=\"dataframe\">\n",
       "  <thead>\n",
       "    <tr style=\"text-align: right;\">\n",
       "      <th></th>\n",
       "      <th>Predicted 0</th>\n",
       "      <th>Predicted 1</th>\n",
       "    </tr>\n",
       "  </thead>\n",
       "  <tbody>\n",
       "    <tr>\n",
       "      <th>Actual 0</th>\n",
       "      <td>933</td>\n",
       "      <td>192</td>\n",
       "    </tr>\n",
       "    <tr>\n",
       "      <th>Actual 1</th>\n",
       "      <td>515</td>\n",
       "      <td>113</td>\n",
       "    </tr>\n",
       "  </tbody>\n",
       "</table>\n",
       "</div>"
      ],
      "text/plain": [
       "          Predicted 0  Predicted 1\n",
       "Actual 0          933          192\n",
       "Actual 1          515          113"
      ]
     },
     "metadata": {},
     "output_type": "display_data"
    },
    {
     "name": "stdout",
     "output_type": "stream",
     "text": [
      "Accuracy Score : 0.5966913861950941\n",
      "Classification Report\n",
      "              precision    recall  f1-score   support\n",
      "\n",
      "           0       0.64      0.83      0.73      1125\n",
      "           1       0.37      0.18      0.24       628\n",
      "\n",
      "    accuracy                           0.60      1753\n",
      "   macro avg       0.51      0.50      0.48      1753\n",
      "weighted avg       0.55      0.60      0.55      1753\n",
      "\n"
     ]
    }
   ],
   "source": [
    "# Displaying results\n",
    "print(\"Confusion Matrix\")\n",
    "display(cm_df)\n",
    "print(f\"Accuracy Score : {acc_score}\")\n",
    "print(\"Classification Report\")\n",
    "print(classification_report(y_test,  gs_knn_y_pred))"
   ]
  },
  {
   "cell_type": "markdown",
   "id": "c9201ec1",
   "metadata": {},
   "source": [
    "# Grid Search with Logistic Regression"
   ]
  },
  {
   "cell_type": "code",
   "execution_count": 105,
   "id": "2ab3cc38-a76a-4bb0-903f-5919049108c7",
   "metadata": {},
   "outputs": [],
   "source": [
    "y = encoded_df['Heart Attack Risk']\n",
    "X = encoded_df.drop(['Heart Attack Risk'], axis=1)"
   ]
  },
  {
   "cell_type": "code",
   "execution_count": 106,
   "id": "f2f0e669-365a-4c86-92c5-8802930f30fb",
   "metadata": {},
   "outputs": [
    {
     "name": "stderr",
     "output_type": "stream",
     "text": [
      "/home/ec2-user/anaconda3/envs/tensorflow2_p310/lib/python3.10/site-packages/numpy/core/fromnumeric.py:86: FutureWarning: In a future version, DataFrame.min(axis=None) will return a scalar min over the entire DataFrame. To retain the old behavior, use 'frame.min(axis=0)' or just 'frame.min()'\n",
      "  return reduction(axis=axis, out=out, **passkwargs)\n",
      "/home/ec2-user/anaconda3/envs/tensorflow2_p310/lib/python3.10/site-packages/numpy/core/fromnumeric.py:86: FutureWarning: In a future version, DataFrame.max(axis=None) will return a scalar max over the entire DataFrame. To retain the old behavior, use 'frame.max(axis=0)' or just 'frame.max()'\n",
      "  return reduction(axis=axis, out=out, **passkwargs)\n",
      "/home/ec2-user/anaconda3/envs/tensorflow2_p310/lib/python3.10/site-packages/numpy/core/fromnumeric.py:86: FutureWarning: In a future version, DataFrame.min(axis=None) will return a scalar min over the entire DataFrame. To retain the old behavior, use 'frame.min(axis=0)' or just 'frame.min()'\n",
      "  return reduction(axis=axis, out=out, **passkwargs)\n"
     ]
    }
   ],
   "source": [
    "X = (X-np.min(X))/(np.max(X)-np.min(X))"
   ]
  },
  {
   "cell_type": "code",
   "execution_count": 107,
   "id": "d33480d9-26c2-41b5-b07c-3f6ab02065d2",
   "metadata": {},
   "outputs": [],
   "source": [
    "X_train, X_test, y_train, y_test = train_test_split(X, y, test_size=0.3, random_state=42)"
   ]
  },
  {
   "cell_type": "code",
   "execution_count": 108,
   "id": "2a3bd11a",
   "metadata": {},
   "outputs": [
    {
     "name": "stdout",
     "output_type": "stream",
     "text": [
      "tuned hpyerparameters :(best parameters)  {'C': 0.001, 'penalty': 'l2'}\n",
      "accuracy : 0.6411802370995425\n"
     ]
    },
    {
     "name": "stderr",
     "output_type": "stream",
     "text": [
      "/home/ec2-user/anaconda3/envs/tensorflow2_p310/lib/python3.10/site-packages/sklearn/model_selection/_validation.py:425: FitFailedWarning: \n",
      "70 fits failed out of a total of 140.\n",
      "The score on these train-test partitions for these parameters will be set to nan.\n",
      "If these failures are not expected, you can try to debug them by setting error_score='raise'.\n",
      "\n",
      "Below are more details about the failures:\n",
      "--------------------------------------------------------------------------------\n",
      "70 fits failed with the following error:\n",
      "Traceback (most recent call last):\n",
      "  File \"/home/ec2-user/anaconda3/envs/tensorflow2_p310/lib/python3.10/site-packages/sklearn/model_selection/_validation.py\", line 729, in _fit_and_score\n",
      "    estimator.fit(X_train, y_train, **fit_params)\n",
      "  File \"/home/ec2-user/anaconda3/envs/tensorflow2_p310/lib/python3.10/site-packages/sklearn/base.py\", line 1152, in wrapper\n",
      "    return fit_method(estimator, *args, **kwargs)\n",
      "  File \"/home/ec2-user/anaconda3/envs/tensorflow2_p310/lib/python3.10/site-packages/sklearn/linear_model/_logistic.py\", line 1169, in fit\n",
      "    solver = _check_solver(self.solver, self.penalty, self.dual)\n",
      "  File \"/home/ec2-user/anaconda3/envs/tensorflow2_p310/lib/python3.10/site-packages/sklearn/linear_model/_logistic.py\", line 56, in _check_solver\n",
      "    raise ValueError(\n",
      "ValueError: Solver lbfgs supports only 'l2' or 'none' penalties, got l1 penalty.\n",
      "\n",
      "  warnings.warn(some_fits_failed_message, FitFailedWarning)\n",
      "/home/ec2-user/anaconda3/envs/tensorflow2_p310/lib/python3.10/site-packages/sklearn/model_selection/_search.py:979: UserWarning: One or more of the test scores are non-finite: [       nan 0.64118024        nan 0.64118024        nan 0.6410171\n",
      "        nan 0.64052851        nan 0.64052851        nan 0.64052851\n",
      "        nan 0.64052851]\n",
      "  warnings.warn(\n"
     ]
    }
   ],
   "source": [
    "# Grid search cross validation\n",
    "from sklearn.model_selection import GridSearchCV\n",
    "from sklearn.linear_model import LogisticRegression\n",
    "grid={\"C\":np.logspace(-3,3,7), \"penalty\":[\"l1\",\"l2\"]}# l1 lasso l2 ridge\n",
    "logreg=LogisticRegression()\n",
    "logreg_cv=GridSearchCV(logreg,grid,cv=10)\n",
    "logreg_cv.fit(X_train,y_train)\n",
    "\n",
    "print(\"tuned hpyerparameters :(best parameters) \",logreg_cv.best_params_)\n",
    "print(\"accuracy :\",logreg_cv.best_score_)"
   ]
  },
  {
   "cell_type": "code",
   "execution_count": 109,
   "id": "22ad8689",
   "metadata": {
    "tags": []
   },
   "outputs": [
    {
     "name": "stdout",
     "output_type": "stream",
     "text": [
      "score 0.6435907189045265\n"
     ]
    }
   ],
   "source": [
    "logreg2=LogisticRegression(C=1,penalty=\"l2\")\n",
    "logreg2.fit(X_train,y_train)\n",
    "print(\"score\",logreg2.score(X_test,y_test))"
   ]
  }
 ],
 "metadata": {
  "kernelspec": {
   "display_name": "conda_tensorflow2_p310",
   "language": "python",
   "name": "conda_tensorflow2_p310"
  },
  "language_info": {
   "codemirror_mode": {
    "name": "ipython",
    "version": 3
   },
   "file_extension": ".py",
   "mimetype": "text/x-python",
   "name": "python",
   "nbconvert_exporter": "python",
   "pygments_lexer": "ipython3",
   "version": "3.10.13"
  }
 },
 "nbformat": 4,
 "nbformat_minor": 5
}
